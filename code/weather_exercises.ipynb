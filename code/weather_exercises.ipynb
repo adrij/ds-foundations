{
 "cells": [
  {
   "cell_type": "markdown",
   "metadata": {},
   "source": [
    "\n",
    "## 1. Scrape your [local weather](http://forecast.weather.gov/MapClick.php?lat=40.7142&lon=-74.0059) forecast."
   ]
  },
  {
   "cell_type": "code",
   "execution_count": 1,
   "metadata": {
    "collapsed": false
   },
   "outputs": [],
   "source": [
    "from bs4 import BeautifulSoup\n",
    "import requests\n",
    "\n",
    "url=\"http://www.accuweather.com/en/de/berlin/10178/daily-weather-forecast/178087\"\n",
    "page=requests.get(url)\n",
    "soup = BeautifulSoup(page.content, 'html.parser')\n"
   ]
  },
  {
   "cell_type": "markdown",
   "metadata": {},
   "source": [
    "## 2. What is today's weather like?"
   ]
  },
  {
   "cell_type": "code",
   "execution_count": 3,
   "metadata": {
    "collapsed": false
   },
   "outputs": [
    {
     "name": "stdout",
     "output_type": "stream",
     "text": [
      "The weather today (Apr 9) is: A moonlit sky. Maximum temperature: 8 C.\n"
     ]
    }
   ],
   "source": [
    "divTag = soup.find_all('div', id= \"feed-tabs\")\n",
    "\n",
    "for tags in divTag:\n",
    "    days_all=tags.find_all('h4')\n",
    "    days= [tag.contents[0] for tag in days_all]\n",
    "    large_temp_all=tags.find_all('span', class_='large-temp')\n",
    "    large_temp=[tag.contents for tag in large_temp_all]\n",
    "    cond_all= tags.find_all('span', class_= \"cond\")\n",
    "    condition = [tag.contents[0] for tag in cond_all]\n",
    "\n",
    "large_temp_new=[]\n",
    "\n",
    "import re\n",
    "\n",
    "for i in large_temp:\n",
    "    value=i[0]\n",
    "    large_temp_new.append(int(re.findall(r'\\d+', value)[0]))\n",
    "    \n",
    "\n",
    "print (\"The weather today ({}) is: {}. Maximum temperature: {} C.\".format(days[0],condition[0],large_temp_new[0]))    \n",
    "    \n"
   ]
  },
  {
   "cell_type": "markdown",
   "metadata": {},
   "source": [
    "## 3. Extract the longer weather description for each forecast."
   ]
  },
  {
   "cell_type": "code",
   "execution_count": 4,
   "metadata": {
    "collapsed": false
   },
   "outputs": [
    {
     "data": {
      "text/html": [
       "<div>\n",
       "<table border=\"1\" class=\"dataframe\">\n",
       "  <thead>\n",
       "    <tr style=\"text-align: right;\">\n",
       "      <th></th>\n",
       "      <th>Days</th>\n",
       "      <th>Description</th>\n",
       "    </tr>\n",
       "  </thead>\n",
       "  <tbody>\n",
       "    <tr>\n",
       "      <th>0</th>\n",
       "      <td>Apr 9</td>\n",
       "      <td>A moonlit sky</td>\n",
       "    </tr>\n",
       "    <tr>\n",
       "      <th>1</th>\n",
       "      <td>Apr 10</td>\n",
       "      <td>Mostly cloudy, a t-storm; mild</td>\n",
       "    </tr>\n",
       "    <tr>\n",
       "      <th>2</th>\n",
       "      <td>Apr 11</td>\n",
       "      <td>A morning shower; cooler</td>\n",
       "    </tr>\n",
       "    <tr>\n",
       "      <th>3</th>\n",
       "      <td>Apr 12</td>\n",
       "      <td>Chilly with periods of rain</td>\n",
       "    </tr>\n",
       "    <tr>\n",
       "      <th>4</th>\n",
       "      <td>Apr 13</td>\n",
       "      <td>A couple of showers</td>\n",
       "    </tr>\n",
       "  </tbody>\n",
       "</table>\n",
       "</div>"
      ],
      "text/plain": [
       "     Days                     Description\n",
       "0   Apr 9                   A moonlit sky\n",
       "1  Apr 10  Mostly cloudy, a t-storm; mild\n",
       "2  Apr 11        A morning shower; cooler\n",
       "3  Apr 12     Chilly with periods of rain\n",
       "4  Apr 13             A couple of showers"
      ]
     },
     "execution_count": 4,
     "metadata": {},
     "output_type": "execute_result"
    }
   ],
   "source": [
    "import pandas as pd\n",
    "import numpy as np\n",
    "\n",
    "matrix = np.matrix([days,condition,large_temp_new]).transpose()\n",
    "\n",
    "df = pd.DataFrame(data=matrix, columns=['Days','Description','Max_temperature'])\n",
    "df[['Days', 'Description']]"
   ]
  },
  {
   "cell_type": "markdown",
   "metadata": {},
   "source": [
    "## 4. Extract the numeric temperature for all the forecasts."
   ]
  },
  {
   "cell_type": "code",
   "execution_count": 5,
   "metadata": {
    "collapsed": false
   },
   "outputs": [
    {
     "data": {
      "text/html": [
       "<div>\n",
       "<table border=\"1\" class=\"dataframe\">\n",
       "  <thead>\n",
       "    <tr style=\"text-align: right;\">\n",
       "      <th></th>\n",
       "      <th>Days</th>\n",
       "      <th>Max_temperature</th>\n",
       "    </tr>\n",
       "  </thead>\n",
       "  <tbody>\n",
       "    <tr>\n",
       "      <th>0</th>\n",
       "      <td>Apr 9</td>\n",
       "      <td>8</td>\n",
       "    </tr>\n",
       "    <tr>\n",
       "      <th>1</th>\n",
       "      <td>Apr 10</td>\n",
       "      <td>18</td>\n",
       "    </tr>\n",
       "    <tr>\n",
       "      <th>2</th>\n",
       "      <td>Apr 11</td>\n",
       "      <td>11</td>\n",
       "    </tr>\n",
       "    <tr>\n",
       "      <th>3</th>\n",
       "      <td>Apr 12</td>\n",
       "      <td>10</td>\n",
       "    </tr>\n",
       "    <tr>\n",
       "      <th>4</th>\n",
       "      <td>Apr 13</td>\n",
       "      <td>11</td>\n",
       "    </tr>\n",
       "  </tbody>\n",
       "</table>\n",
       "</div>"
      ],
      "text/plain": [
       "     Days Max_temperature\n",
       "0   Apr 9               8\n",
       "1  Apr 10              18\n",
       "2  Apr 11              11\n",
       "3  Apr 12              10\n",
       "4  Apr 13              11"
      ]
     },
     "execution_count": 5,
     "metadata": {},
     "output_type": "execute_result"
    }
   ],
   "source": [
    "df[['Days', 'Max_temperature']]"
   ]
  },
  {
   "cell_type": "markdown",
   "metadata": {},
   "source": [
    "## 5. Store the Day, Short Forecast, Numeric Temperature, High or Low, and extended forecast in a data structure of your choice. Export your final data to a [pickle object](https://docs.python.org/3/library/pickle.html)."
   ]
  },
  {
   "cell_type": "code",
   "execution_count": 6,
   "metadata": {
    "collapsed": false
   },
   "outputs": [],
   "source": [
    "df.to_pickle(\"weather.pkl\")"
   ]
  }
 ],
 "metadata": {
  "anaconda-cloud": {},
  "kernelspec": {
   "display_name": "Python [default]",
   "language": "python",
   "name": "python3"
  },
  "language_info": {
   "codemirror_mode": {
    "name": "ipython",
    "version": 3
   },
   "file_extension": ".py",
   "mimetype": "text/x-python",
   "name": "python",
   "nbconvert_exporter": "python",
   "pygments_lexer": "ipython3",
   "version": "3.5.2"
  }
 },
 "nbformat": 4,
 "nbformat_minor": 1
}
