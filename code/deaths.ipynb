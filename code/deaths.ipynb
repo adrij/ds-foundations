{
 "cells": [
  {
   "cell_type": "markdown",
   "metadata": {},
   "source": [
    "## US Gun Deaths Data Set\n",
    "\n",
    "[Original article by FiveThirtyEight about Guns](http://fivethirtyeight.com/features/gun-deaths/)\n",
    "\n",
    "The data set contains cleaned gun-death data from the CDC for 2012-2014."
   ]
  },
  {
   "cell_type": "markdown",
   "metadata": {},
   "source": [
    "### Assignment\n",
    "\n",
    "- Import the csv\n",
    "- Read it into a list\n",
    "- Preview the first 5 entries"
   ]
  },
  {
   "cell_type": "code",
   "execution_count": 1,
   "metadata": {
    "collapsed": false
   },
   "outputs": [
    {
     "name": "stdout",
     "output_type": "stream",
     "text": [
      "[['', 'year', 'month', 'intent', 'police', 'sex', 'age', 'race', 'hispanic', 'place', 'education'], ['1', '2012', '01', 'Suicide', '0', 'M', '34', 'Asian/Pacific Islander', '100', 'Home', '4'], ['2', '2012', '01', 'Suicide', '0', 'F', '21', 'White', '100', 'Street', '3'], ['3', '2012', '01', 'Suicide', '0', 'M', '60', 'White', '100', 'Other specified', '4'], ['4', '2012', '02', 'Suicide', '0', 'M', '64', 'White', '100', 'Home', '4']]\n"
     ]
    }
   ],
   "source": [
    "import csv\n",
    "with open('guns.csv', newline='') as csvfile:\n",
    "    f=list(csv.reader(csvfile))\n",
    "    print (f[:5])\n",
    "    "
   ]
  },
  {
   "cell_type": "markdown",
   "metadata": {},
   "source": [
    "### Assignment\n",
    "\n",
    "- Remove the header row from the list of lists\n",
    "- Save it to a separate list"
   ]
  },
  {
   "cell_type": "code",
   "execution_count": 2,
   "metadata": {
    "collapsed": false
   },
   "outputs": [
    {
     "name": "stdout",
     "output_type": "stream",
     "text": [
      "['', 'year', 'month', 'intent', 'police', 'sex', 'age', 'race', 'hispanic', 'place', 'education']\n"
     ]
    }
   ],
   "source": [
    "header=f[0]\n",
    "data=f[1:]\n",
    "print (header)"
   ]
  },
  {
   "cell_type": "markdown",
   "metadata": {},
   "source": [
    "### Assignment\n",
    "\n",
    "- Count the number of gun deaths by year\n",
    "    - It may help to do a list comprehension to get the years\n",
    "    - Iterate over the years with a dictionary to keep count\n",
    "    \n",
    "    "
   ]
  },
  {
   "cell_type": "code",
   "execution_count": 3,
   "metadata": {
    "collapsed": false
   },
   "outputs": [
    {
     "name": "stdout",
     "output_type": "stream",
     "text": [
      "{'2012': 33563, '2013': 33636, '2014': 33599}\n"
     ]
    }
   ],
   "source": [
    "dc={}\n",
    "for line in data:\n",
    "    key=line[1]\n",
    "    if key in dc.keys():        \n",
    "        dc[key]=dc[key]+1\n",
    "    else:\n",
    "        dc[key]=1\n",
    "print (dc)"
   ]
  },
  {
   "cell_type": "markdown",
   "metadata": {},
   "source": [
    "### Assignment\n",
    "\n",
    "- Import the datetime library\n",
    "- Create a new list called \"dates\" with values from the data (set all the day values to 1)    \n",
    "- Count they number of gun deaths by month and year\n",
    "\n"
   ]
  },
  {
   "cell_type": "code",
   "execution_count": 5,
   "metadata": {
    "collapsed": false
   },
   "outputs": [
    {
     "name": "stdout",
     "output_type": "stream",
     "text": [
      "2012-01-01 : 2758\n",
      "2012-02-01 : 2357\n",
      "2012-03-01 : 2743\n",
      "2012-04-01 : 2795\n",
      "2012-05-01 : 2999\n",
      "2012-06-01 : 2826\n",
      "2012-07-01 : 3026\n",
      "2012-08-01 : 2954\n",
      "2012-09-01 : 2852\n",
      "2012-10-01 : 2733\n",
      "2012-11-01 : 2729\n",
      "2012-12-01 : 2791\n",
      "2013-01-01 : 2864\n",
      "2013-02-01 : 2375\n",
      "2013-03-01 : 2862\n",
      "2013-04-01 : 2798\n",
      "2013-05-01 : 2806\n",
      "2013-06-01 : 2920\n",
      "2013-07-01 : 3079\n",
      "2013-08-01 : 2859\n",
      "2013-09-01 : 2742\n",
      "2013-10-01 : 2808\n",
      "2013-11-01 : 2758\n",
      "2013-12-01 : 2765\n",
      "2014-01-01 : 2651\n",
      "2014-02-01 : 2361\n",
      "2014-03-01 : 2684\n",
      "2014-04-01 : 2862\n",
      "2014-05-01 : 2864\n",
      "2014-06-01 : 2931\n",
      "2014-07-01 : 2884\n",
      "2014-08-01 : 2970\n",
      "2014-09-01 : 2914\n",
      "2014-10-01 : 2865\n",
      "2014-11-01 : 2756\n",
      "2014-12-01 : 2857\n"
     ]
    }
   ],
   "source": [
    "import datetime as dt\n",
    "dates=[]  #list for the dates\n",
    "counts={} #dictionary for dates and death counts\n",
    "for line in data:\n",
    "    dat=dt.date(int(line[1]),int(line[2]),1)\n",
    "    if dat not in dates:\n",
    "        dates.append(dat)\n",
    "        counts[dat]=1\n",
    "    else:\n",
    "        counts[dat]=counts[dat]+1\n",
    "#print (dates)\n",
    "for key in sorted(counts):\n",
    "    print (\"%s : %s\" %(key, counts[key]))"
   ]
  },
  {
   "cell_type": "markdown",
   "metadata": {},
   "source": [
    "### Assignment\n",
    "\n",
    "- Find the number of gun deaths by Sex\n",
    "- Find the number of gun deaths by Race\n",
    "- How does this compare to the overall population in the US?"
   ]
  },
  {
   "cell_type": "code",
   "execution_count": 44,
   "metadata": {
    "collapsed": false
   },
   "outputs": [
    {
     "name": "stdout",
     "output_type": "stream",
     "text": [
      "sex\n",
      "F    14449\n",
      "M    86349\n",
      "Name: , dtype: int64\n"
     ]
    }
   ],
   "source": [
    "import pandas as pd\n",
    "import numpy as np\n",
    "\n",
    "df=pd.DataFrame(data,columns=header)\n",
    "sex=df.groupby('sex').count()\n",
    "print(sex.iloc[:,0])  #number of gun deaths by Sex"
   ]
  },
  {
   "cell_type": "code",
   "execution_count": 89,
   "metadata": {
    "collapsed": false
   },
   "outputs": [
    {
     "name": "stdout",
     "output_type": "stream",
     "text": [
      "race\n",
      "Asian/Pacific Islander             1326\n",
      "Black                             23296\n",
      "Hispanic                           9022\n",
      "Native American/Native Alaskan      917\n",
      "White                             66237\n",
      "dtype: int64\n"
     ]
    }
   ],
   "source": [
    "race=df.groupby('race').size()\n",
    "total=df.count().iloc[0]\n",
    "print (race)  #number of gun deaths by race"
   ]
  },
  {
   "cell_type": "code",
   "execution_count": 120,
   "metadata": {
    "collapsed": false
   },
   "outputs": [
    {
     "name": "stdout",
     "output_type": "stream",
     "text": [
      "                                death  ratio_death\n",
      "race                                              \n",
      "Asian/Pacific Islander           1326     0.013155\n",
      "Black                           23296     0.231116\n",
      "Hispanic                         9022     0.089506\n",
      "Native American/Native Alaskan    917     0.009097\n",
      "White                           66237     0.657126\n"
     ]
    }
   ],
   "source": [
    "df_race=pd.DataFrame(race,columns=[\"death\"])\n",
    "df_race[\"ratio_death\"]=df_race[\"death\"]/total\n",
    "print (df_race)"
   ]
  },
  {
   "cell_type": "code",
   "execution_count": 95,
   "metadata": {
    "collapsed": true
   },
   "outputs": [],
   "source": [
    "mapping = { \"Asian/Pacific Islander\": 15159516 + 674625, \"Native American/Native Alaskan\": 3739506, \"Black\": 40250635, \"Hispanic\": 44618105, \"White\": 197318956 }"
   ]
  },
  {
   "cell_type": "code",
   "execution_count": 118,
   "metadata": {
    "collapsed": false
   },
   "outputs": [
    {
     "name": "stdout",
     "output_type": "stream",
     "text": [
      "                                population  ratio_population\n",
      "race                                                        \n",
      "Asian/Pacific Islander            15834141          0.052472\n",
      "Native American/Native Alaskan     3739506          0.012392\n",
      "Hispanic                          44618105          0.147859\n",
      "Black                             40250635          0.133386\n",
      "White                            197318956          0.653891\n"
     ]
    }
   ],
   "source": [
    "population = pd.DataFrame()\n",
    "population['race'] = mapping.keys()\n",
    "population['population'] = mapping.values()\n",
    "population['ratio_population']=population['population']/population['population'].sum()  \n",
    "population.set_index(\"race\", inplace=True)\n",
    "print(population)\n"
   ]
  },
  {
   "cell_type": "code",
   "execution_count": 121,
   "metadata": {
    "collapsed": false
   },
   "outputs": [
    {
     "name": "stdout",
     "output_type": "stream",
     "text": [
      "                                death  ratio_death  population  \\\n",
      "race                                                             \n",
      "Asian/Pacific Islander           1326     0.013155    15834141   \n",
      "Native American/Native Alaskan    917     0.009097     3739506   \n",
      "Hispanic                         9022     0.089506    44618105   \n",
      "Black                           23296     0.231116    40250635   \n",
      "White                           66237     0.657126   197318956   \n",
      "\n",
      "                                ratio_population  \n",
      "race                                              \n",
      "Asian/Pacific Islander                  0.052472  \n",
      "Native American/Native Alaskan          0.012392  \n",
      "Hispanic                                0.147859  \n",
      "Black                                   0.133386  \n",
      "White                                   0.653891  \n"
     ]
    }
   ],
   "source": [
    "result = pd.concat([df_race, population], axis=1, join='inner')\n",
    "#result.columns=[\"death\",\"total\"]\n",
    "print(result)"
   ]
  },
  {
   "cell_type": "code",
   "execution_count": null,
   "metadata": {
    "collapsed": true
   },
   "outputs": [],
   "source": []
  },
  {
   "cell_type": "markdown",
   "metadata": {},
   "source": [
    "### Assignment\n",
    "\n",
    "- Reuse the data structure counting deaths by race\n",
    "- Use the dictionary below that has the actual population of each race\n",
    "- Compute the rates of gun deaths per race per 100,000 people\n",
    "\n",
    "mapping = {\n",
    "    \"Asian/Pacific Islander\": 15159516 + 674625,\n",
    "    \"Native American/Native Alaskan\": 3739506,\n",
    "    \"Black\": 40250635,\n",
    "    \"Hispanic\": 44618105,\n",
    "    \"White\": 197318956\n",
    "}"
   ]
  },
  {
   "cell_type": "code",
   "execution_count": 122,
   "metadata": {
    "collapsed": false
   },
   "outputs": [
    {
     "name": "stdout",
     "output_type": "stream",
     "text": [
      "                                death  ratio_death  population  \\\n",
      "race                                                             \n",
      "Asian/Pacific Islander           1326     0.013155    15834141   \n",
      "Native American/Native Alaskan    917     0.009097     3739506   \n",
      "Hispanic                         9022     0.089506    44618105   \n",
      "Black                           23296     0.231116    40250635   \n",
      "White                           66237     0.657126   197318956   \n",
      "\n",
      "                                ratio_population      rates  \n",
      "race                                                         \n",
      "Asian/Pacific Islander                  0.052472   8.374310  \n",
      "Native American/Native Alaskan          0.012392  24.521956  \n",
      "Hispanic                                0.147859  20.220491  \n",
      "Black                                   0.133386  57.877348  \n",
      "White                                   0.653891  33.568493  \n"
     ]
    }
   ],
   "source": [
    "result[\"rates\"]=result[\"death\"]/result[\"population\"]*100000\n",
    "print(result)"
   ]
  },
  {
   "cell_type": "markdown",
   "metadata": {},
   "source": [
    "### Assignment\n",
    "\n",
    "You may not know this, but over half of all gun deaths are suicide.\n",
    "\n",
    "- Redo the computation of rates of gun deaths per race per 100,000 people\n",
    "- This time only count those that are \"Homicide\"\n",
    "- How are these different than the previous calculation?\n"
   ]
  },
  {
   "cell_type": "code",
   "execution_count": 143,
   "metadata": {
    "collapsed": false
   },
   "outputs": [
    {
     "name": "stdout",
     "output_type": "stream",
     "text": [
      "                                    0  population  ratio_population      rates\n",
      "race                                                                          \n",
      "Asian/Pacific Islander            559    15834141          0.052472   3.530346\n",
      "Native American/Native Alaskan    326     3739506          0.012392   8.717729\n",
      "Hispanic                         5634    44618105          0.147859  12.627161\n",
      "Black                           19510    40250635          0.133386  48.471285\n",
      "White                            9147   197318956          0.653891   4.635642\n"
     ]
    }
   ],
   "source": [
    "race_h=df[(df.intent==\"Homicide\")].groupby('race').size()\n",
    "result_h = pd.concat([race_h, population], axis=1, join='inner')\n",
    "result_h[\"rates\"]=result_h[0]/result_h[\"population\"]*100000\n",
    "print(result_h)\n"
   ]
  }
 ],
 "metadata": {
  "anaconda-cloud": {},
  "kernelspec": {
   "display_name": "Python [conda root]",
   "language": "python",
   "name": "conda-root-py"
  },
  "language_info": {
   "codemirror_mode": {
    "name": "ipython",
    "version": 3
   },
   "file_extension": ".py",
   "mimetype": "text/x-python",
   "name": "python",
   "nbconvert_exporter": "python",
   "pygments_lexer": "ipython3",
   "version": "3.5.2"
  }
 },
 "nbformat": 4,
 "nbformat_minor": 0
}
