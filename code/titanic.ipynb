{
 "cells": [
  {
   "cell_type": "markdown",
   "metadata": {},
   "source": [
    "# Titanic Data Set - Statistics Review\n",
    "\n",
    "[Variable Descriptions](https://www.kaggle.com/c/titanic/data)."
   ]
  },
  {
   "cell_type": "code",
   "execution_count": 1,
   "metadata": {
    "collapsed": true
   },
   "outputs": [],
   "source": [
    "import pandas as pd"
   ]
  },
  {
   "cell_type": "code",
   "execution_count": 2,
   "metadata": {
    "collapsed": true
   },
   "outputs": [],
   "source": [
    "df = pd.read_csv('titanic.csv')"
   ]
  },
  {
   "cell_type": "markdown",
   "metadata": {},
   "source": [
    "**Describe the data. **\n",
    "- How big?\n",
    "- What are the columns and what do they mean?"
   ]
  },
  {
   "cell_type": "code",
   "execution_count": 3,
   "metadata": {
    "collapsed": false
   },
   "outputs": [
    {
     "data": {
      "text/plain": [
       "(891, 12)"
      ]
     },
     "execution_count": 3,
     "metadata": {},
     "output_type": "execute_result"
    }
   ],
   "source": [
    "df.shape"
   ]
  },
  {
   "cell_type": "code",
   "execution_count": 5,
   "metadata": {
    "collapsed": false
   },
   "outputs": [
    {
     "data": {
      "text/plain": [
       "Index(['PassengerId', 'Survived', 'Pclass', 'Name', 'Sex', 'Age', 'SibSp',\n",
       "       'Parch', 'Ticket', 'Fare', 'Cabin', 'Embarked'],\n",
       "      dtype='object')"
      ]
     },
     "execution_count": 5,
     "metadata": {},
     "output_type": "execute_result"
    }
   ],
   "source": [
    "df.columns"
   ]
  },
  {
   "cell_type": "code",
   "execution_count": 6,
   "metadata": {
    "collapsed": false
   },
   "outputs": [
    {
     "data": {
      "text/html": [
       "<div>\n",
       "<table border=\"1\" class=\"dataframe\">\n",
       "  <thead>\n",
       "    <tr style=\"text-align: right;\">\n",
       "      <th></th>\n",
       "      <th>PassengerId</th>\n",
       "      <th>Survived</th>\n",
       "      <th>Pclass</th>\n",
       "      <th>Name</th>\n",
       "      <th>Sex</th>\n",
       "      <th>Age</th>\n",
       "      <th>SibSp</th>\n",
       "      <th>Parch</th>\n",
       "      <th>Ticket</th>\n",
       "      <th>Fare</th>\n",
       "      <th>Cabin</th>\n",
       "      <th>Embarked</th>\n",
       "    </tr>\n",
       "  </thead>\n",
       "  <tbody>\n",
       "    <tr>\n",
       "      <th>0</th>\n",
       "      <td>1</td>\n",
       "      <td>0</td>\n",
       "      <td>3</td>\n",
       "      <td>Braund, Mr. Owen Harris</td>\n",
       "      <td>male</td>\n",
       "      <td>22.0</td>\n",
       "      <td>1</td>\n",
       "      <td>0</td>\n",
       "      <td>A/5 21171</td>\n",
       "      <td>7.2500</td>\n",
       "      <td>NaN</td>\n",
       "      <td>S</td>\n",
       "    </tr>\n",
       "    <tr>\n",
       "      <th>1</th>\n",
       "      <td>2</td>\n",
       "      <td>1</td>\n",
       "      <td>1</td>\n",
       "      <td>Cumings, Mrs. John Bradley (Florence Briggs Th...</td>\n",
       "      <td>female</td>\n",
       "      <td>38.0</td>\n",
       "      <td>1</td>\n",
       "      <td>0</td>\n",
       "      <td>PC 17599</td>\n",
       "      <td>71.2833</td>\n",
       "      <td>C85</td>\n",
       "      <td>C</td>\n",
       "    </tr>\n",
       "    <tr>\n",
       "      <th>2</th>\n",
       "      <td>3</td>\n",
       "      <td>1</td>\n",
       "      <td>3</td>\n",
       "      <td>Heikkinen, Miss. Laina</td>\n",
       "      <td>female</td>\n",
       "      <td>26.0</td>\n",
       "      <td>0</td>\n",
       "      <td>0</td>\n",
       "      <td>STON/O2. 3101282</td>\n",
       "      <td>7.9250</td>\n",
       "      <td>NaN</td>\n",
       "      <td>S</td>\n",
       "    </tr>\n",
       "    <tr>\n",
       "      <th>3</th>\n",
       "      <td>4</td>\n",
       "      <td>1</td>\n",
       "      <td>1</td>\n",
       "      <td>Futrelle, Mrs. Jacques Heath (Lily May Peel)</td>\n",
       "      <td>female</td>\n",
       "      <td>35.0</td>\n",
       "      <td>1</td>\n",
       "      <td>0</td>\n",
       "      <td>113803</td>\n",
       "      <td>53.1000</td>\n",
       "      <td>C123</td>\n",
       "      <td>S</td>\n",
       "    </tr>\n",
       "    <tr>\n",
       "      <th>4</th>\n",
       "      <td>5</td>\n",
       "      <td>0</td>\n",
       "      <td>3</td>\n",
       "      <td>Allen, Mr. William Henry</td>\n",
       "      <td>male</td>\n",
       "      <td>35.0</td>\n",
       "      <td>0</td>\n",
       "      <td>0</td>\n",
       "      <td>373450</td>\n",
       "      <td>8.0500</td>\n",
       "      <td>NaN</td>\n",
       "      <td>S</td>\n",
       "    </tr>\n",
       "  </tbody>\n",
       "</table>\n",
       "</div>"
      ],
      "text/plain": [
       "   PassengerId  Survived  Pclass  \\\n",
       "0            1         0       3   \n",
       "1            2         1       1   \n",
       "2            3         1       3   \n",
       "3            4         1       1   \n",
       "4            5         0       3   \n",
       "\n",
       "                                                Name     Sex   Age  SibSp  \\\n",
       "0                            Braund, Mr. Owen Harris    male  22.0      1   \n",
       "1  Cumings, Mrs. John Bradley (Florence Briggs Th...  female  38.0      1   \n",
       "2                             Heikkinen, Miss. Laina  female  26.0      0   \n",
       "3       Futrelle, Mrs. Jacques Heath (Lily May Peel)  female  35.0      1   \n",
       "4                           Allen, Mr. William Henry    male  35.0      0   \n",
       "\n",
       "   Parch            Ticket     Fare Cabin Embarked  \n",
       "0      0         A/5 21171   7.2500   NaN        S  \n",
       "1      0          PC 17599  71.2833   C85        C  \n",
       "2      0  STON/O2. 3101282   7.9250   NaN        S  \n",
       "3      0            113803  53.1000  C123        S  \n",
       "4      0            373450   8.0500   NaN        S  "
      ]
     },
     "execution_count": 6,
     "metadata": {},
     "output_type": "execute_result"
    }
   ],
   "source": [
    "df.head()"
   ]
  },
  {
   "cell_type": "markdown",
   "metadata": {},
   "source": [
    "**What’s the average age of:**\n",
    "\n",
    "- Any Titanic passenger\n",
    "- A survivor\n",
    "- A non-surviving first-class passenger\n",
    "- Male survivors older than 30 from anywhere but Queenstown"
   ]
  },
  {
   "cell_type": "code",
   "execution_count": 5,
   "metadata": {
    "collapsed": false
   },
   "outputs": [
    {
     "name": "stdout",
     "output_type": "stream",
     "text": [
      "29.69911764705882\n",
      "28.343689655172415\n",
      "43.6953125\n",
      "43.641176470588235\n"
     ]
    }
   ],
   "source": [
    "#average_age\n",
    "print(df['Age'].mean())\n",
    "#survivor\n",
    "print(df[df['Survived']==1]['Age'].mean())\n",
    "#A non-surviving first-class passenger\n",
    "print(df[(df['Survived']==0) & (df['Pclass']==1)]['Age'].mean())\n",
    "#Male survivors older than 30 from anywhere but Queenstown\n",
    "print(df[(df['Survived']==0) & (df['Age']>30)&(df['Embarked']!='Q')]['Age'].mean())"
   ]
  },
  {
   "cell_type": "markdown",
   "metadata": {},
   "source": [
    "**For the groups from the previous task, how far (in years) are the average ages from the median ages?**"
   ]
  },
  {
   "cell_type": "code",
   "execution_count": 4,
   "metadata": {
    "collapsed": false
   },
   "outputs": [
    {
     "name": "stdout",
     "output_type": "stream",
     "text": [
      "1.69911764705882\n",
      "0.34368965517241534\n",
      "-1.5546875\n",
      "2.141176470588235\n"
     ]
    }
   ],
   "source": [
    "print(df['Age'].mean()-df['Age'].median())\n",
    "#survivor\n",
    "print(df[df['Survived']==1]['Age'].mean()-df[df['Survived']==1]['Age'].median())\n",
    "#A non-surviving first-class passenger\n",
    "print(df[(df['Survived']==0) & (df['Pclass']==1)]['Age'].mean()-df[(df['Survived']==0) & (df['Pclass']==1)]['Age'].median())\n",
    "#Male survivors older than 30 from anywhere but Queenstown\n",
    "print(df[(df['Survived']==0) & (df['Age']>30)&(df['Embarked']!='Q')]['Age'].mean()-df[(df['Survived']==0) & (df['Age']>30)&(df['Embarked']!='Q')]['Age'].median())"
   ]
  },
  {
   "cell_type": "markdown",
   "metadata": {},
   "source": [
    "**What’s the most common:**\n",
    "- Passenger class\n",
    "- Port of Embarkation\n",
    "- Number of siblings or spouses aboard for survivors"
   ]
  },
  {
   "cell_type": "code",
   "execution_count": 23,
   "metadata": {
    "collapsed": false
   },
   "outputs": [
    {
     "name": "stdout",
     "output_type": "stream",
     "text": [
      "The most common Passenger class is: 3\n",
      "The most common Port of Embarkation is: S\n",
      "The most common Number of siblings or spouses aboard for survivors is: 0\n"
     ]
    }
   ],
   "source": [
    "print(\"The most common Passenger class is: {}\".format(df.groupby('Pclass').count().iloc[:,0].idxmax()))\n",
    "print(\"The most common Port of Embarkation is: {}\".format(df.groupby('Embarked').count().iloc[:,0].idxmax()))\n",
    "print(\"The most common Number of siblings or spouses aboard for survivors is: {}\".format(df.groupby('SibSp').count().iloc[:,0].idxmax()))"
   ]
  },
  {
   "cell_type": "markdown",
   "metadata": {},
   "source": [
    "**Within what range of standard deviations from the mean (0-1, 1-2, 2-3) is the median ticket price? Is it above or below the mean?**"
   ]
  },
  {
   "cell_type": "code",
   "execution_count": 6,
   "metadata": {
    "collapsed": false
   },
   "outputs": [
    {
     "name": "stdout",
     "output_type": "stream",
     "text": [
      "The median is 14.4542.\n",
      "The mean is 32.2042079685746.\n",
      "The standard deviation is 49.693428597180905.\n",
      "The median is below the mean.\n",
      "The difference between the mean and the of median is smaller then the standard deviantion.\n"
     ]
    }
   ],
   "source": [
    "median=df['Fare'].median()\n",
    "mean=df['Fare'].mean()\n",
    "std=df['Fare'].std()\n",
    "print(\"The median is {}.\".format(median))\n",
    "print(\"The mean is {}.\".format(mean))\n",
    "print(\"The standard deviation is {}.\".format(std))\n",
    "\n",
    "if median > mean:\n",
    "    print(\"The median is above the mean.\")\n",
    "elif median == mean:\n",
    "    print(\"The median is equal to the mean.\")\n",
    "else:\n",
    "    print(\"The median is below the mean.\")\n",
    "\n",
    "if mean - std < median and mean + std > median:\n",
    "    print(\"The difference between the mean and the of median is smaller then the standard deviantion.\")\n",
    "elif mean - 2 * std < median and mean + 2 * std > median:\n",
    "    print(\"The difference between the mean and the of median is smaller then 2 times the standard deviantion.\")\n",
    "elif mean - 3 * std < median and mean + 3 * std > median:\n",
    "    print(\"The difference between the mean and the of median is smaller then 3 times the standard deviantion.\")\n",
    "else: \n",
    "    print(\"The difference between the mean and the of median is bigger than 3 times the standard deviation.\")"
   ]
  },
  {
   "cell_type": "code",
   "execution_count": 44,
   "metadata": {
    "collapsed": false
   },
   "outputs": [
    {
     "data": {
      "text/plain": [
       "<matplotlib.axes._subplots.AxesSubplot at 0x115a25cf8>"
      ]
     },
     "execution_count": 44,
     "metadata": {},
     "output_type": "execute_result"
    },
    {
     "data": {
      "image/png": "[encoded data removed]",
      "text/plain": [
       "<matplotlib.figure.Figure at 0x113041a20>"
      ]
     },
     "metadata": {},
     "output_type": "display_data"
    }
   ],
   "source": [
    "import matplotlib\n",
    "%matplotlib inline\n",
    "df['Fare'].plot(x='Fare', kind='hist')"
   ]
  },
  {
   "cell_type": "markdown",
   "metadata": {},
   "source": [
    "**How much more expensive was the 90th percentile ticket than the 5th percentile ticket? Are they the same class?**"
   ]
  },
  {
   "cell_type": "code",
   "execution_count": 15,
   "metadata": {
    "collapsed": false
   },
   "outputs": [
    {
     "name": "stdout",
     "output_type": "stream",
     "text": [
      "The difference between the 90th percentile ticket and the 5th percentile ticket is 70.7333.\n",
      "The statement, that the 90th percentile ticket and the 5th percentile ticket has the same class is: False. \n"
     ]
    }
   ],
   "source": [
    "#How much more expensive was the 90th percentile ticket than the 5th percentile ticket\n",
    "print(\"The difference between the 90th percentile ticket and the 5th percentile ticket is {}.\".format(df['Fare'].quantile(.9)-df['Fare'].quantile(.05)))\n",
    "#Are they the same class?\n",
    "fare_90=df['Fare'].quantile(.9)\n",
    "fare_05=df['Fare'].quantile(.05)\n",
    "statement=df[df['Fare']==fare_90]['Pclass'].unique()[0]==df[df['Fare']==fare_05]['Pclass'].unique()[0]\n",
    "print( \"The statement, that the 90th percentile ticket and the 5th percentile ticket has the same class is: {}. \".format(statement))"
   ]
  },
  {
   "cell_type": "markdown",
   "metadata": {},
   "source": [
    "**The highest average ticket price was paid by passengers from which port? Null ports don’t count.**"
   ]
  },
  {
   "cell_type": "code",
   "execution_count": 59,
   "metadata": {
    "collapsed": false
   },
   "outputs": [],
   "source": [
    "mapping_port={'C': 'Cherbourg', 'Q': 'Queenstown', 'S':'Southampton'}\n",
    "port_exp=df[df['Embarked'].notnull()][['Fare','Embarked']].groupby('Embarked').mean().idxmax()"
   ]
  },
  {
   "cell_type": "code",
   "execution_count": 36,
   "metadata": {
    "collapsed": false
   },
   "outputs": [
    {
     "name": "stdout",
     "output_type": "stream",
     "text": [
      "The highest average ticket price was paid by passengers from : Cherbourg.\n"
     ]
    }
   ],
   "source": [
    "print (\"The highest average ticket price was paid by passengers from : {}.\".format(mapping_port[port_exp[0]]))"
   ]
  },
  {
   "cell_type": "markdown",
   "metadata": {},
   "source": [
    "**What is the most common passenger class for each port?**"
   ]
  },
  {
   "cell_type": "code",
   "execution_count": 73,
   "metadata": {
    "collapsed": false
   },
   "outputs": [
    {
     "name": "stdout",
     "output_type": "stream",
     "text": [
      "Southampton ('male', 19.0)\n",
      "Cherbourg ('female', 24.0)\n",
      "Queenstown ('female', 16.0)\n"
     ]
    }
   ],
   "source": [
    "for k,v in mapping_port.items():\n",
    "    print(v , df[df['Embarked']==k].groupby(['Sex','Age']).count().iloc[:,0].idxmax())"
   ]
  },
  {
   "cell_type": "markdown",
   "metadata": {},
   "source": [
    "**What fraction of surviving 1st-class males paid lower than double the overall median ticket price?**"
   ]
  },
  {
   "cell_type": "code",
   "execution_count": 84,
   "metadata": {
    "collapsed": false
   },
   "outputs": [
    {
     "name": "stdout",
     "output_type": "stream",
     "text": [
      "24.44% of surviving 1st-class males paid lower than double the overall median ticket price.\n"
     ]
    }
   ],
   "source": [
    "#What fraction of surviving 1st-class males paid lower than double the overall median ticket price?\n",
    "total_filtered=df[(df['Survived'] == 1) & (df['Pclass'] == 1) & (df['Sex'] == 'male')].size\n",
    "median=df['Fare'].median()\n",
    "total_filt_lowprice=df[(df['Survived'] == 1) & (df['Pclass'] == 1) & (df['Sex'] == 'male') &(df['Fare'] < 2 * median)].size\n",
    "print ( \"{}% of surviving 1st-class males paid lower than double the overall median ticket price.\".format(round((total_filt_lowprice/total_filtered*100),2)))"
   ]
  },
  {
   "cell_type": "markdown",
   "metadata": {},
   "source": [
    "**How much older/younger was the average surviving passenger with family members than the average non-surviving passenger without them?**"
   ]
  },
  {
   "cell_type": "code",
   "execution_count": 96,
   "metadata": {
    "collapsed": false
   },
   "outputs": [
    {
     "name": "stdout",
     "output_type": "stream",
     "text": [
      "The average surviving passenger with family members is 25.53 years old.\n",
      "The average non-surviving passenger without them is 32.32 years old.\n",
      "The average surviving passenger with family members is 6.79 years younder than the average non-surviving passenger without them.\n"
     ]
    }
   ],
   "source": [
    "#How much older/younger was the average surviving passenger with family members than the average non-surviving passenger without them?\n",
    "avg_surv_with_fam = df[(df['Survived'] == 1) & ((df['SibSp'] >= 1) | (df['Parch'] >= 1))]['Age'].mean()\n",
    "avg_nonsurv_without_fam= df[(df['Survived'] == 0) & ((df['SibSp'] == 0) | (df['Parch'] == 0))]['Age'].mean()\n",
    "\n",
    "print (\"The average surviving passenger with family members is {0} years old.\".format(round(avg_surv_with_fam,2)))\n",
    "print (\"The average non-surviving passenger without them is {} years old.\".format(round(avg_nonsurv_without_fam,2)))\n",
    "if avg_surv_with_fam<avg_nonsurv_without_fam:\n",
    "    print(\"The average surviving passenger with family members is {0} years younder than the average non-surviving passenger without them.\".format(round(avg_nonsurv_without_fam-avg_surv_with_fam,2)))\n",
    "else:\n",
    "    print(\"The average surviving passenger with family members is {0} years older than the average non-surviving passenger without them.\".format(round(-avg_nonsurv_without_fam+avg_surv_with_fam,2)))"
   ]
  },
  {
   "cell_type": "markdown",
   "metadata": {},
   "source": [
    "**Display the relationship (i.e. make a plot) between survival rate and the quantile of the ticket price for 20 integer quantiles.**\n",
    "- To be clearer, what I want is for you to specify 20 quantiles, and for each of those quantiles divide the number of survivors in that quantile by the total number of people in that quantile. That’ll give you the survival rate in that quantile.\n",
    "- Then plot a line of the survival rate against the ticket fare quantiles.\n",
    "- Make sure you label your axes."
   ]
  },
  {
   "cell_type": "code",
   "execution_count": 157,
   "metadata": {
    "collapsed": false
   },
   "outputs": [
    {
     "data": {
      "text/plain": [
       "<matplotlib.text.Text at 0x11811c4a8>"
      ]
     },
     "execution_count": 157,
     "metadata": {},
     "output_type": "execute_result"
    },
    {
     "data": {
      "image/png": "[encoded data removed]",
      "text/plain": [
       "<matplotlib.figure.Figure at 0x117a19ef0>"
      ]
     },
     "metadata": {},
     "output_type": "display_data"
    }
   ],
   "source": [
    "#Display the relationship (i.e. make a plot) between survival rate and the quantile of the ticket price for 20 integer quantiles.\n",
    "import numpy as np\n",
    "survival={}\n",
    "last_quant=0\n",
    "for i in range(0,100,5):\n",
    "    quant_temp=df['Fare'].quantile(0.01 * (i + 5))\n",
    "    df_temp=df[(df['Fare'] < quant_temp) & (df['Fare'] >= last_quant)]\n",
    "    total=len(df_temp.index)\n",
    "    survival_quant=round(df_temp['Survived'].sum() / total, 2)\n",
    "    survival[quant_temp]=survival_quant\n",
    "    last_quant=quant_temp\n",
    "\n",
    "%matplotlib inline\n",
    "import matplotlib.pyplot as plt\n",
    "survival_df=pd.DataFrame.from_dict(survival,orient='index')\n",
    "survival_df.columns=['Survival' ]\n",
    "survival_df.sort_index(axis=0, ascending=True, inplace=True) \n",
    "survival_df.plot(kind='bar', legend=True)\n",
    "plt.xlabel(\"Ticketprice\")\n",
    "plt.ylabel(\"Survival rate\")\n",
    "plt.title(\"Survival rate vs quantile\")"
   ]
  },
  {
   "cell_type": "code",
   "execution_count": 158,
   "metadata": {
    "collapsed": false
   },
   "outputs": [
    {
     "data": {
      "text/plain": [
       "<matplotlib.text.Text at 0x1183e09e8>"
      ]
     },
     "execution_count": 158,
     "metadata": {},
     "output_type": "execute_result"
    },
    {
     "data": {
      "image/png": "[encoded data removed]",
      "text/plain": [
       "<matplotlib.figure.Figure at 0x1180fe550>"
      ]
     },
     "metadata": {},
     "output_type": "display_data"
    }
   ],
   "source": [
    "survival_df.reset_index()['Survival'].plot( legend=True)\n",
    "plt.xlabel(\"# of Quantile\")\n",
    "plt.ylabel(\"Survival rate\")\n",
    "plt.title(\"Survival rate vs quantile\")\n"
   ]
  },
  {
   "cell_type": "markdown",
   "metadata": {},
   "source": [
    "**For each of the following characteristics, find the median in the data:**\n",
    "- Age\n",
    "- Ticket price\n",
    "- Siblings/spouses\n",
    "- Parents/children"
   ]
  },
  {
   "cell_type": "code",
   "execution_count": 101,
   "metadata": {
    "collapsed": false
   },
   "outputs": [
    {
     "name": "stdout",
     "output_type": "stream",
     "text": [
      "Median of age: 28.0.\n",
      "Median of age: 14.4542.\n",
      "Median of age: 0.0.\n",
      "Median of age: 0.0.\n"
     ]
    }
   ],
   "source": [
    "print( \"Median of age: {}.\".format(df['Age'].median()))\n",
    "print( \"Median of Fare: {}.\".format(df['Fare'].median()))\n",
    "print( \"Median of Siblings/spouses: {}.\".format(df['SibSp'].median()))\n",
    "print( \"Median of Parents/children: {}.\".format(df['Parch'].median()))"
   ]
  },
  {
   "cell_type": "markdown",
   "metadata": {},
   "source": [
    "**If you were to use these medians to draw numerical boundaries separating survivors from non-survivors, which of these characteristics would be the best choice and why?**"
   ]
  },
  {
   "cell_type": "code",
   "execution_count": 169,
   "metadata": {
    "collapsed": false
   },
   "outputs": [
    {
     "name": "stdout",
     "output_type": "stream",
     "text": [
      "Age 0.0054\n",
      "Fare 0.2675\n",
      "SibSp 0.121\n",
      "Parch 0.1681\n",
      "\n",
      "The best choice would be the Fare, it has the biggest difference between the survival rate of passengers below and above the median: 0.2675.\n"
     ]
    }
   ],
   "source": [
    "column=['Age','Fare','SibSp','Parch']\n",
    "max_diff=0.00\n",
    "best_choice=''\n",
    "for col in column:\n",
    "    med=df[col].median()\n",
    "    low_surv_rate=float(df[df[col] <= med]['Survived'].sum() / len(df[df[col] <= med].index))\n",
    "    high_surv_rate=df[df[col] > med]['Survived'].sum() / len(df[df[col] > med].index)\n",
    "    diff_surv_rate=round(abs(low_surv_rate-high_surv_rate),4)\n",
    "    if diff_surv_rate>max_diff:\n",
    "        max_diff=diff_surv_rate\n",
    "        best_choice=col\n",
    "    print(col, diff_surv_rate)\n",
    "print()\n",
    "print( \"The best choice would be the {0}, it has the biggest difference between the survival rate of passengers below and above the median: {1}.\".format(best_choice,max_diff))\n",
    "    \n",
    "#The best choice would be the Fare, it has the biggest difference between the survival rate of passengers below and above the median."
   ]
  },
  {
   "cell_type": "markdown",
   "metadata": {},
   "source": [
    "**Plot the distribution of passenger ages. Choose visually-meaningful bin sizes and label your axes.**"
   ]
  },
  {
   "cell_type": "code",
   "execution_count": 182,
   "metadata": {
    "collapsed": false
   },
   "outputs": [
    {
     "data": {
      "text/plain": [
       "<matplotlib.text.Text at 0x118e3e6a0>"
      ]
     },
     "execution_count": 182,
     "metadata": {},
     "output_type": "execute_result"
    },
    {
     "data": {
      "image/png": "[encoded data removed]",
      "text/plain": [
       "<matplotlib.figure.Figure at 0x1189b9d30>"
      ]
     },
     "metadata": {},
     "output_type": "display_data"
    }
   ],
   "source": [
    "#Plot the distribution of passenger ages. Choose visually-meaningful bin sizes and label your axes.\n",
    "df['Age'].plot(kind='hist',bins=20)\n",
    "\n",
    "plt.title(\"Age distribution\")"
   ]
  },
  {
   "cell_type": "markdown",
   "metadata": {},
   "source": [
    "**Find the probability that:**\n",
    "- A passenger survived\n",
    "- A passenger was male\n",
    "- A passenger was female and had at least one sibling or spouse on board\n",
    "- A survivor was from Cherbourg\n",
    "- A passenger was less than 10 years old\n",
    "- A passenger was between 25 and 40 years old\n",
    "- A passenger was either younger than 20 years old or older than 50"
   ]
  },
  {
   "cell_type": "code",
   "execution_count": 198,
   "metadata": {
    "collapsed": false
   },
   "outputs": [
    {
     "name": "stdout",
     "output_type": "stream",
     "text": [
      "The probability,that a passenger survived: 38.38%.\n",
      "The probability,that a passenger was male: 64.76%.\n",
      "The probability,that a passenger was female and had at least one sibling or spouse on board: 15.71%.\n",
      "The probability,that a survivor was from Cherbourg: 18.86%.\n",
      "The probability,that a passenger was less than 10 years old: 6.96%.\n",
      "The probability,that a passenger was between 25 and 40 years old: 32.1%.\n",
      "The probability,that a passenger was either younger than 20 years old or older than 50: 38.38 %.\n"
     ]
    }
   ],
   "source": [
    "total=len(df.index)\n",
    "\n",
    "print(\"The probability,that a passenger survived: {}%.\".format(round(len(df[df['Survived']==1].index)/total*100,2)))\n",
    "print(\"The probability,that a passenger was male: {}%.\".format(round(len(df[df['Sex']=='male'].index)/total*100,2)))\n",
    "print(\"The probability,that a passenger was female and had at least one sibling or spouse on board: {}%.\".format(round(len(df[(df['Sex']=='female') & (df['SibSp']>=1)].index)/total*100,2)))\n",
    "print(\"The probability,that a survivor was from Cherbourg: {}%.\".format(round(len(df[df['Embarked']=='C'].index)/total*100,2)))\n",
    "print(\"The probability,that a passenger was less than 10 years old: {}%.\".format(round(len(df[df['Age']<10].index)/total*100,2)))\n",
    "print(\"The probability,that a passenger was between 25 and 40 years old: {}%.\".format(round(len(df[( df['Age'] >= 25) & (df['Age'] <=40)].index)/total*100,2)))\n",
    "print(\"The probability,that a passenger was either younger than 20 years old or older than 50: {} %.\".format(round(len(df[( df['Age'] > 50) | (df['Age'] < 25)].index)/total*100,2)))"
   ]
  },
  {
   "cell_type": "markdown",
   "metadata": {},
   "source": [
    "**Knowing nothing else about the passengers aside from the survival rate of the population (see question above), if I choose 100 passengers at random from the passenger list, what’s the probability that exactly 42 passengers survive?**"
   ]
  },
  {
   "cell_type": "code",
   "execution_count": 215,
   "metadata": {
    "collapsed": false
   },
   "outputs": [
    {
     "name": "stdout",
     "output_type": "stream",
     "text": [
      "The probability, that exactly 42 passengers will survive from 100 is: 6.12944086909794%.\n"
     ]
    }
   ],
   "source": [
    "#The probability,that a passenger survived: 38.38%.\n",
    "#binomial distribution\n",
    "total=len(df.index)\n",
    "survival_rate=round(len(df[df['Survived']==1].index)/total,4)\n",
    "\n",
    "from scipy.stats import binom\n",
    "print(\"The probability, that exactly 42 passengers will survive from 100 is: {}%.\".format(binom.pmf(42, 100, survival_rate)*100.0))\n"
   ]
  },
  {
   "cell_type": "markdown",
   "metadata": {},
   "source": [
    "**What’s the probability that at least 42 of those 100 passengers survive?**"
   ]
  },
  {
   "cell_type": "code",
   "execution_count": 220,
   "metadata": {
    "collapsed": false
   },
   "outputs": [
    {
     "name": "stdout",
     "output_type": "stream",
     "text": [
      "The probability, that at least 42 passengers will survive from 100 is: 25.914971706790496%.\n"
     ]
    }
   ],
   "source": [
    "\n",
    "from scipy.stats import binom\n",
    "print(\"The probability, that at least 42 passengers will survive from 100 is: {}%.\".format(100-binom.cdf(41, 100, survival_rate)*100.0))\n"
   ]
  },
  {
   "cell_type": "markdown",
   "metadata": {},
   "source": [
    "**Write a function that takes N random samples of 100 passengers, and returns the fraction of those samples where at least 42 passengers survive.**\n",
    "\n",
    "Choose a random seed and find approximately how many random samples you need to take before your fraction matches the probability you calculated (within Δp≈0.05Δp≈0.05).\n",
    "\n",
    "It may help to visualize the survival fraction vs the number of random samples. Answers will vary based on the seed."
   ]
  },
  {
   "cell_type": "code",
   "execution_count": null,
   "metadata": {
    "collapsed": true
   },
   "outputs": [],
   "source": [
    "#Write a function that takes N random samples of 100 passengers, and returns the fraction of those samples where at least 42 passengers survive.\n"
   ]
  },
  {
   "cell_type": "markdown",
   "metadata": {},
   "source": [
    "**Is there a statistically significant difference between:**\n",
    "- The ages of male and female survivors?\n",
    "- The fares paid by passengers from Queenstown and the passengers from Cherbourg?\n",
    "\n",
    "**If so, at what level? If not, how do you know?**"
   ]
  },
  {
   "cell_type": "code",
   "execution_count": null,
   "metadata": {
    "collapsed": true
   },
   "outputs": [],
   "source": []
  },
  {
   "cell_type": "code",
   "execution_count": null,
   "metadata": {
    "collapsed": true
   },
   "outputs": [],
   "source": []
  },
  {
   "cell_type": "markdown",
   "metadata": {},
   "source": [
    "**Accompany your p-values with histograms showing the distributions of both compared populations.**"
   ]
  },
  {
   "cell_type": "code",
   "execution_count": null,
   "metadata": {
    "collapsed": true
   },
   "outputs": [],
   "source": []
  },
  {
   "cell_type": "code",
   "execution_count": null,
   "metadata": {
    "collapsed": true
   },
   "outputs": [],
   "source": []
  },
  {
   "cell_type": "markdown",
   "metadata": {},
   "source": [
    "**Did survivors pay more for their tickets than those that did not? If so, to what significance level?**"
   ]
  },
  {
   "cell_type": "code",
   "execution_count": null,
   "metadata": {
    "collapsed": true
   },
   "outputs": [],
   "source": []
  },
  {
   "cell_type": "markdown",
   "metadata": {},
   "source": [
    "**Did a given first-class passenger have less family members on board than a given third-class passenger? If so, to what significance level?**"
   ]
  },
  {
   "cell_type": "code",
   "execution_count": null,
   "metadata": {
    "collapsed": true
   },
   "outputs": [],
   "source": []
  }
 ],
 "metadata": {
  "anaconda-cloud": {},
  "kernelspec": {
   "display_name": "Python [default]",
   "language": "python",
   "name": "python3"
  },
  "language_info": {
   "codemirror_mode": {
    "name": "ipython",
    "version": 3
   },
   "file_extension": ".py",
   "mimetype": "text/x-python",
   "name": "python",
   "nbconvert_exporter": "python",
   "pygments_lexer": "ipython3",
   "version": "3.5.2"
  }
 },
 "nbformat": 4,
 "nbformat_minor": 1
}
