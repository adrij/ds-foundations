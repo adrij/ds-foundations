{
 "cells": [
  {
   "cell_type": "markdown",
   "metadata": {},
   "source": [
    "# Exercises:\n",
    "\n",
    "Answer the following questions."
   ]
  },
  {
   "cell_type": "markdown",
   "metadata": {},
   "source": [
    "## 1. Import the `Requests` package and call the [GitHub Jobs](https://jobs.github.com) API with the parameters of your choice. Print the status code to make sure it went well."
   ]
  },
  {
   "cell_type": "code",
   "execution_count": 1,
   "metadata": {
    "collapsed": false
   },
   "outputs": [
    {
     "data": {
      "text/plain": [
       "200"
      ]
     },
     "execution_count": 1,
     "metadata": {},
     "output_type": "execute_result"
    }
   ],
   "source": [
    "import requests\n",
    "parameter={\"location\":\"Berlin\"}\n",
    "url=\"http://jobs.github.com/positions.json\"\n",
    "r=requests.get(url,params=parameter)\n",
    "r.status_code"
   ]
  },
  {
   "cell_type": "markdown",
   "metadata": {},
   "source": [
    "## 2. Import `json` and print the whole json response with the `json.dumps()` function. See what kind of data it contains.\n"
   ]
  },
  {
   "cell_type": "code",
   "execution_count": 2,
   "metadata": {
    "collapsed": false
   },
   "outputs": [
    {
     "name": "stdout",
     "output_type": "stream",
     "text": [
      "[{'id': '3f0a0eee-152f-11e7-8224-a34048f5ebb9', 'how_to_apply': '<p><a href=\"mailto:careers@contiamo.com\">careers@contiamo.com</a></p>\\n', 'type': 'Full Time', 'company': 'Contiamo', 'title': 'Senior Java/Scala Developer (Data Science Platform)', 'description': '<p>ABOUT US</p>\\n\\n<p>Contiamo is a VC backed, fast-growing B2B software company. We offer a flexible data platform enabling businesses to create interactive, data-driven decision tools and automations.</p>\\n\\n<p>Our international customers range from big corporations to ambitious startups. We are a tech-driven company and keep a close watch on recent scientific developments and emerging technologies.</p>\\n\\n<ul>\\n<li>Our mission is to combine sophisticated data analysis with a great user interface and experience</li>\\n<li>Our company is centered around a strong product and the customer value it provides</li>\\n<li>We love what we do. We enjoy complex challenges and get a kick out of great solutions</li>\\n</ul>\\n\\n<p>YOUR JOB</p>\\n\\n<p>We are building a sophisticated OLAP query engine for advanced analytics, accessing data that is both cloud-based and on-premise. Your job is to make queries flexible enough for the variety of use-cases out there, and fast enough for real-time applications to get the data they need. Our query engine is written in Scala and based on Apache Calcite. We are planning to open-source it during the course of this year.</p>\\n\\n<ul>\\n<li>You have a very solid understanding of separation of concerns, design patterns and testing</li>\\n<li>You have excellent Java skills and ideally some experience with Scala</li>\\n<li>An understanding of database systems and performance optimizations is a plus</li>\\n<li>Experience with data processing systems (Hadoop, Kafka, Spark) is a plus</li>\\n<li>Involvement in Apache projects (contributions, participation in mailing lists) is a plus</li>\\n</ul>\\n\\n<p>WORKING AT CONTIAMO</p>\\n\\n<p>We strongly believe in the importance of uninterrupted time to get stuff done. At Contiamo, you own your features, from spec to implementation to operation. We believe in competitive compensation, and quality over quantity when it comes to working hours. We provide you with the hardware you need to be comfortable and productive. We offer free public transportation and full support you during the whole process of relocation. We are all eager to learn new things - expect conference trips to be covered by us.</p>\\n\\n<p>Interested? Get in touch with Lucia - <a href=\"mailto:careers@contiamo.com\">careers@contiamo.com</a>.</p>\\n', 'company_logo': 'http://github-jobs.s3.amazonaws.com/3200f352-152f-11e7-8ed9-3674af490ed5.png', 'created_at': 'Thu Mar 30 10:01:37 UTC 2017', 'location': 'Berlin', 'company_url': 'http://www.contiamo.com', 'url': 'http://jobs.github.com/positions/3f0a0eee-152f-11e7-8224-a34048f5ebb9'}, {'id': 'c9093aaa-f920-11e6-9c6d-50acd3486374', 'how_to_apply': '<p><a href=\"http://grnh.se/5xncfj1\">Apply via link</a></p>\\n', 'type': 'Full Time', 'company': 'Contentful GmbH', 'title': 'Engineering Manager - Ecosystem Open Source (f/m)', 'description': '<p>Contentful is a content management developer platform that enables web and mobile developers to manage, integrate, and deliver digital content to any kind of device or service that can connect to an API - be it smart cars, VR, mobile, web, digital signage, or any new platform. We solve the complexities of content management for tens of thousands web and mobile developers, some independent and many working at enterprise customers that include Jack-in-the-box, Petsmart, Specialized, and Urban Outfitters.</p>\\n\\n<p>We&#39;re a fun team of over 100 people from 36 nations with offices in Berlin and San Francisco, backed by top VCs (Benchmark, Trinity, Balderton, Point Nine), growing at an amazing pace, and looking for more amazing individuals to join our team!</p>\\n\\n<p><strong>ABOUT THE ROLE</strong></p>\\n\\n<p>At Contentful, engineering is responsible for developing, running and maintaining the software that builds our highly available and scalable platform. Our engineering team grew to more than 30 people in 2016. We are now looking for an experienced engineering manager to work with our CTO on leading this fast-growing team.</p>\\n\\n<p>As an <strong>Engineering Manager (f/m)</strong> at Contentful, you are responsible for building and maintaining a healthy team, driving improvement of our development processes, and ensuring consistent delivery of high-quality software that adds value for our customers.</p>\\n\\n<p>You’ll collaborate regularly with engineers to gather feedback on topics ranging from project progress, technology choices, internal processes, career development, mentoring, and general happiness.</p>\\n\\n<p>Ideally, you’re already an engineering manager or you’re a development team lead ready to make the jump into management. You enjoy the idea of working in a developer-centric company where engineering is central and not only a support function. Catch this opportunity of taking care of the team who builds the material publicly available at <a href=\"https://github.com/contentful\">https://github.com/contentful</a></p>\\n\\n<p><strong>REQUIREMENTS</strong></p>\\n\\n<ul>\\n<li>You have either already managed a team involved in developing Open Source SDK and libraries or you’ve been involved in similar projects as a developer previously during your career</li>\\n<li>You have experience working in an environment revolving around a publicly available API</li>\\n<li>You know how to recruit and hire engineering talent and facilitate onboarding of new team members</li>\\n<li>Provide technical and non-technical guidance to the team, both individually and as a group</li>\\n<li>Experience troubleshooting the software delivery process and continuously streamlining it</li>\\n<li>You’re used to working with engineering teams to identify and anticipate changing requirements and opportunities to improve the development environment</li>\\n<li>Proven experience managing or leading technical teams, setting goals and crafting plans to achieve them</li>\\n<li>In-depth, proven engineering background that allows you to establish credibility with brilliant engineers quickly</li>\\n<li>You are used to collaborating with other functions of the company like product, support and marketing</li>\\n<li>You are a strong communicator and you’re great in teasing out complex, conflictual situations to bring clarity when confusion and ambiguity creep in<br></li>\\n</ul>\\n\\n<p><strong>BENEFITS</strong></p>\\n\\n<ul>\\n<li>Take part in a fast-paced environment in a company that’s growing quickly. Garner responsibility and make a significant impact, instead of being just another cog in a machine</li>\\n<li>Join a rapidly growing developer-centric company with lots of amazing international customers. We count people like Adam Wiggins (Heroku) and Francesco Cesarini (Erlang Solutions) as our advisors</li>\\n<li>We have plenty of interesting engineering challenges, ranging from scale factors, global cache invalidation to multi-tenant “bring your own schema” data. Use a diverse set of modern technologies, stay updated on best practices and help to create an effective and pragmatic organization</li>\\n<li>Be part of a team of experts in a company where technology matters and is key</li>\\n<li>We offer an education budget and extra days off to be spent on your self-development</li>\\n<li>Pick any tools you feel comfortable with; from hardware to software, your work environment to your chair, we&#39;ve literally got your back</li>\\n<li>Enjoy the flexibility of time and place of your work</li>\\n<li>Brush up your language skills! Our team speaks more than 20 languages</li>\\n<li>We fully support your move to Berlin with a relocation budget. We&#39;ll help you settle into your exciting new city</li>\\n</ul>\\n\\n<p>“Variety is the spice of life” — and a celebrated component of our culture. At Contentful, we strive to create an inclusive environment that empowers our employees. We believe that our products and services benefit from our diverse backgrounds and experiences and are proud to be an equal opportunity employer: all qualified applicants are considered for positions regardless of race, ethnic origin, gender, age, religion or belief, marital status, gender identification, sexual orientation, or disability. We look forward to your application!</p>\\n', 'company_logo': 'http://github-jobs.s3.amazonaws.com/c608c4d8-f920-11e6-8248-6ccc65ace982.jpg', 'created_at': 'Sat Mar 25 17:03:08 UTC 2017', 'location': 'Berlin', 'company_url': 'https://www.contentful.com', 'url': 'http://jobs.github.com/positions/c9093aaa-f920-11e6-9c6d-50acd3486374'}, {'id': '1d3aabb2-0e3a-11e7-8dd3-535a900a72c5', 'how_to_apply': '<p><a href=\"https://tracking.gohiring.com/c?cid=662c9407-f8cb-4024-a169-90c1c45dcfb4&amp;jid=82d75cdc-fd7c-43b5-bde4-63ebe3346095&amp;pid=5aa0f4be-3425-4722-8165-fb19fd5d04fa&amp;ec=click%3Aapply_url&amp;cb=https%3A%2F%2Fwww.thermondo.de%2Fjobs%2F%3Fjob_position_id%3D8369\">via Application form</a></p>\\n', 'type': 'Full Time', 'company': 'Thermondo GmbH', 'title': 'Android Engineer (m/f)', 'description': '<p>Thermondo digitalisiert das Handwerk. Mit einem monatlichen Wachstum von knapp 20% in 2016 und fast 300 Mitarbeitern bundesweit sind wir schon heute der größte Heizungsbauer Deutschlands.</p>\\n\\n<p><strong>Your tasks</strong></p>\\n\\n<p>Our Android App is the backbone of our germany wide operation and key to the digitalisation of the Energy business.\\nIt’s an enterprise-grade mobile application which connects field operatives to a RESTful backend. The codebase is written in Java 8 and shifting towards a fully reactive architecture (RxJava).\\nOur business is constantly growing and changing. New feature requests or requirement changes may emerge every day. As a result we build software that is highly maintainable to satisfy those needs.</p>\\n\\n<p>We are moving Android development in-house. This transition requires a clear quality first mentality. You will be tasked to implement your own environment. It has to allow you to maintain a high quality standard while developing at startup speed. You will have the freedom to use any tools and resources to achieve your goals. Furthermore, our team of 15 experienced engineers will support you to fulfil your full potential.</p>\\n\\n<p><strong>Your profile</strong></p>\\n\\n<ul>\\n<li>hands on Android experience</li>\\n<li>a feeling pride and ownership for your products</li>\\n<li>a favor for quality and tests</li>\\n<li>ideally familiarity with functional programming</li>\\n<li>fluency in English (German is a plus)</li>\\n</ul>\\n\\n<p><strong>We offer</strong></p>\\n\\n<ul>\\n<li>a solid base salary plus bonus</li>\\n<li>flexible working hours</li>\\n<li>the chance to become a full stack mobile engineer and a polyglott developer</li>\\n<li>a great career track in Berlin’s “hottest” startup</li>\\n<li>meaning – what you do has a direct impact on the german energy market</li>\\n<li>paid educational leave and incl. a conference budget</li>\\n<li>freedom to contribute to the open source community</li>\\n</ul>\\n\\n<p><img src=\"https://tracking.gohiring.com/c?cid=662c9407-f8cb-4024-a169-90c1c45dcfb4&amp;jid=82d75cdc-fd7c-43b5-bde4-63ebe3346095&amp;pid=5aa0f4be-3425-4722-8165-fb19fd5d04fa&amp;ec=view%3Apixel&amp;cb=https%3A%2F%2Fs3-eu-west-1.amazonaws.com%2Fgohiring-public-assets%2Fpixel.gif\" alt=\"GoHiring\"></p>\\n', 'company_logo': 'http://github-jobs.s3.amazonaws.com/5aafff8e-0e39-11e7-8eba-818a9b0430f4.png', 'created_at': 'Tue Mar 21 13:28:05 UTC 2017', 'location': 'Berlin', 'company_url': 'https://www.thermondo.de/unternehmen/jobs/', 'url': 'http://jobs.github.com/positions/1d3aabb2-0e3a-11e7-8dd3-535a900a72c5'}, {'id': '088a5938-0d90-11e7-9253-409f1ceeac47', 'how_to_apply': '<p><a href=\"http://grnh.se/0ueqtr1\">Apply via link</a></p>\\n', 'type': 'Full Time', 'company': 'Contentful GmbH', 'title': 'Product Marketing Manager', 'description': '<p>Contentful is a content management developer platform that enables web and mobile developers to manage, integrate, and deliver digital content to any kind of device or service that can connect to an API - be it smart cars, VR, mobile, web, digital signage, or any new platform. We solve the complexities of content management for tens of thousands web and mobile developers, some independent and many working at enterprise customers that include Jack-in-the-box, Petsmart, Specialized, and Urban Outfitters.</p>\\n\\n<p>We&#39;re a fun team of over 100 people from 36 nations with offices in Berlin and San Francisco, backed by top VCs (Benchmark, Trinity, Balderton, Point Nine), growing at an amazing pace, and looking for more amazing individuals to join our team!</p>\\n\\n<p><strong>ABOUT THE ROLE</strong></p>\\n\\n<p>We are looking for an experienced <strong>Product Marketing Manager</strong> to promote the adoption of Contentful among developer teams around the world. In your role, you will collaborate with other teams to develop strategies, implement product marketing initiatives and optimize your efforts to drive a massive adoption of our product. You are expected to communicate with confidence, enjoy creative work, and show sound judgment in allocating limited resources and prioritizing the backlog of deliverables. Product marketing managers wear many hats in their job, here are some of the key responsibilities you will work on:</p>\\n\\n<ul>\\n<li>Lead product marketing efforts: define overall narrative, construct ideal customer profiles, track product adoption metrics and lead communication efforts across multiple audiences and channels</li>\\n<li>Work with product, engineering and design teams to define product communication plans, develop marketing materials and coordinate timely roll-out of new features</li>\\n<li>Research key market and product data, conduct user interviews to understand key customer segments, their specific needs, and lifecycle stages</li>\\n<li>Support the sales team by researching, documenting and illustrating typical-use cases, engineering best practices, and functional product requirements</li>\\n<li>Research the market landscape and collect competitive intelligence to benchmark product capabilities and develop effective product positioning strategy</li>\\n<li>Analyze product usage, conduct customer surveys, and document functional requirements to set an effective pricing strategy</li>\\n<li>Set priorities for the content production backlog, drive changes to the marketing website and ensure the availability of high-quality product collaterals</li>\\n<li>Create robust processes and cultivate a high-performance culture within the marketing team and across all key constituents</li>\\n</ul>\\n\\n<p><strong>REQUIREMENTS</strong></p>\\n\\n<p>We expect the ideal candidate to have a strong technical background, experience in leading outbound marketing efforts and conducting market research as well as be curious about business problems facing our customers. The ideal candidate will possess:</p>\\n\\n<ul>\\n<li>Excellent communication skills - we’re looking for a person who can effectively represent customer’s point of view and work constructively with the key stakeholders</li>\\n<li>Ability to query and interpret data to identify important trends and create compelling stories about key numbers</li>\\n<li>Expertise in defining customer segments, building personas and applying these insights to influence product decisions</li>\\n<li>Good understanding of typical web, mobile, IoT use-cases and how these use cases are implemented on different platforms</li>\\n<li>Strong creative skills, including copywriting, sourcing campaign ideas, working with design and web development teams</li>\\n<li>Previous experience in a developer-focused company and skills at communicating with technical audiences</li>\\n<li>Excellent command of spoken and written English</li>\\n<li>Self-starter personality, including the ability to prioritize your backlog, execute fast, and stick to deadlines</li>\\n<li>Experience in creating, documenting or consuming public APIs is a plus</li>\\n<li>3+ years of experience in product management, marketing or software development</li>\\n</ul>\\n\\n<p><strong>BENEFITS</strong></p>\\n\\n<ul>\\n<li>Join a real tech company that counts among its investor and advisors people like Adam Wiggins (Heroku) and Francesco Cesarini (Erlang Solutions)</li>\\n<li>We offer an education budget and extra days off to be spent on your self-development</li>\\n<li>Pick any tools you feel comfortable with. From hardware to software, your work environment to your chair, we&#39;ve literally got your back</li>\\n<li>Enjoy the flexibility of time and place of your work</li>\\n<li>Brush up your language skills! Our team speaks more than 20 languages, and we offer free German classes</li>\\n<li>We fully support your move to Berlin or San Francisco with a relocation budget. We&#39;ll help you settle into your exciting new city</li>\\n</ul>\\n\\n<p>“Variety is the spice of life” — and a celebrated component of our culture. At Contentful, we strive to create an inclusive environment that empowers our employees. We believe that our products and services benefit from our diverse backgrounds and experiences and are proud to be an equal opportunity employer: all qualified applicants are considered for positions regardless of race, ethnic origin, gender, age, religion or belief, marital status, gender identification, sexual orientation, veteran status or disability. We look forward to your application!</p>\\n', 'company_logo': 'http://github-jobs.s3.amazonaws.com/4ff10382-0d8e-11e7-9014-fa246978c70a.jpg', 'created_at': 'Mon Mar 20 17:09:52 UTC 2017', 'location': 'Berlin', 'company_url': 'https://www.contentful.com', 'url': 'http://jobs.github.com/positions/088a5938-0d90-11e7-9253-409f1ceeac47'}, {'id': '2cc3d142-0a8b-11e7-94dd-68a1730f78dc', 'how_to_apply': '<p><a href=\"http://grnh.se/5w4ke31\">Apply via Link</a></p>\\n', 'type': 'Full Time', 'company': 'Contentful GmbH', 'title': 'Senior Data Analyst (f/m)', 'description': '<p>Contentful is a content management developer platform that enables web and mobile developers to manage, integrate, and deliver digital content to any kind of device or service that can connect to an API - be it smart cars, VR, mobile, web, digital signage, or any new platform. We solve the complexities of content management for tens of thousands web and mobile developers, some independent and many working at enterprise customers that include Jack-in-the-box, Petsmart, Specialized, and Urban Outfitters.</p>\\n\\n<p>We&#39;re a fun team of over 100 people from 36 nations with offices in Berlin and San Francisco, backed by top VCs (Benchmark, Trinity, Balderton, Point Nine), growing at an amazing pace, and looking for more amazing individuals to join our team!</p>\\n\\n<p>As our <strong>Senior Data Analyst (f/m)</strong> you are our in-house expert when it comes to data analysis. You turn data into insight and will drive critical business decisions for Contentful. In addition, you will be responsible for mentoring and developing junior team members.</p>\\n\\n<p><strong>ABOUT THE ROLE</strong></p>\\n\\n<ul>\\n<li>You live and breathe data and anything that can be accomplished with it</li>\\n<li>You take ownership of our current set of analytical projects (recurring and ad-hoc analyses, data integrations, tool implementations, dashboards) as well as enhance our data systems</li>\\n<li>You  have a passion for finding the most suitable KPIs, defining them and ensuring that any metrics are well structured and maintained in our data warehouse</li>\\n<li>You create, maintain and improve our reports and dashboards and therefore drive the  decision making to support our company leadership and the various departments</li>\\n<li>As a business partner to product and business functions, you identify trends in our data, provide insights to management, and have no issues communicating with the CxO level; overall, you evangelize the value of data and insights at Contentful</li>\\n</ul>\\n\\n<p><strong>REQUIREMENTS</strong></p>\\n\\n<ul>\\n<li>You hold a quantitative degree from a top university (computer science, physics, mathematics, statistics or similar)</li>\\n<li>You have 5 to 8 years of hands-on experience with data analytics and data science</li>\\n<li>You are fluent in SQL and Excel and a technical expert when it comes to data models and data mining</li>\\n<li>You have a strong understanding of core data technology concepts (DW, ETL, real-time events collection and storage, etc.) and love to work with scripting languages (your weapon of choice is Python or R)</li>\\n<li>You are an excellent project manager, able to focus on what matters in the midst of multiple conflicting priorities</li>\\n<li>You have an inquisitive mind, are detail oriented and able to adjust quickly to change</li>\\n<li>You have excellent communication skills in English</li>\\n</ul>\\n\\n<p><strong>BENEFITS</strong></p>\\n\\n<p>At Contentful you will work in an engineering-centered environment where you will encounter many like-minded people. We employ state-of-the-art technologies and you can experiment with latest tools and systems (we use Redshift, Looker and Periscope just to name a few). What’s more, you get to work with bright people who want to solve hard problems. For us, the best idea and most impactful analysis win.</p>\\n\\n<ul>\\n<li>Join a real tech company that counts among its investor and advisors people like Adam Wiggins (Heroku) and Francesco Cesarini (Erlang Solutions)</li>\\n<li>We offer education budget and extra days off to be spent on your self-development</li>\\n<li>Pick any tools you feel comfortable with. From hardware to software, your work environment to your chair, we&#39;ve literally got your back</li>\\n<li>Enjoy the flexibility of time and place of your work</li>\\n<li>Brush up your language skills! Our team speaks more than 20 languages, and we offer free German classes!</li>\\n<li>We fully support your move to Berlin with a relocation budget. We&#39;ll help you settle down into your exciting new city</li>\\n</ul>\\n\\n<p>“Variety is the spice of life” — and a celebrated component of our culture. At Contentful, we strive to create an inclusive environment that empowers our employees. We believe that our products and services benefit from our diverse backgrounds and experiences and are proud to be an equal opportunity employer: all qualified applicants are considered for positions regardless of race, ethnic origin, gender, age, religion or belief, marital status, gender identification, sexual orientation, or disability. We look forward to your application!</p>\\n', 'company_logo': 'http://github-jobs.s3.amazonaws.com/10277944-0a8b-11e7-8132-acfb3febd69e.jpg', 'created_at': 'Thu Mar 16 20:57:32 UTC 2017', 'location': 'Berlin', 'company_url': 'https://www.contentful.com', 'url': 'http://jobs.github.com/positions/2cc3d142-0a8b-11e7-94dd-68a1730f78dc'}, {'id': '3b2d91ce-0963-11e7-916e-75987021a193', 'how_to_apply': '<p>Please follow the link \\n<a href=\"https://so1berlin.recruiterbox.com/jobs/fk0m3in\">https://so1berlin.recruiterbox.com/jobs/fk0m3in</a></p>\\n\\n<p>or send an email at <a href=\"mailto:so1berlin-s1br0037@applications.recruiterbox.com\">so1berlin-s1br0037@applications.recruiterbox.com</a></p>\\n', 'type': 'Full Time', 'company': 'So1', 'title': 'Frontend developer', 'description': '<p>Location: Warsaw, Poland/ Berlin, Deutschland</p>\\n\\n<p>Are you passionate about frontend development? Are you open-minded about approaches and techniques, willing to pick the best tool for the job? Would you like your skills to have a real impact on the market?</p>\\n\\n<p>Are you keen on working with world class teammates in a successful startup to bring a product to the market that will change a billion-Dollar industry? Well, this position might be just for you!</p>\\n\\n<p><strong>About us</strong></p>\\n\\n<p>So1 is Google Adwords for retail.</p>\\n\\n<p>We have built and are expanding a revolutionary cross-retailer promotion platform based on cutting-edge algorithms and a seamless online integration with traditional offline retailers. On our platform we allow both brands and retailers to target consumers truly individually and in real-time with the most efficient discounts and promotions.</p>\\n\\n<p>Our models infer, predict, explain and measure the behavior of shoppers. Our algorithms optimize for econometric goals adjusted for long-term customer satisfaction and engagement.</p>\\n\\n<p>The So1 Engine learns from billions of consumer transactions and derives the right impulse at the right time to induce a change in customers’ behavior.</p>\\n\\n<p>We have partnered with leading retailers and are successfully marketing our unique platform and business model to the world’s largest brands. So1 has been backed by high-profile investors Target Partners and Shortcut Ventures with 7-figure investments.</p>\\n\\n<p><strong>Your role</strong></p>\\n\\n<p>We offer our employees unique learning opportunities and the chance to take on important projects from day one. </p>\\n\\n<ul>\\n<li>You will create the UX and UIs for our campaign management platforms</li>\\n<li>You will create the UX and UIs for our analytics platforms</li>\\n<li>You will come up with ideas on how to best realize business functionality on the frontend</li>\\n<li>You will communicate ideas, capabilities and workflows to business stakeholders</li>\\n<li>You will be working in small focus teams on the full project lifecycle - from project inception to monitoring and optimizing production results</li>\\n</ul>\\n\\n<p><strong>Your profile</strong></p>\\n\\n<p>You are a frontend hacker capable of transforming your ideas into real-world impact.</p>\\n\\n<p><em>Must have</em></p>\\n\\n<ul>\\n<li>2+ years of public-facing frontend app development experience</li>\\n<li>Love for rapid, hands-on prototyping with tight feedback loops</li>\\n<li>Very strong: HTML5, CSS3, JavaScript</li>\\n<li>Strong: browser environments &amp; internals</li>\\n<li>Strong (any of): Angular / React / Ember</li>\\n</ul>\\n\\n<p><em>Highly desirable</em></p>\\n\\n<ul>\\n<li>UI mockup creation experience</li>\\n<li>Strong core computer science, data structures and algorithms</li>\\n<li>Experience with data visualization</li>\\n</ul>\\n\\n<p><em>Bonus points for</em></p>\\n\\n<ul>\\n<li>D3js</li>\\n<li>Scala/Java/C++/Python/R</li>\\n</ul>\\n\\n<p><strong>Our offer to you</strong></p>\\n\\n<ul>\\n<li>High impact on our core products</li>\\n<li>Very experienced colleagues with various backgrounds</li>\\n<li>Extremely wide range of learning opportunities</li>\\n<li>Professional software creation processes &amp; work organization</li>\\n<li>High performance-based compensation</li>\\n<li>The flavor of a startup (free drinks &amp; snacks, team events, rooftop terrace, etc.) combined with the professionalism of seasoned veterans</li>\\n</ul>\\n\\n<p><strong>Your new team</strong></p>\\n\\n<p>We are a diverse team of about 30 software engineers, ML engineers and business people. All united in their hunger to achieve something great and change the promotion game for good. We operate in small teams, with flat hierarchies. We love cooking together in the kitchen and having fun with barbeques on our rooftop terrace. We welcome everyone warmly in our team no matter where you come from or what your background is.</p>\\n\\n<p>We are very much looking forward to your application. Please send your CV including earliest possible entry to the So1 recruitment team at <a href=\"mailto:so1berlin-s1br0037@applications.recruiterbox.com\">so1berlin-s1br0037@applications.recruiterbox.com</a>\\nor follow the link\\n<a href=\"https://so1berlin.recruiterbox.com/jobs/fk0m3in\">Apply now</a></p>\\n', 'company_logo': 'http://github-jobs.s3.amazonaws.com/109ee69c-0963-11e7-8dc7-ac75dd35d2b3.png', 'created_at': 'Wed Mar 15 14:06:16 UTC 2017', 'location': 'Berlin', 'company_url': 'http://www.so1.net/karriere', 'url': 'http://jobs.github.com/positions/3b2d91ce-0963-11e7-916e-75987021a193'}, {'id': '8022bef6-0820-11e7-9703-bc52dbbb2c78', 'how_to_apply': '<p><a href=\"https://jobs.sap.com/job/Berlin-Development-Manager-Machine-Learning-Platform-%28Berlin%29-Job-BE/331912201/?feedId=118400&utm_source=github&utm_campaign=sap_machinelearning\">View and apply on our corporate career site here.</a></p>\\n', 'type': 'Full Time', 'company': 'SAP', 'title': 'Development Manager - Machine Learning Platform (Berlin) Job', 'description': '<p><a href=\"https://jobs.sap.com/job/Berlin-Development-Manager-Machine-Learning-Platform-%28Berlin%29-Job-BE/331912201/?feedId=118400&utm_source=github&utm_campaign=sap_machinelearning\">View and apply on our corporate career site here.</a> </p>\\n\\n<p>EXPECTATIONS AND TASKS</p>\\n\\n<p>You will manage a team of dedicated experts including developers and data scientists with a single goal of enabling Machine Learning use-cases on top of SAP’s ML platform. Your tasks include:</p>\\n\\n<pre><code>Build technological foundations for Machine Learning use-cases\\nEstimate and balance desirability, viability, and feasibility of the solutions\\nBuild, maintain, and enable your team on its job\\n</code></pre>\\n\\n<p>Required</p>\\n\\n<pre><code>Hands-on experience with building and delivering production-grade, cloud-based solutions\\nExperience in agile software development and continuous delivery\\nExperience with at least one of the following cloud infrastructures: AWS, Azure, GCP\\nPrevious lead or management role\\nMinimum of 5 years of professional experience.\\n</code></pre>\\n\\n<p><a href=\"https://jobs.sap.com/job/Berlin-Development-Manager-Machine-Learning-Platform-%28Berlin%29-Job-BE/331912201/?feedId=118400&utm_source=github&utm_campaign=sap_machinelearning\">View and apply on our corporate career site here.</a></p>\\n', 'company_logo': 'http://github-jobs.s3.amazonaws.com/a5d09df8-0820-11e7-812a-00dcfe96c6b0.png', 'created_at': 'Mon Mar 13 19:09:25 UTC 2017', 'location': 'Berlin, Germany', 'company_url': 'https://jobs.sap.com/job/Berlin-Development-Manager-Machine-Learning-Platform-%28Berlin%29-Job-BE/331912201/?feedId=118400&utm_source=github&utm_campaign=sap_machinelearning', 'url': 'http://jobs.github.com/positions/8022bef6-0820-11e7-9703-bc52dbbb2c78'}, {'id': '8c3121c8-081c-11e7-89c0-4a19acd9d9ad', 'how_to_apply': '<p><a href=\"https://jobs.sap.com/job/Berlin-%28Associate%29-Developer-for-Cloud-Platform-Job-BE/331358801/?feedId=118400&utm_source=github&utm_campaign=sap_machinelearning\">View and apply on our corporate career site here.</a></p>\\n', 'type': 'Full Time', 'company': 'SAP', 'title': '(Associate) Developer for Machine Learning Platform Job', 'description': '<p><a href=\"https://jobs.sap.com/job/Berlin-%28Associate%29-Developer-for-Cloud-Platform-Job-BE/331358801/?feedId=118400&utm_source=github&utm_campaign=sap_machinelearning\">View and apply on our corporate career site here.</a> </p>\\n\\n<p>Expectations</p>\\n\\n<pre><code>Build platform services and tools to support efficient creation and delivery of machine learning services\\nCreate excellence both in terms of results quality and system scalability through continuous evaluation, analysis, and refinement of the system implementation\\nWork in a diverse team applying Scrum and agile development\\nCollaborate with remote location teams\\nImplement most recent algorithms and approaches for machine learning in collaboration with our data scientists and researchers\\n</code></pre>\\n\\n<p>Required</p>\\n\\n<pre><code>Master’s degree in computer science, engineering or equivalent education\\nHands-on experience in one or more of Java, Python, Node.js, Scala, Go, or Rust\\nExcellent English language skills\\n</code></pre>\\n\\n<p><a href=\"https://jobs.sap.com/job/Berlin-%28Associate%29-Developer-for-Cloud-Platform-Job-BE/331358801/?feedId=118400&utm_source=github&utm_campaign=sap_machinelearning\">View and apply on our corporate career site here.</a></p>\\n', 'company_logo': 'http://github-jobs.s3.amazonaws.com/87f062a4-081c-11e7-9121-d4d49f954f26.png', 'created_at': 'Mon Mar 13 18:41:06 UTC 2017', 'location': 'Berlin, Germany', 'company_url': 'https://jobs.sap.com/job/Berlin-%28Associate%29-Developer-for-Cloud-Platform-Job-BE/331358801/?feedId=118400&utm_source=github&utm_campaign=sap_machinelearning', 'url': 'http://jobs.github.com/positions/8c3121c8-081c-11e7-89c0-4a19acd9d9ad'}, {'id': '6a2324d8-081b-11e7-903d-21066323065c', 'how_to_apply': '<p><a href=\"https://jobs.sap.com/job/Berlin-%28Senior%29-Cloud-DevOps-Specialist-Job-BE/333703801/?feedId=118400&utm_source=github&utm_campaign=sap_machinelearning\">View and apply on our corporate career site here.</a></p>\\n', 'type': 'Full Time', 'company': 'SAP', 'title': '(Senior) Cloud DevOps Specialist Job', 'description': '<p><a href=\"https://jobs.sap.com/job/Berlin-%28Senior%29-Cloud-DevOps-Specialist-Job-BE/333703801/?feedId=118400&utm_source=github&utm_campaign=sap_machinelearning\">View and apply on our corporate career site here.</a> </p>\\n\\n<p>Expectations</p>\\n\\n<p>Define, configure &amp; maintain deployment/delivery pipelines of Machine Learning microservices in SAP’s cloud infrastructure\\nWork together with development teams to improve the overall development productivity\\nInstall &amp; Manage RDBMS and NoSQL databases\\nEfficiently automate cloud operations\\nPerform agile prototyping to evaluate which solution fits best for cloud operations</p>\\n\\n<p>Required</p>\\n\\n<pre><code>Good understanding of operational challenges such as capacity planning, load balancing and infrastructure monitoring\\nOperational knowledge of at least one Linux distribution such as Redhat, Ubuntu, CentOS, CoreOS\\nFamiliarity with infrastructure automation tools such as Chef, Puppet, terraform, cloudformation, Ansible\\nHands-on experience on continuous integration and build tools like Jenkins, Travis CI\\nExperience in working with Cloud Foundry, AWS, Azure, SAP Cloud Platform or other container/PaaS technologies\\nStrong bash/shell scripting skills\\nExperience working with Git\\nExcellent understanding of agile software development principles\\nExcellent communication and interpersonal skills\\nExcellent English language skills\\n</code></pre>\\n\\n<p>3+ years of experience in relevant roles.</p>\\n\\n<p><a href=\"https://jobs.sap.com/job/Berlin-%28Senior%29-Cloud-DevOps-Specialist-Job-BE/333703801/?feedId=118400&utm_source=github&utm_campaign=sap_machinelearning\">View and apply on our corporate career site here.</a></p>\\n', 'company_logo': 'http://github-jobs.s3.amazonaws.com/5dd7f3de-081b-11e7-8d42-16f2e7a3c6d2.png', 'created_at': 'Mon Mar 13 18:33:10 UTC 2017', 'location': 'Berlin, Germany', 'company_url': 'https://jobs.sap.com/job/Berlin-%28Senior%29-Cloud-DevOps-Specialist-Job-BE/333703801/?feedId=118400&utm_source=github&utm_campaign=sap_machinelearning', 'url': 'http://jobs.github.com/positions/6a2324d8-081b-11e7-903d-21066323065c'}, {'id': 'e456b8c0-05ad-11e7-8d59-897d7161879b', 'how_to_apply': '<p>Please send your documents (including CV and references) to <a href=\"mailto:jobs@cosmocode.de\">jobs@cosmocode.de</a>.</p>\\n', 'type': 'Full Time', 'company': 'CosmoCode GmbH', 'title': 'Python/Django Web developer', 'description': '<p>YOUR RESPONSIBILITIES:</p>\\n\\n<p>You work in a team with experienced Python/Django developers on exciting projects.\\nYou are comfortable with Python and have worked with HTML/CSS/JavaScript before. From us, you can expect a highly professional development environment and helpful colleagues.</p>\\n\\n<p>You are a good fit if you can work well both on your own and in a team.\\nYou are solution-oriented and you enjoy discussing approaches with your colleagues.\\nYou appreciate working in an open and team-oriented atmosphere.</p>\\n\\n<p>WHY COSMOCODE:</p>\\n\\n<p>We successfully ship projects that are too complex for others.\\nWe can we do what others cannot?\\nBecause we know what we are able to do.\\nBecause we learn from mistakes and get better every day since 17 years ago.\\nWe can do that because we trust each other and our abilities.\\nBecause we are honest to ourselves and to our clients.\\nBecause CosmoCode is a Family.\\nBecause we are in it together from trainee to CEO.\\nBecause we are a team.</p>\\n\\n<p>ABOUT YOU: </p>\\n\\n<p>You have experience in developing python-based applications under Linux.\\nSkills in Django, react, Postgres/MySQL, Cloud Services and Sockets/network programming are a plus.\\nWhile a good degree is fine, technical competence is more important to us.</p>\\n\\n<p>WHAT WE OFFER:</p>\\n\\n<p>A professional and modern working environment:</p>\\n\\n<ul>\\n<li>modern hardware - Mac or Linux</li>\\n<li>a modern testing environment and developments tools</li>\\n<li>Book-flat</li>\\n</ul>\\n\\n<p>General amenities:</p>\\n\\n<ul>\\n<li>breakfast and coffee, tea and other beverages as you like</li>\\n<li>table football</li>\\n<li>company events</li>\\n<li>an open company culture with flat hierarchies</li>\\n<li>a young and dynamic team</li>\\n<li>challenging projects</li>\\n<li>working part time is possible</li>\\n<li>appropriate compensation</li>\\n<li>sponsoring of workshops, bar-camps, and events</li>\\n</ul>\\n\\n<p>Interested? We look forward to your application.\\nPlease send your documents (including CV and references) to <a href=\"mailto:jobs@cosmocode.de\">jobs@cosmocode.de</a>.</p>\\n', 'company_logo': 'http://github-jobs.s3.amazonaws.com/c54d4e3a-05ad-11e7-8e5f-055815909cd0.png', 'created_at': 'Fri Mar 10 16:25:27 UTC 2017', 'location': 'Berlin - Prenzlauer Berg', 'company_url': 'http://www.cosmocode.de', 'url': 'http://jobs.github.com/positions/e456b8c0-05ad-11e7-8d59-897d7161879b'}, {'id': 'b635cdd8-ff2b-11e6-8a0f-4e0a80a98e96', 'how_to_apply': '<p>Please email <a href=\"mailto:engjob@bigchaindb.com\">engjob@bigchaindb.com</a>, with your cover letter, resume, and code samples (e.g. GitHub profile).</p>\\n', 'type': 'Full Time', 'company': 'BigchainDB', 'title': 'Decentralized Systems Engineer', 'description': '<p>BigchainDB is building a decentralized database for the internet, and for collaborative ecosystems. Organizations use BigchainDB software to unleash applications in sovereign personal data, compensating creators, supply chain / IoT, data exchanges, and more. </p>\\n\\n<p>You are someone that deeply cares about the future of the internet, of society. You love to build things. To you, coding is a delight.</p>\\n\\n<h2>Responsibilities</h2>\\n\\n<ul>\\n<li>You will design, implement, deploy, benchmark, and maintain decentralized databases and software systems</li>\\n<li>You will co-plan and co-design the product with your team in an agile, open-source development process</li>\\n</ul>\\n\\n<h2>Minimum Qualifications</h2>\\n\\n<ul>\\n<li>You have a Bachelor&#39;s in Software Engineering, Computer Science, or related discipline; or equivalent practical experience</li>\\n<li>You love Python, and have 3+ years of production experience</li>\\n<li>You have experience with distributed systems, backend development, and web-based tech</li>\\n<li>You possess good communication skills; interacting with your team and other teams will be an integral part of your daily routine</li>\\n<li>You are a creative, “make it happen” problem solver</li>\\n</ul>\\n\\n<h2>Preferred Qualifications</h2>\\n\\n<ul>\\n<li>You have a Master’s or PhD in distributed systems, or a related field</li>\\n<li>You have engineered distributed databases, networking protocols, or large-scale transaction systems</li>\\n<li>You&#39;ve worked with: consensus protocols; Linked Data / Semantic Web; languages such as C, C++, Go, Rust, Haskell, Erlang, Clojure, Solidity</li>\\n<li>As a bonus, we&#39;d love to hear about cool stuff you&#39;ve done with: new decentralization protocols and tech (Bitcoin, IPFS / libp2p / cid, Ethereum / EVM / Solidity, Tendermint / abci, Interledger, etc), asynchronous Python, container orchestration (Kubernetes, Swarm, Mesosphere, Fleet), databases (ORM, SQL, noSQL, newSQL)</li>\\n</ul>\\n\\n<h2>Position Details</h2>\\n\\n<ul>\\n<li>Location: Berlin</li>\\n<li>Type: Permanent</li>\\n<li>Salary: To Be Communicated</li>\\n</ul>\\n\\n<p>We&#39;re a tight-knit international team based in Berlin. We’re always building and always shipping, but with an appreciation for the theoretical. We work closely with our users and technology partners, and engage with the global decentralization community.</p>\\n\\n<p>We are an equal opportunity employer and value diversity at our company. We do not discriminate on the basis of race, religion, color, national origin, gender, sexual orientation, age, marital status, veteran status, or disability status.</p>\\n\\n<p>Are you up for working with an awesome team, learning a ton, and shipping code that matters? Please email <a href=\"mailto:engjob@bigchaindb.com\">engjob@bigchaindb.com</a>, with your cover letter, resume, and code samples (e.g. GitHub profile).</p>\\n', 'company_logo': 'http://github-jobs.s3.amazonaws.com/afad6e62-ff2b-11e6-8c1d-52ef51deeb16.png', 'created_at': 'Thu Mar 02 09:37:35 UTC 2017', 'location': 'Berlin', 'company_url': 'http://www.bigchaindb.com', 'url': 'http://jobs.github.com/positions/b635cdd8-ff2b-11e6-8a0f-4e0a80a98e96'}]\n"
     ]
    }
   ],
   "source": [
    "import json\n",
    "r.headers\n",
    "data=r.json()\n",
    "print(data)\n",
    "#somehow i cannot do that with json.dumps()\n",
    "#json.dumps(r)"
   ]
  },
  {
   "cell_type": "markdown",
   "metadata": {},
   "source": [
    "## 3. Get the dictionary of one of the jobs and call the `keys()` method to have a better idea of the data at hand."
   ]
  },
  {
   "cell_type": "code",
   "execution_count": 40,
   "metadata": {
    "collapsed": false
   },
   "outputs": [
    {
     "data": {
      "text/plain": [
       "dict_keys(['title', 'company_url', 'id', 'description', 'created_at', 'company', 'url', 'how_to_apply', 'location', 'company_logo', 'type'])"
      ]
     },
     "execution_count": 40,
     "metadata": {},
     "output_type": "execute_result"
    }
   ],
   "source": [
    "data[0].keys()"
   ]
  },
  {
   "cell_type": "markdown",
   "metadata": {},
   "source": [
    "## 4. Print some of the first job's content, including images and HTML. You might need to import the `IPython` package."
   ]
  },
  {
   "cell_type": "code",
   "execution_count": 7,
   "metadata": {
    "collapsed": false
   },
   "outputs": [
    {
     "name": "stdout",
     "output_type": "stream",
     "text": [
      "Requirement already satisfied (use --upgrade to upgrade): IPython in /Users/adribadri/anaconda/lib/python3.5/site-packages\r\n",
      "\u001b[33mYou are using pip version 8.1.2, however version 9.0.1 is available.\r\n",
      "You should consider upgrading via the 'pip install --upgrade pip' command.\u001b[0m\r\n"
     ]
    }
   ],
   "source": [
    "!pip install IPython\n",
    "import IPython\n",
    "#IPython.display.HTML(data=data)"
   ]
  },
  {
   "cell_type": "code",
   "execution_count": null,
   "metadata": {
    "collapsed": true
   },
   "outputs": [],
   "source": [
    "#IPython.display.Image(data=None, url=None, filename=None, format='png', embed=None, width=None, height=None, retina=False, unconfined=False, metadata=None)¶"
   ]
  },
  {
   "cell_type": "markdown",
   "metadata": {},
   "source": [
    "## 5. Import `SQLite` and create a database."
   ]
  },
  {
   "cell_type": "code",
   "execution_count": 8,
   "metadata": {
    "collapsed": true
   },
   "outputs": [],
   "source": [
    "import sqlite3\n",
    "db=sqlite3.connect(\"database.db\")"
   ]
  },
  {
   "cell_type": "markdown",
   "metadata": {},
   "source": [
    "## 6. Create 2 tables: `Company` and `Job`. Pay special attention on primary and foreign keys as well as unique and non-nullable columns. Make sure you store `created_at` as the equivalent of Python `datetime` and not `string`.\n"
   ]
  },
  {
   "cell_type": "code",
   "execution_count": 9,
   "metadata": {
    "collapsed": true
   },
   "outputs": [],
   "source": [
    "cursor=db.cursor()\n",
    "cursor.execute('CREATE TABLE company(company TEXT PRIMARY KEY,company_url TEXT,company_logo)')\n",
    "db.commit()"
   ]
  },
  {
   "cell_type": "code",
   "execution_count": 12,
   "metadata": {
    "collapsed": false
   },
   "outputs": [
    {
     "ename": "OperationalError",
     "evalue": "table job already exists",
     "output_type": "error",
     "traceback": [
      "\u001b[0;31m---------------------------------------------------------------------------\u001b[0m",
      "\u001b[0;31mOperationalError\u001b[0m                          Traceback (most recent call last)",
      "\u001b[0;32m<ipython-input-12-cb620040033c>\u001b[0m in \u001b[0;36m<module>\u001b[0;34m()\u001b[0m\n\u001b[0;32m----> 1\u001b[0;31m \u001b[0mcursor\u001b[0m\u001b[0;34m.\u001b[0m\u001b[0mexecute\u001b[0m\u001b[0;34m(\u001b[0m\u001b[0;34m'CREATE TABLE job(id INTEGER PRIMARY KEY,title TEXT,description TEXT,company TEXT,how_to_apply TEXT, location TEXT, created_at DATE, type INTEGER)'\u001b[0m\u001b[0;34m)\u001b[0m\u001b[0;34m\u001b[0m\u001b[0m\n\u001b[0m\u001b[1;32m      2\u001b[0m \u001b[0mdb\u001b[0m\u001b[0;34m.\u001b[0m\u001b[0mcommit\u001b[0m\u001b[0;34m(\u001b[0m\u001b[0;34m)\u001b[0m\u001b[0;34m\u001b[0m\u001b[0m\n\u001b[1;32m      3\u001b[0m \u001b[0mclose\u001b[0m\u001b[0;34m.\u001b[0m\u001b[0mdb\u001b[0m\u001b[0;34m\u001b[0m\u001b[0m\n",
      "\u001b[0;31mOperationalError\u001b[0m: table job already exists"
     ]
    }
   ],
   "source": [
    "cursor.execute('CREATE TABLE job(id INTEGER PRIMARY KEY,title TEXT,description TEXT,company TEXT,how_to_apply TEXT, location TEXT, created_at DATE, type INTEGER)')\n",
    "db.commit()"
   ]
  },
  {
   "cell_type": "code",
   "execution_count": 14,
   "metadata": {
    "collapsed": false
   },
   "outputs": [],
   "source": [
    "db.close()"
   ]
  },
  {
   "cell_type": "code",
   "execution_count": null,
   "metadata": {
    "collapsed": true
   },
   "outputs": [],
   "source": []
  },
  {
   "cell_type": "markdown",
   "metadata": {},
   "source": [
    "## 7. Store the data you got from the API request in the database. Make sure you create a transaction (i.e., if an error occurs while saving a job's location data the database should rollback on all statements regarding that job)."
   ]
  },
  {
   "cell_type": "code",
   "execution_count": null,
   "metadata": {
    "collapsed": true
   },
   "outputs": [],
   "source": []
  },
  {
   "cell_type": "markdown",
   "metadata": {},
   "source": [
    "## 8. Execute simple SQL queries in each table and make sure everything looks as was intended."
   ]
  },
  {
   "cell_type": "code",
   "execution_count": null,
   "metadata": {
    "collapsed": true
   },
   "outputs": [],
   "source": []
  },
  {
   "cell_type": "markdown",
   "metadata": {},
   "source": [
    "## 9. Create queries the following queries:\n",
    " * Find out how many jobs have the phrase `Data Science` and how many have the word `Python` in the description.\n",
    " * Find out how many were created in the past 7 days.\n",
    " * Find out how many jobs are located in `California` and which companies those are with."
   ]
  },
  {
   "cell_type": "markdown",
   "metadata": {},
   "source": [
    "**The output from our queries should be similar to this:**\n",
    "\n",
    "There are 27 jobs with the 'Data Science' term, and 40% of them have 'Python' in the description.\n",
    "\n",
    "22% of them have been created in the past 7 days.\n",
    "\n",
    "2 of those are in California. The companies with those jobs are: ['Carbon Black, Inc.', 'Kaggle']"
   ]
  },
  {
   "cell_type": "code",
   "execution_count": null,
   "metadata": {
    "collapsed": true
   },
   "outputs": [],
   "source": []
  }
 ],
 "metadata": {
  "anaconda-cloud": {},
  "kernelspec": {
   "display_name": "Python [default]",
   "language": "python",
   "name": "python3"
  },
  "language_info": {
   "codemirror_mode": {
    "name": "ipython",
    "version": 3
   },
   "file_extension": ".py",
   "mimetype": "text/x-python",
   "name": "python",
   "nbconvert_exporter": "python",
   "pygments_lexer": "ipython3",
   "version": "3.5.2"
  }
 },
 "nbformat": 4,
 "nbformat_minor": 1
}
