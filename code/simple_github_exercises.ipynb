{
 "cells": [
  {
   "cell_type": "markdown",
   "metadata": {},
   "source": [
    "# Exercises:\n",
    "\n",
    "Answer the following questions."
   ]
  },
  {
   "cell_type": "markdown",
   "metadata": {},
   "source": [
    "## 1. Import the `Requests` package and call the [GitHub Jobs](https://jobs.github.com) API with the parameters of your choice. Print the status code to make sure it went well."
   ]
  },
  {
   "cell_type": "code",
   "execution_count": 3,
   "metadata": {
    "collapsed": false
   },
   "outputs": [
    {
     "data": {
      "text/plain": [
       "200"
      ]
     },
     "execution_count": 3,
     "metadata": {},
     "output_type": "execute_result"
    }
   ],
   "source": [
    "import requests\n",
    "parameter={\"full_time\":True}\n",
    "url=\"http://jobs.github.com/positions.json\"\n",
    "r=requests.get(url,params=parameter)\n",
    "r.status_code"
   ]
  },
  {
   "cell_type": "markdown",
   "metadata": {},
   "source": [
    "## 2. Import `json` and print the whole json response with the `json.dumps()` function. See what kind of data it contains.\n"
   ]
  },
  {
   "cell_type": "code",
   "execution_count": 4,
   "metadata": {
    "collapsed": false
   },
   "outputs": [
    {
     "name": "stdout",
     "output_type": "stream",
     "text": [
      "50\n",
      "[\n",
      "  {\n",
      "    \"company\": \"GitHub\",\n",
      "    \"company_logo\": \"http://github-jobs.s3.amazonaws.com/e54db6c2-080d-11e7-9d25-531751d26d63.png\",\n",
      "    \"company_url\": \"https://github.com/about/jobs\",\n",
      "    \"created_at\": \"Wed Apr 12 16:56:04 UTC 2017\",\n",
      "    \"description\": \"<p>More and more companies are using GitHub Enterprise, so the Support team is growing. When our customers have problems, they contact us and it is our goal to help them as quickly and awesomely as possible. We&#39;re looking for an Enterprise Support Manager, in Asia Pacific, who will be responsible for the oversight and performance of a distributed staff answering customer support requests, triaging issues, and providing solutions. Candidates must currently be located in Australia, Japan, or New Zealand and possess legal working authorization.</p>\\n\\n<p>The position reports to the Director of Enterprise Support and works closely with other teams and leaders across the company.</p>\\n\\n<p>GitHub works remotely and asynchronously as much as possible. While this role does not require you to live near our office, it will require some travel to meet with co-workers, customers, and interview candidates.</p>\\n\\n<h2>Responsibilities:</h2>\\n\\n<ul>\\n<li>Manage, mentor, and coach team members</li>\\n<li>Provide career development planning and guidance</li>\\n<li>Meet 1-1 with team members on a regular basis</li>\\n<li>Hire, onboard, and train new team members</li>\\n<li>Maintain cross-team communication between Support, Engineering, and Sales</li>\\n<li>Work with the Enterprise Support Director on the development and execution of team strategy</li>\\n<li>Work with Enterprise Support managers/teams to foster cross-team collaboration</li>\\n<li>Facilitate the implementation of new processes to improve customer support</li>\\n<li>Promote and build upon the unique collaborative culture of Enterprise Support</li>\\n<li>Handle and follow-up on customer escalations</li>\\n<li>Collect and analyze support metrics to drive improvements</li>\\n</ul>\\n\\n<h2>Minimum Qualifications:</h2>\\n\\n<ul>\\n<li>Legal working authorization in Australia</li>\\n<li>Currently residing in the Australia</li>\\n<li>Experience leading a globally distributed team</li>\\n<li>Experience in technical support</li>\\n<li>Experience with personnel hiring</li>\\n<li>Stellar written and oral communication skills</li>\\n<li>Excellent problem-solving skills</li>\\n<li>At least 2-3 years of experience working with and troubleshooting Linux servers</li>\\n<li>Ability to look through and understand code (Ruby / Bash)</li>\\n<li>Enthusiasm for working directly with customers</li>\\n<li>Passionate about creating and fostering good support practices</li>\\n<li>Strong empathy for GitHub users and GitHub Support</li>\\n</ul>\\n\\n<h2>Preferred Qualifications:</h2>\\n\\n<ul>\\n<li>Scaled a quickly growing support team</li>\\n<li>Experience working and managing remotely</li>\\n<li>Knowledge of Git and GitHub</li>\\n</ul>\\n\\n<h2>Who We Are:</h2>\\n\\n<p>GitHub is the best place to share code with friends, co-workers, classmates, and complete strangers. Over fifteen million people use GitHub to build amazing things together. With the collaborative features of GitHub.com and GitHub Business, it has never been easier for individuals and teams to write faster, better code.</p>\\n\\n<h2>What We Value:</h2>\\n\\n<p>Collaboration: We believe the best work is done together. \\nEmpathy: We believe in putting people first. \\nQuality: We believe in setting the standard for excellence. \\nPositive Impact: We believe in making the world a better place through our work. \\nShipping: We believe in creating things for the people using them.</p>\\n\\n<h2>Why You Should Join:</h2>\\n\\n<p>At GitHub, we constantly strive to create an environment that allows our employees (Hubbers) to do the best work of their lives. We&#39;ve designed one of the coolest workspaces in San Francisco (HQ), where over half of our Hubbers work, snack, and create daily. The other half of our Hubbers work remotely in 18 countries across the globe.</p>\\n\\n<p>We are also committed to keeping Hubbers healthy, motivated, focused and creative. We&#39;ve designed our top-notch benefits program with these goals in mind. In a nutshell, we&#39;ve built a place where we truly love working, we think you will too.</p>\\n\\n<p>GitHub is made up of people from a wide variety of backgrounds and lifestyles. We embrace diversity and invite applications from people of all walks of life. We don&#39;t discriminate against employees or applicants based on gender identity or expression, sexual orientation, race, religion, age, national origin, citizenship, disability, pregnancy status, veteran status, or any other differences. Also, if you have a disability, please let us know if there&#39;s any way we can make the interview process better for you; we&#39;re happy to accommodate!</p>\\n\\n<p>*Please note that benefits vary by country, if you have any questions, please don&#39;t hesitate to ask your Recruiter!</p>\\n\",\n",
      "    \"how_to_apply\": \"<p>Interested? We would love to hear more about you and your interest in joining us at GitHub! Just fill out our application <a href=\\\"https://boards.greenhouse.io/github/jobs/586192#.WMbOuxIrLBI\\\">here</a>!</p>\\n\",\n",
      "    \"id\": \"f1c7c294-080d-11e7-9950-fe25c2c2cedc\",\n",
      "    \"location\": \"Remote- Australia\",\n",
      "    \"title\": \"Enterprise Support Manager (Remote- Australia)\",\n",
      "    \"type\": \"Full Time\",\n",
      "    \"url\": \"http://jobs.github.com/positions/f1c7c294-080d-11e7-9950-fe25c2c2cedc\"\n",
      "  },\n",
      "  {\n",
      "    \"company\": \"Routehappy\",\n",
      "    \"company_logo\": null,\n",
      "    \"company_url\": \"https://www.routehappy.com/\",\n",
      "    \"created_at\": \"Mon Apr 03 17:06:38 UTC 2017\",\n",
      "    \"description\": \"<p><strong>Job description</strong></p>\\n\\n<p>We are seeking a passionate and Sr. Ruby developer to help build world class web applications. As an important member of our small team, you will craft applications and Web services, as we transform the flight shopping experience for customers including Google, KAYAK, and United Airlines. The ideal candidate takes end user experience seriously and knows that quality and speed matter above all else.</p>\\n\\n<p><strong>Responsibilities</strong></p>\\n\\n<ul>\\n<li>Build and maintain high-performing API endpoints for web-based applications</li>\\n<li>Develop sophisticated workflows and other role based features for end customers</li>\\n<li>Build and maintain mission critical reporting applications</li>\\n<li>Work closely with colleagues to build new product features from the ground up</li>\\n</ul>\\n\\n<p><strong>Working with us</strong></p>\\n\\n<ul>\\n<li>We are a small team of subject matter experts, engineers, and design pros with deep experience in our disciplines</li>\\n<li>We keep interruptions to a minimum to stay focused on doing great work</li>\\n<li>We offer competitive salary, stock options, full medical benefits, and three weeks PTO</li>\\n</ul>\\n\\n<p><strong>Our key values</strong></p>\\n\\n<ul>\\n<li>Embrace complexity and create simple solutions</li>\\n<li>Be indispensible to airlines and distributors</li>\\n<li>Do the work of our lives</li>\\n</ul>\\n\\n<p><strong>Requirements</strong></p>\\n\\n<ul>\\n<li>Mastery of object-oriented programming with the Ruby language</li>\\n<li>Expertise in automated testing and knowledge of its advantages</li>\\n<li>Expertise in creating readable, maintainable and velocity-stable code</li>\\n<li>Expertise with the HTTP protocol and consuming/building APIs</li>\\n<li>Expertise with Git and popular branching and deployment strategies</li>\\n<li>Proficiency with SQL and database design</li>\\n<li>Proficiency with HTTP caching and other caching strategies</li>\\n<li>Competence with Ruby on Rails</li>\\n<li>Competence with systems administration using AWS</li>\\n</ul>\\n\",\n",
      "    \"how_to_apply\": \"<p>Email your resume to <a href=\\\"mailto:ash@routehappy.com\\\">ash@routehappy.com</a>\\nNo agencies or third parties thanks.</p>\\n\",\n",
      "    \"id\": \"cec4ff36-188f-11e7-8175-3311c21eb0a5\",\n",
      "    \"location\": \"New York City\",\n",
      "    \"title\": \"Sr. Ruby Developer\",\n",
      "    \"type\": \"Full Time\",\n",
      "    \"url\": \"http://jobs.github.com/positions/cec4ff36-188f-11e7-8175-3311c21eb0a5\"\n",
      "  },\n",
      "  {\n",
      "    \"company\": \"European Stability Mechanism (ESM)\",\n",
      "    \"company_logo\": \"http://github-jobs.s3.amazonaws.com/89b9978a-186c-11e7-8c94-d8eeb7af5ce1.jpg\",\n",
      "    \"company_url\": \"https://www.esm.europa.eu/careers\",\n",
      "    \"created_at\": \"Mon Apr 03 12:52:31 UTC 2017\",\n",
      "    \"description\": \"<p>We are looking for an IT Officer focused on software development to join the IT and Operations team. The selected person will report to the Head of the division.</p>\\n\\n<p>The European Stability Mechanism (\\u201cESM\\u201d) is the crisis resolution mechanism for euro area countries. It provides financial assistance to Member States facing financing problems, and issues debt instruments to fund this financial support. The ESM is a unique place to work with around 170 individuals committed to making a difference to the future of the euro area. It recruits talented professionals from every nationality from both the private and public sector.</p>\\n\\n<p><strong>KEY ACCOUNTABILITIES</strong></p>\\n\\n<p>\\u2022Communicate with end-users, analyse, and document requirements</p>\\n\\n<p>\\u2022Design and develop software solutions to meet requirements through team and individual efforts</p>\\n\\n<p>\\u2022Write, optimise, and document source code and participate in peer reviews</p>\\n\\n<p>\\u2022Create, document, and perform unit-, non-regression-, and integration-tests</p>\\n\\n<p>\\u2022Contribute to improving internal processes</p>\\n\\n<p>\\u2022Work in close cooperation with the Project Manager, coordinate with other teams</p>\\n\\n<p>\\u2022Report status, risks, and issues pro-actively.</p>\\n\\n<p><strong>KEY BACKGROUND &amp; EXPERIENCE</strong></p>\\n\\n<p>\\u2022Bachelor&#39;s degree or higher, preferably in Computer Science, Engineering, Physics, or Mathematics</p>\\n\\n<p>\\u2022Ideally 3+ years of experience in a similar role</p>\\n\\n<p>\\u2022Working proficiency in Visual Basic (development of Excel/Access macros)</p>\\n\\n<p>\\u2022Working proficiency in a major object programming language, preferably Java</p>\\n\\n<p>\\u2022Strong technical skills in operating systems (Windows is a must, Linux/Unix are desirable), SQL and HTML/XML required</p>\\n\\n<p>\\u2022A good understanding of software development methodologies required</p>\\n\\n<p>\\u2022Experience in Project Management Waterfall and/or Agile/Scrum required</p>\\n\\n<p>\\u2022Experience working with Microsoft Sharepoint considered an advantage</p>\\n\\n<p>\\u2022Experience with development tooling, such as version control systems (e.g., Git, Mercurial, or Subversion), build tools (e. g., Maven, Gradle, or Ant), and test automation (e. g., Selenium) considered an advantage</p>\\n\\n<p>\\u2022Experience in the financial services industry, particularly the capital markets area, and with trading systems such as Murex or Calypso considered an advantage</p>\\n\\n<p>\\u2022PMI/PMP, Prince2, Scrum alliance certifications considered an advantage</p>\\n\\n<p><strong>KEY COMPETENCIES</strong></p>\\n\\n<p>\\u2022Ability to learn new concepts and software quickly</p>\\n\\n<p>\\u2022Self-motivated, solution- and customer-oriented</p>\\n\\n<p>\\u2022Team spirit and ability to work independently</p>\\n\\n<p>\\u2022Excellent communication skills in English, both written and oral</p>\\n\\n<p>\\u2022Strong analytical and problem-solving skills</p>\\n\\n<p>Contractual conditions: 2-year fixed term contract, with possibility of extension</p>\\n\\n<p><em>The ESM aims to provide equal opportunity to all candidates irrespective of their gender, nationality, age, race, culture, education, religious beliefs, sexual orientation or disability. To further enhance the diversity of our workforce, we particularly encourage women to apply.</em></p>\\n\",\n",
      "    \"how_to_apply\": \"<p>Please apply online on <a href=\\\"https://www.esm.europa.eu/careers/vacancies\\\">https://www.esm.europa.eu/careers/vacancies</a></p>\\n\\n<p>(contact <a href=\\\"mailto:recruitment@esm.europa.eu\\\">recruitment@esm.europa.eu</a> for any questions)</p>\\n\",\n",
      "    \"id\": \"38994558-186c-11e7-8b15-f914b7aae85b\",\n",
      "    \"location\": \"Luxembourg\",\n",
      "    \"title\": \"IT Officer, Software Development\",\n",
      "    \"type\": \"Full Time\",\n",
      "    \"url\": \"http://jobs.github.com/positions/38994558-186c-11e7-8b15-f914b7aae85b\"\n",
      "  },\n",
      "  {\n",
      "    \"company\": \"Torsh Inc\",\n",
      "    \"company_logo\": \"http://github-jobs.s3.amazonaws.com/ca368944-17db-11e7-9d3c-9d45281932e8.png\",\n",
      "    \"company_url\": \"http://www.torsh.co \",\n",
      "    \"created_at\": \"Sun Apr 02 19:38:38 UTC 2017\",\n",
      "    \"description\": \"<p>About the Job:</p>\\n\\n<p>Your role is to help Torsh\\u2019s lead developer execute the company\\u2019s mission and business plan as an education technology company through the development, deployment, and management of its technology infrastructure and software applications. This requires envisioning and understanding the Company\\u2019s product offerings, developing and maintaining its mobile and web applications, and planning for risk and growth.</p>\\n\\n<p>Responsibilities:</p>\\n\\n<p>You are expected to aid in all aspects of developing a modern web application using the Meteor platform. This includes writing clean, well-structured Javascript, HTML, and CSS. You need to be comfortable working on both front and back ends of a complex web app. Additionally, you will work with the lead developer and product manager to define and develop cases (or user stories). Finally, you will provide ongoing QA tests to ensure that code works well and serves its intended purpose.</p>\\n\\n<p>Requirements:</p>\\n\\n<p>B.S. Comp Science or related field\\nAt least 3 years experience building mobile or web applications\\nHands-on development experience with more than one web application framework\\nAbility to discern user requirements and development specifications\\nSkill with Meteor, node.js, Bootstrap, HTML, CSS, and other web technologies\\nExperience working with external API\\u2019s (REST, SOAP, etc.)\\nExperience working with databases, including MongoDB</p>\\n\\n<p>Who You Are:</p>\\n\\n<p>You understand, believe in and are familiar with the life-changing power of a good education.\\nYou are talented, entrepreneurial, and driven and want to get in on the ground floor of a great startup.\\nYou stand out among your peers for your communication skills.\\nYou are self-motivated and able to set your own schedule.\\nYou are willing to relocate to New Orleans, LA.</p>\\n\\n<p>Why This Is A Great Gig:</p>\\n\\n<p>You will be working on cool products that will significantly impact the lives of millions of people\\nWe are a ROWE environment, so there are no set work hours \\u2013 the work just needs to get done\\nWe are able to offer a competitive combination of salary, equity, and benefits\\nYou will participate in and speak at conferences / hackathons / user groups / you name it\\nYou will be treated with the respect you deserve</p>\\n\\n<p>How To Apply</p>\\n\\n<p>Send your resume and details (recent projects, github, stackoverflow, etc.) to <a href=\\\"mailto:dev@torsh.co\\\">dev@torsh.co</a></p>\\n\",\n",
      "    \"how_to_apply\": \"<p>Send your resume and details (recent projects, github, stackoverflow, etc.) to <a href=\\\"mailto:dev@torsh.co\\\">dev@torsh.co</a></p>\\n\",\n",
      "    \"id\": \"d00517fa-17db-11e7-94fe-42fdf6f3bc9c\",\n",
      "    \"location\": \"New Orleans\",\n",
      "    \"title\": \" JAVASCRIPT (METEOR) SOFTWARE DEVELOPER\",\n",
      "    \"type\": \"Full Time\",\n",
      "    \"url\": \"http://jobs.github.com/positions/d00517fa-17db-11e7-94fe-42fdf6f3bc9c\"\n",
      "  },\n",
      "  {\n",
      "    \"company\": \"Werk\",\n",
      "    \"company_logo\": \"http://github-jobs.s3.amazonaws.com/f9547840-17da-11e7-939e-6de0a45d3019.png\",\n",
      "    \"company_url\": \"https://www.saywerk.com\",\n",
      "    \"created_at\": \"Sun Apr 02 19:33:05 UTC 2017\",\n",
      "    \"description\": \"<p><strong>About the company</strong></p>\\n\\n<p>Werk is a marketplace of flexible, career-building job opportunities. </p>\\n\\n<p>Flexibility is not a lifestyle bonus. It&#39;s a strategic solution to a systemic problem. Companies need talented women in the highest positions of leadership. Women need flexibility to advance. Companies that offer flexibility retain and advance women at higher rates, and report higher levels of productivity, happiness, engagement and loyalty among their employees. </p>\\n\\n<p>Werk makes flexibility easy with with our proprietary framework: the FlexiverseTM.</p>\\n\\n<p>Werk is new kind of job board: we are on a mission to get more women into leadership roles by offering them high level jobs that are structured for their success. Werk launched with an MVP in June 2016, raised a $1M Pre-seed round in December 2016 and released a beta product in February, 2017. We are on track to raise a 2.5M seed round in Q3 2017. Werk was founded by <a href=\\\"http://www.saywerk.com/about\\\">Anna Auerbach and Annie Dean</a>. Read about Werk in <a href=\\\"https://www.nytimes.com/2017/02/07/upshot/how-to-close-a-gender-gap-let-employees-control-their-schedules.html\\\">The New York Times</a>, <a href=\\\"https://www.bustle.com/p/this-website-highlighting-flexible-jobs-for-women-will-prevent-women-from-getting-edged-out-of-the-workplace-36940\\\">Bustle</a>, and <a href=\\\"https://www.forbes.com/sites/elanagross/2017/03/08/flexible-work-is-the-future-of-feminism/#505f89da1767\\\">Forbes</a>. Follow along <a href=\\\"http://www.instagram.com/werk\\\">@werk</a>.</p>\\n\\n<p><strong>What kind of work will you do?</strong></p>\\n\\n<p>You will be leading a small group of passionate technologists, providing engineering direction as well as being a hands on contributor that will enable us to scale our marketplace at a rapid pace.  Specifically you will:</p>\\n\\n<ul>\\n<li>Tightly work with the executive team to set the tone and direction of the engineering/product organization</li>\\n<li>Collaborate with our product team to assess, evaluate and implement our product roadmap</li>\\n<li>Own the technology direction for the company which includes application development, devops, analytics and any 3rd party integrations</li>\\n<li>Constantly be evaluating SaaS solutions that will help us scale our business at a rapid rate</li>\\n<li>Build a world class engineering team who evangelizes the team while supporting the changing needs of the business</li>\\n</ul>\\n\\n<p><strong>In the past you have:</strong></p>\\n\\n<p>Worked with modern web technologies that serve a two sided marketplace,  specifically with both frontend and backend web technologies like:</p>\\n\\n<ul>\\n<li>React/Angular</li>\\n<li>PHP/Python/Node</li>\\n<li>NoSQL and/or Postgres</li>\\n<li>Had exposure to cloud based architectures using platforms as a service like; Heroku, AWS, Rackspace, Digital Ocean or an equivalent</li>\\n<li>Stood up effective performance monitoring solutions like Datadog, New Relic, Opbeat, Neptune</li>\\n<li>Implemented and scaled engineering/delivery processes like Scrum, Kanban, TDD, Extreme Programming or an equivalent</li>\\n<li>Designed best in class CI/CD processes and worked with tools like Jenkins/Circle, Ansible and other automation tools with a heavy focus on automated testing</li>\\n<li>Setup effective engineering sourcing and recruitment practices</li>\\n<li>Integrated other parts of the business into the development pipeline such as marketing, operations, product, sales and the support team</li>\\n<li>Collaborated with Product teams to establish and measure KPIs across product launches</li>\\n<li>Implemented OKRs and self evaluations for an engineering organization</li>\\n<li>Assessed, defined and monitored regular security audits and implemented remediation plan(s)</li>\\n<li>Established a data driven engineering culture that thrives on continuous development/improvement</li>\\n</ul>\\n\\n<p><strong>Compensation and Benefits:</strong></p>\\n\\n<p>Competitive compensation commensurate with experience\\nFully-subsidized health, dental and vision insurance\\nFlexibility to be negotiated per candidate; TimeShift, DeskPlus, MicroAgility and TravelLite are available for this role (learn about these terms here).\\nSubsidized meal plan (100% organic meals delivered to the office by a private chef 3 days per week), cost is 75% subsidized by the company</p>\\n\",\n",
      "    \"how_to_apply\": \"<p>Apply through Stackoverflow, email your resume to <a href=\\\"mailto:tech@saywerk.com\\\">tech@saywerk.com</a> or apply through our website at: <a href=\\\"https://www.saywerk.com/opportunity/director-of-engineering/\\\">https://www.saywerk.com/opportunity/director-of-engineering/</a></p>\\n\",\n",
      "    \"id\": \"ffe4dbf0-17da-11e7-84f5-aeeb77497d48\",\n",
      "    \"location\": \"New York\",\n",
      "    \"title\": \"Director of Engineering\",\n",
      "    \"type\": \"Full Time\",\n",
      "    \"url\": \"http://jobs.github.com/positions/ffe4dbf0-17da-11e7-84f5-aeeb77497d48\"\n",
      "  },\n",
      "  {\n",
      "    \"company\": \"Motive Interactive\",\n",
      "    \"company_logo\": null,\n",
      "    \"company_url\": null,\n",
      "    \"created_at\": \"Sat Apr 01 02:49:04 UTC 2017\",\n",
      "    \"description\": \"<p><h2><u>About Motive</u></h2><p><a href=\\\"http://motiveinteractive.com/\\\">Motive Interactive</a> was recently named one of the <a href=\\\"http://www.hasoffers.com/blog/top-25-mobile-advertising-ecosystem/\\\">Top 25 Mobile Ad Networks in the world, </a>come join a team with an amazing future. Motive is seeking creative, driven, and out of the box thinkers to join our growing team in San Diego or San Francisco, CA.\\u00a0</p><p>Motive has been recognized by numerous publications including Inc. Magazine as one of the fastest growing companies in the United States. Motive is at the forefront of Mobile App Marketing and a proven leader in user acquisition for apps.</p><h2><u>Responsibilities</u></h2><ul>    <li>Manage data warehouse plans for a product or a group of products.</li>  <li>Interface with engineers, business stakeholders and analysts to understand data needs.</li> <li>Build data expertise and own data quality</li>  <li>Design, build and launch new data models in production.</li>    <li>Design, build and launch new data extraction, transformation and loading processes in production.</li>  <li>Support existing processes running in production.</li>  <li>Define and manage all data sets</li>    <li>Work with data infrastructure to triage infra issues and drive to resolution.</li></ul><h2>Requirements</h2><ul>    <li>BS/BA in Technical Field, Computer Science or Mathematics.</li> <li>2+ years experience in the data warehouse space.</li>   <li>2+ years experience in custom ETL design, implementation and maintenance.</li>  <li>2+ years experience with object-oriented programming languages (e.g. Python or Java preferred)</li> <li>2+ years experience in writing SQL statements.</li> <li>Ability to analyze data to identify deliverables, gaps and inconsistencies.</li>    <li>Excellent communication skills including the ability to identify and communicate data driven insights.</li> <li>Ability and interest in managing and communicating data warehouse plans to internal clients.</li></ul><h2>Perks</h2><ul>    <li>Company recognized for its amazing Culture! Ranked as one of San Diego&#39;s best places to work</li>   <li>Work in a fast-paced development environment where you will see the results of your work immediately</li>   <li>Casual relaxed atmosphere with a results- driven mentality</li> <li>Competitive base salary</li>    <li>Health benefits: Medical/dental/vision benefits</li>    <li>401K</li>   <li>Profit from working with a team on the cutting edge of the mobile marketing and advertising industry.</li>  <li>Quickly expand your skills as an online marketing professional and build a valuable network in one of the fastest growing segments of advertising</li>  <li>Complimentary massage therapy</li>  <li>Awesome company events!</li></ul> <img src=\\\"https://www.applytracking.com/track.aspx/7NZrx\\\"/></p>\\n\",\n",
      "    \"how_to_apply\": \"<p><a href=\\\"https://www.applytracking.com/track.aspx/7NZsR\\\">https://www.applytracking.com/track.aspx/7NZsR</a></p>\\n\",\n",
      "    \"id\": \"c3fa69e4-1685-11e7-851e-2c7565c323a7\",\n",
      "    \"location\": \"San Diego, CA, US\",\n",
      "    \"title\": \"Database Engineer San Diego\",\n",
      "    \"type\": \"Full Time\",\n",
      "    \"url\": \"http://jobs.github.com/positions/c3fa69e4-1685-11e7-851e-2c7565c323a7\"\n",
      "  },\n",
      "  {\n",
      "    \"company\": \"Booking.com BV\",\n",
      "    \"company_logo\": \"http://github-jobs.s3.amazonaws.com/d7bc5566-fdd3-11e6-9a45-3cfb2ff52a38.jpg\",\n",
      "    \"company_url\": \"https://www.booking.com/\",\n",
      "    \"created_at\": \"Fri Mar 31 16:36:00 UTC 2017\",\n",
      "    \"description\": \"<p>Job Description:</p>\\n\\n<p>At Booking.com we combine the best traits of a start-up but with the resources of planet Earths #1 accommodation website. We are working towards creating the ultimate travel experience, building and improving great products for both users and the accommodation partners.</p>\\n\\n<p>We are not afraid to experiment, think big or aim high!</p>\\n\\n<p>Based in the beautiful city of Amsterdam, our technology department is over 1500 strong.</p>\\n\\n<p>We believe that diversity makes us stronger  with over 60 different nationalities in the technology department alone, you will be able to absorb new skills and develop your career in a multicultural environment.</p>\\n\\n<p>As well as working independently, you will also be responsible for making technical decisions within a team. Our development strategy is agile and we work in small Scrum teams of 5-7. We do several code rollouts every day, are data-driven and do extensive A/B testing on both user and partner facing platforms.</p>\\n\\n<p><strong>B.responsible</strong></p>\\n\\n<ul>\\n<li><p>Take initiative to address the larger technical needs of the product you work on</p></li>\\n<li><p>Focus on moving the business forward, be pragmatic about technology choices</p></li>\\n<li><p>Always keep the customer at the center of everything you do</p></li>\\n<li><p>We want you to have a keen interest on the business, not just any given technical problem</p></li>\\n<li><p>Lead initiatives for improvement of development processes and business opportunities for your teams product and the company as a whole</p></li>\\n<li><p>Identify, foster, and proactively help colleagues to grow professionally, taking a significant role in onboarding new team members</p></li>\\n<li><p>Represent Booking.com values both in the company and in the external community</p></li>\\n<li><p>Advocate a collaborative working environment  make my ideas into our ideas</p></li>\\n<li><p>Lead, manage and resolve technical or design discussions or conflicts</p></li>\\n</ul>\\n\\n<p><strong>B.skilled</strong></p>\\n\\n<ul>\\n<li><p>7+ years development experience with multiple programming languages</p></li>\\n<li><p>3+ years iOS application development using iOS SDK</p></li>\\n<li><p>Experience with Apple Approval &amp; Distribution Process, Ad Hoc &amp; Enterprise Distribution</p></li>\\n<li><p>Experience in solving technical challenges of a whole new level at large scale</p></li>\\n<li><p>Excellent understanding of Objective-C</p></li>\\n<li><p>Good understanding of Xcode and integrating back-end code into iOS app</p></li>\\n<li><p>Self-motivated to explore new technologies, applications and environments</p></li>\\n<li><p>Excellent attention to detail</p></li>\\n<li><p>Self-starter, highly motivated, team-player</p></li>\\n<li><p>Fully comfortable working in English, both in writing and spoken</p></li>\\n</ul>\\n\\n<p><strong>B.ig Bonus</strong></p>\\n\\n<ul>\\n<li><p>Have built an approved store App</p></li>\\n<li><p>Experience working with A/B testing</p></li>\\n<li><p>You have an intrinsic curiosity in technological innovations and you are always on top of the latest trends</p></li>\\n</ul>\\n\\n<p><strong>B.offered</strong></p>\\n\\n<p>We are a performance-based company that offers career advancement and lucrative compensation, including bonuses and stock potential.  We also offer the Booking Deal with other competitive perks and benefits.  The Technology department has monthly hackathons, allowing you to extend your knowledge and skills outside of your everyday scope of work. We are active in the tech community and often host and attend meetups. Our  employees speak at global conferences and arrange hackathons all over the world.</p>\\n\\n<p>We offer personal and professional development opportunities through both internal and external training programs. Additionally we offer a conference budget to each tech employee.  </p>\\n\\n<p>You will be given the freedom to experiment and make your own decisions, impacting millions of travelers  worldwide.</p>\\n\\n<p>This position is open to worldwide candidates and in the case of relocation, we will assist you with a generous relocation package, ensuring a smooth transition to working and living in Amsterdam.  We have successfully relocated 300+ Technology professionals to Amsterdam in the last year!</p>\\n\",\n",
      "    \"how_to_apply\": \"<p>Apply via this link: <a href=\\\"http://grnh.se/xamh241\\\">http://grnh.se/xamh241</a></p>\\n\",\n",
      "    \"id\": \"f77cf496-fdd3-11e6-9dfb-e2c216bab0e9\",\n",
      "    \"location\": \"Amsterdam, the Netherlands\",\n",
      "    \"title\": \"Senior iOS Developer\",\n",
      "    \"type\": \"Full Time\",\n",
      "    \"url\": \"http://jobs.github.com/positions/f77cf496-fdd3-11e6-9dfb-e2c216bab0e9\"\n",
      "  },\n",
      "  {\n",
      "    \"company\": \"Booking.com BV\",\n",
      "    \"company_logo\": \"http://github-jobs.s3.amazonaws.com/6951cb7e-fdd3-11e6-89d7-5bd943175173.jpg\",\n",
      "    \"company_url\": \"https://www.booking.com/\",\n",
      "    \"created_at\": \"Fri Mar 31 16:36:00 UTC 2017\",\n",
      "    \"description\": \"<p>Job Description:</p>\\n\\n<p>Booking.com BV (the company behind Booking.com, the market leading online hotel reservation service in the world) and/or its various support companies throughout the world are looking for people to support the business in the fast-growing hotel markets.</p>\\n\\n<p>Booking.com is looking for Software Developers who are passionate about their craft, who thrive on challenge and who believe in success through collaboration  people who would complement our existing team of developers!</p>\\n\\n<p>We offer an international, result-driven, fun, and dynamic environment. If scale and complexity excite you, Booking is the place to B!</p>\\n\\n<p><strong>B.responsible</strong></p>\\n\\n<p>Our technical culture derives strongly from our strong ties to the Perl community. We appreciate what open source means both for our business and also for internal projects. Some of our most useful hacks inside the company have come from someone scratching the proverbial itch.</p>\\n\\n<p>Even if you do not have Perl experience, your colleagues will help you get up to speed in order to be able to start solving real problems from day one. You will work independently and will also be responsible for making technical decisions within a team. Our development strategy is agile and we work in small Scrum teams of 5-7. We do several rollouts every day, are data-driven and do extensive A/B testing.</p>\\n\\n<p>As a Software Developer, you are responsible for the development, performance, and scaling of our public website as well as internal systems, which includes using: Perl (5.14), DBI, Mason, Moose, Sereal, Plack, nginx, Javascript, MySQL, Memcached, Redis, Hadoop, Elasticsearch, git, and CentOS Linux.</p>\\n\\n<p><em>Important aspects of the job include:</em></p>\\n\\n<ul>\\n<li><p>Rapidly develop next-generation scalable, flexible, and high-performance systems.</p></li>\\n<li><p>Solve issues with the site and internal systems, prioritizing based on customer impact</p></li>\\n<li><p>Act as an intermediary for problems, with both technical and non-technical audiences</p></li>\\n<li><p>Collaborate with the team, Team Leaders and Product Owners to prioritize projects</p></li>\\n</ul>\\n\\n<p><strong>B.skilled</strong></p>\\n\\n<p>Sometimes, solving our toughest problems has little to do with the software we have written, and more to do with the complex interaction of multiple systems. Understanding the full stack, from bits going across the wire to the various protocols that define communication all the way up to the application layer is vitally important. Most of us know multiple languages and have worked on multiple platforms. We need self-starters who are great at solving problems, who initiate solutions and discussions and who believe that any challenge can be scaled with the right mindset and tools.</p>\\n\\n<p><em>We have found that people who match the following requirements are the ones who fit us best:</em></p>\\n\\n<ul>\\n<li><p>4 years of hardcore development experience with more than one programming language</p></li>\\n<li><p>Experience of developing in and contributing to open source</p></li>\\n<li><p>Experience with HTTP and server-side technologies (web servers, database servers)</p></li>\\n<li><p>Ability to work independently in small teams</p></li>\\n<li><p>Preferably a university degree in Mathematics or Software Engineering </p></li>\\n</ul>\\n\\n<p><strong>B.offered</strong></p>\\n\\n<p>We are a performance-based company that offers career advancement and lucrative compensation, including bonuses and stock potential.  We also offer what we call the Booking Deal with other competitive perks and benefits.  The Technology department has monthly hackathons, training and attends/speaks at global conferences.</p>\\n\\n<p>This position is open to worldwide candidates and in the case of relocation, we will assist you with a generous relocation package, ensuring a smooth transition to working and living in Amsterdam.  We have successfully relocated 300+ Technology professionals to Amsterdam in the last year!</p>\\n\",\n",
      "    \"how_to_apply\": \"<p>Apply via this link: <a href=\\\"http://grnh.se/0rv7pi1\\\">http://grnh.se/0rv7pi1</a></p>\\n\",\n",
      "    \"id\": \"fd0d7d5e-fdd3-11e6-9b92-b1f608352aaa\",\n",
      "    \"location\": \"Amsterdam, the Netherlands\",\n",
      "    \"title\": \"Software Developer\",\n",
      "    \"type\": \"Full Time\",\n",
      "    \"url\": \"http://jobs.github.com/positions/fd0d7d5e-fdd3-11e6-9b92-b1f608352aaa\"\n",
      "  },\n",
      "  {\n",
      "    \"company\": \"Booking.com BV\",\n",
      "    \"company_logo\": \"http://github-jobs.s3.amazonaws.com/d12168cc-fdd3-11e6-9b1a-5cdf167413b6.jpg\",\n",
      "    \"company_url\": \"https://www.booking.com/\",\n",
      "    \"created_at\": \"Fri Mar 31 16:36:00 UTC 2017\",\n",
      "    \"description\": \"<p>Job Description:</p>\\n\\n<p>Booking.com is looking for Front End Developers all around the globe! Join us at our beautiful headquarters in Amsterdam and work on planet Earth\\u2019s #1 accommodation website with some of the industry\\u2019s smartest people!</p>\\n\\n<p>Our guiding principle is that by helping our users we help our business. As a Developer in the Front End team you\\u2019ll be a key part of the idea generation process, working in small startup-like teams that take full ownership of their part of our platform. You\\u2019ll work side by side with designers, back end developers, product owners, copywriters and user researchers to conceive, analyze, hand code &amp; test your ideas. You\\u2019ll be given the freedom to make meaningful and measurable improvements impacting millions of users.</p>\\n\\n<p>Our ideal candidate has an excellent eye for detail, pragmatic approach and an absolute commitment to making sure features are well implemented and bug free. We make all of our decisions based on experiments and testing, so you should be excited by taking a data-led approach to development. If you believe you\\u2019re also a passionate advocate for the user, and are looking to work in an agile, collaborative environment than we would like to hear from you! </p>\\n\\n<p><strong>B.responsible</strong></p>\\n\\n<ul>\\n<li><p>Translate requirements and mockups into fully functioning features using JavaScript and HTML/CSS</p></li>\\n<li><p>Continuously look for ways to improve Booking.com and implement A/B tests</p></li>\\n<li><p>Take ownership of sections of Booking.com\\u2018s desktop, tablet and mobile web sites </p></li>\\n</ul>\\n\\n<p><strong>B.skilled</strong></p>\\n\\n<ul>\\n<li><p>3+ years of experience in a relevant role, preferably in a commercial environment</p></li>\\n<li><p>Expert understanding of core front-end web technologies (JavaScript, HTML, CSS)</p></li>\\n<li><p>Experience with JavaScript libraries such as JQuery</p></li>\\n<li><p>Experience with templating languages</p></li>\\n<li><p>Ability to write high-performance, reusable code</p></li>\\n<li><p>Experience troubleshooting cross-browser compatibility issues</p></li>\\n<li><p>Experience with data-driven product development: analytics, A/B testing, etc</p></li>\\n<li><p>Knowledge of version control systems</p></li>\\n<li><p>Comfortable working on a command line</p></li>\\n<li><p>Excellent English communication skills, both written and verbal</p></li>\\n</ul>\\n\\n<p><strong>B.offered</strong></p>\\n\\n<p>We are a performance-based company that offers career advancement and lucrative compensation, including bonuses and stock potential.  We offer what we call the \\u201cBooking Deal\\u201d with other competitive perks and benefits.  IT also has monthly hackathons, training and attends/speaks at global conferences.</p>\\n\\n<p>This position is open to worldwide candidates and in the case of relocation, we will assist you with a generous relocation package, ensuring a smooth transition to working and living in Amsterdam.  We have successfully relocated 200+ IT professionals to Amsterdam in the last year!</p>\\n\",\n",
      "    \"how_to_apply\": \"<p>Apply via this link: <a href=\\\"http://grnh.se/07gjc5\\\">http://grnh.se/07gjc5</a></p>\\n\",\n",
      "    \"id\": \"f3990c98-fdd3-11e6-803e-d71829ea9a18\",\n",
      "    \"location\": \"Amsterdam, the Netherlands\",\n",
      "    \"title\": \"Front End Developer\",\n",
      "    \"type\": \"Full Time\",\n",
      "    \"url\": \"http://jobs.github.com/positions/f3990c98-fdd3-11e6-803e-d71829ea9a18\"\n",
      "  },\n",
      "  {\n",
      "    \"company\": \"Booking.com BV\",\n",
      "    \"company_logo\": \"http://github-jobs.s3.amazonaws.com/8b8d7738-fdd3-11e6-84c5-9df564e62219.jpg\",\n",
      "    \"company_url\": \"https://www.booking.com/\",\n",
      "    \"created_at\": \"Fri Mar 31 16:36:00 UTC 2017\",\n",
      "    \"description\": \"<p>Job Description:</p>\\n\\n<p>Booking.com is looking for a Site Reliability Engineer to join our Core Infrastructure team at our Amsterdam headquarters. As a member of one of the 30 infrastructure teams, you will be given the freedom to make meaningful and measurable improvements impacting millions of people. You will be working in one of the biggest e-commerce companies in the world, deploying code on 25,000+ servers across multiple data centers around the world!</p>\\n\\n<p><strong>B.responsible</strong></p>\\n\\n<ul>\\n<li><p>Design, develop and implement software that improves the stability, scalability, availability and latency of the Booking.com products;</p></li>\\n<li><p>Take ownership of one or more services and have the freedom to do what is best for our business and customers;</p></li>\\n<li><p>Solve problems occurring with our highly available production systems and build solutions and automation to prevent them from happening again;</p></li>\\n<li><p>Build effective monitoring to monitor the health of your system, and jump in to handle outages;</p></li>\\n<li><p>Build and run capacity tests to manage the growth of your systems;</p></li>\\n<li><p>Plan for reliability by designing systems to work across our multinational data centers;</p></li>\\n<li><p>Develop tools to assist the product development teams with successfully deploying 1000s of change sets every day;</p></li>\\n<li><p>Share the on-call rotation and be an escalation contact for incidents.</p></li>\\n</ul>\\n\\n<p><strong>B.skilled</strong></p>\\n\\n<ul>\\n<li><p>Mastery in at least one programming language, Perl and Java are a plus;</p></li>\\n<li><p>Experience with building, operating and maintaining complex and scalable systems;</p></li>\\n<li><p>Solid understanding of Software Engineering and Computer Science principles;</p></li>\\n<li><p>Solid foundation in Linux administration and troubleshooting;</p></li>\\n<li><p>Proven experience with automation. Knowledge of configuration management tools like Puppet or Chef is a plus;</p></li>\\n<li><p>Additional experience in Networking, Security or Storage is a plus;</p></li>\\n<li><p>Be able to understand and formulate meaningful business metrics;</p></li>\\n<li><p>Creative and not afraid to step outside of your comfort zone;</p></li>\\n<li><p>Fluent in the English language both spoken and written.</p></li>\\n</ul>\\n\\n<p><strong>B.offered</strong></p>\\n\\n<p>We are a performance-based company that offers career advancement and lucrative compensation, including bonuses and stock potential.  We also offer what we call the Booking Deal with other competitive perks and benefits.  The Technology department has monthly hackathons, training and attends/speaks at global conferences.</p>\\n\\n<p>This position is open to worldwide candidates and in the case of relocation, we will assist you with a generous relocation package, ensuring a smooth transition to working and living in Amsterdam.  We have successfully relocated 300+ Technology professionals to Amsterdam in the last year!</p>\\n\",\n",
      "    \"how_to_apply\": \"<p>Apply via this link: <a href=\\\"http://grnh.se/3gneyd1\\\">http://grnh.se/3gneyd1</a></p>\\n\",\n",
      "    \"id\": \"fa2381ba-fdd3-11e6-82c5-5b93b6d5fc76\",\n",
      "    \"location\": \"Amsterdam, the Netherlands\",\n",
      "    \"title\": \"Site Reliability Engineer\",\n",
      "    \"type\": \"Full Time\",\n",
      "    \"url\": \"http://jobs.github.com/positions/fa2381ba-fdd3-11e6-82c5-5b93b6d5fc76\"\n",
      "  },\n",
      "  {\n",
      "    \"company\": \"Booking.com BV\",\n",
      "    \"company_logo\": \"http://github-jobs.s3.amazonaws.com/ed7a877e-fdd3-11e6-8e53-5ccd8a9399b4.jpg\",\n",
      "    \"company_url\": \"https://www.booking.com/\",\n",
      "    \"created_at\": \"Fri Mar 31 16:36:00 UTC 2017\",\n",
      "    \"description\": \"<p>Job Description:</p>\\n\\n<p>Booking.com is looking for data savvy professionals to join our team of data scientists. You will be working with stakeholders throughout the company to generate understanding, strategy and suggest actions based on data. If you consider yourself to be that unique hybrid of data hacker, business analyst, communicator and mentor that maintains a strong customer focus and values pragmatism over perfection, then we\\u2019d like to hear from you.</p>\\n\\n<p>There are several data science teams within Booking.com each consisting of 3-8 people. All of these teams have their own scope within the business; we have Data Scientists focusing on the front end of our website, content of the pages, demands of our products, customer satisfaction and loyalty. Every team takes full responsibility for all data analysis within their area; however there is also considerable collaboration amongst teams. We often align on business goals, learn from each other and socialise after work almost every Friday.</p>\\n\\n<p><strong>B.responsible</strong></p>\\n\\n<ul>\\n<li><p>Transform large, complex datasets into pragmatic, actionable insights.  </p></li>\\n<li><p>Leverage data to identify, quantify and influence tangible business gain.</p></li>\\n<li><p>Ability to see beyond the numbers, be the voice of data when communicating to decision makers, product owners and team leaders.</p></li>\\n<li><p>Have the capacity to thrive in our fast-paced environment, adapt quickly and take ownership of your work.</p></li>\\n<li><p>Challenge ideas and methods while working together with talented, highly skilled team members.</p></li>\\n</ul>\\n\\n<p><strong>B.skilled</strong></p>\\n\\n<ul>\\n<li><p>Minimum 3 years of experience in a relevant role</p></li>\\n<li><p>Experience solving real problems using data mining techniques and with statistical rigour</p></li>\\n<li><p>Masters, PhD, or equivalent experience in a quantitative field (computer science, physics, mathematics, engineering, bioinformatics, etc.)</p></li>\\n<li><p>Strong technical skills regarding data analysis, statistics and programming. Strong working knowledge of, Python, Hadoop, SQL, and/or R.</p></li>\\n<li><p>Excellent communication skills; the ability to convey complex analysis results clearly and with conviction to all levels of stakeholders</p></li>\\n</ul>\\n\\n<p><strong>B.offered</strong></p>\\n\\n<p>We are a performance-based company that offers career advancement and lucrative compensation, including bonuses and stock potential.  We also offer what we call the \\u201cBooking Deal\\u201d with other competitive perks and benefits.  IT also has monthly hackathons, training and attends/speaks at global conferences.</p>\\n\\n<p>This position is open to worldwide candidates and in the case of relocation, we will assist you with a generous relocation package, ensuring a smooth transition to working and living in Amsterdam.  We have successfully relocated 200+ IT professionals to Amsterdam in the last year!</p>\\n\",\n",
      "    \"how_to_apply\": \"<p>Apply via this link: <a href=\\\"http://grnh.se/g1tl6m\\\">http://grnh.se/g1tl6m</a></p>\\n\",\n",
      "    \"id\": \"f127a8ca-fdd3-11e6-81a4-fe9da905eb01\",\n",
      "    \"location\": \"Amsterdam, the Netherlands\",\n",
      "    \"title\": \"Data Scientist - Analytics\",\n",
      "    \"type\": \"Full Time\",\n",
      "    \"url\": \"http://jobs.github.com/positions/f127a8ca-fdd3-11e6-81a4-fe9da905eb01\"\n",
      "  },\n",
      "  {\n",
      "    \"company\": \"Booking.com BV\",\n",
      "    \"company_logo\": \"http://github-jobs.s3.amazonaws.com/d5ab2c0c-fdd3-11e6-8174-61e7d10d7b00.jpg\",\n",
      "    \"company_url\": \"https://www.booking.com/\",\n",
      "    \"created_at\": \"Fri Mar 31 16:36:00 UTC 2017\",\n",
      "    \"description\": \"<p>Job Description:</p>\\n\\n<p>At Booking.com we combine the best traits of a start-up but with the resources of planet Earths #1 accommodation website. We are working towards creating the ultimate travel experience, building and improving great products for both users and the accommodation partners.</p>\\n\\n<p>We are not afraid to experiment, think big or aim high!</p>\\n\\n<p>Based in the beautiful city of Amsterdam, our technology department is over 1500 strong.</p>\\n\\n<p>We believe that diversity makes us stronger  with over 60 different nationalities in the technology department alone, you will be able to absorb new skills and develop your career in a multicultural environment.</p>\\n\\n<p>As well as working independently, you will also be responsible for making technical decisions within a team. Our development strategy is agile and we work in small Scrum teams of 5-7. We do several code rollouts every day, are data-driven and do extensive A/B testing on both user and partner facing platforms.</p>\\n\\n<p><strong>B.responsible</strong></p>\\n\\n<ul>\\n<li><p>Take initiative to address the larger technical needs of the product you work on</p></li>\\n<li><p>Focus on moving the business forward, be pragmatic about technology choices</p></li>\\n<li><p>Always keep the customer at the center of everything you do</p></li>\\n<li><p>Lead initiatives for improvement of development processes and business opportunities for your teams product and the company as a whole</p></li>\\n<li><p>Identify, foster, and proactively help colleagues to grow professionally, taking a significant role in onboarding new team members</p></li>\\n<li><p>Represent Booking.com values both in the company and in the external community</p></li>\\n<li><p>Advocate a collaborative working environment  make my ideas into our ideas</p></li>\\n<li><p>Lead, manage and resolve technical or design discussions or conflicts</p></li>\\n</ul>\\n\\n<p><strong>B.skilled</strong></p>\\n\\n<ul>\\n<li><p>7+ years of experience as a polyglot programmer</p></li>\\n<li><p>3+ years Android application development using Android SDK</p></li>\\n<li><p>Experience with Android Market place &amp; Distribution Process</p></li>\\n<li><p>Experience in solving technical challenges of a whole new level at large scale</p></li>\\n<li><p>Self-motivated to explore new technologies, applications and environments</p></li>\\n<li><p>Excellent attention to detail</p></li>\\n<li><p>Self-starter, highly motivated, team-player</p></li>\\n<li><p>Fully comfortable working in English, both in writing and spoken</p></li>\\n</ul>\\n\\n<p><strong>B.ig Bonus</strong></p>\\n\\n<ul>\\n<li><p>Have built an approved store App</p></li>\\n<li><p>Experience working with A/B testing</p></li>\\n<li><p>You have an intrinsic curiosity in technological innovations and you are always on top of the latest trends</p></li>\\n<li><p>Experience with working in international environment, large scale project</p></li>\\n</ul>\\n\\n<p><strong>B.offered</strong></p>\\n\\n<p>We are a performance-based company that offers career advancement and lucrative compensation, including bonuses and stock potential.  We also offer the Booking Deal with other competitive perks and benefits.  The Technology department has monthly hackathons, allowing you to extend your knowledge and skills outside of your everyday scope of work. We are active in the tech community and often host and attend meetups. Our  employees speak at global conferences and arrange hackathons all over the world.</p>\\n\\n<p>We offer personal and professional development opportunities through both internal and external training programs. Additionally we offer a conference budget to each tech employee.  </p>\\n\\n<p>You will be given the freedom to experiment and make your own decisions, impacting millions of travelers  worldwide.</p>\\n\\n<p>This position is open to worldwide candidates and in the case of relocation, we will assist you with a generous relocation package, ensuring a smooth transition to working and living in Amsterdam.  We have successfully relocated 300+ Technology professionals to Amsterdam in the last year!</p>\\n\",\n",
      "    \"how_to_apply\": \"<p>Apply via this link: <a href=\\\"http://grnh.se/0yb5uc1\\\">http://grnh.se/0yb5uc1</a></p>\\n\",\n",
      "    \"id\": \"f58617ee-fdd3-11e6-8c3a-bcc4fa8bc7aa\",\n",
      "    \"location\": \"Amsterdam, the Netherlands\",\n",
      "    \"title\": \"Senior Android Developer\",\n",
      "    \"type\": \"Full Time\",\n",
      "    \"url\": \"http://jobs.github.com/positions/f58617ee-fdd3-11e6-8c3a-bcc4fa8bc7aa\"\n",
      "  },\n",
      "  {\n",
      "    \"company\": \"Booz Allen Hamilton\",\n",
      "    \"company_logo\": \"http://github-jobs.s3.amazonaws.com/103b2600-162b-11e7-88bf-fffcd389e286.png\",\n",
      "    \"company_url\": \"http://www.boozallen.com\",\n",
      "    \"created_at\": \"Fri Mar 31 16:06:44 UTC 2017\",\n",
      "    \"description\": \"<p>Job Number: 01217855</p>\\n\\n<p>Booz Allen Hamilton has been at the forefront of strategy and technology for more than 100 years Today, the firm provides management and technology consulting and engineering services to leading Fortune 500 corporations, governments, and not-for-profits across the globe. Booz Allen partners with public and private sector clients to solve their most difficult challenges through a combination of consulting, analytics, mission operations, technology, systems delivery, cybersecurity, engineering and innovation expertise.</p>\\n\\n<p>Key Role:<br>\\nBuild Web and J2EE applications using Java, SQL, XML, and other tools for a DoD client. Design and develop solutions using a combination of open source, COTS integration, and custom development in Java. Participate in the documentation, development, and maintenance of IT systems. Contribute to team success by interacting with clients and the user community, learning and leveraging new tools, and adhering to software engineering best practices. This position is located in San Diego, CA.  </p>\\n\\n<p>Basic Qualifications:  </p>\\n\\n<ul>\\n<li>2+ years of experience with Java and J2EE application development</li>\\n<li>1+ years of experience with Microsoft SQL Server or Oracle Database Server</li>\\n<li>Secret clearance required</li>\\n<li>BA or BS degree required<br></li>\\n</ul>\\n\\n<p>Additional Qualifications:</p>\\n\\n<ul>\\n<li>Experience with HTML, J2EE, Java, JavaScript, JRun, Jboss, JDBC, JSP, MVC, SOAP, Web Service, XML, and XSD</li>\\n<li>Knowledge of the life cycle process for software development with the latest technologies</li>\\n<li>Ability to work effectively, independently, and collaboratively within a team environment</li>\\n<li>Ability to develop proficiently in core Java, J2EE, and related technologies<br></li>\\n</ul>\\n\\n<p>Clearance:<br>\\nApplicants selected will be subject to a security investigation and may need to meet eligibility requirements for access to classified information; Secret clearance is required.\\nIntegrating a full range of consulting capabilities, Booz Allen is the one firm that helps clients solve their toughest problems. by their side to help them achieve their missions.  Booz Allen is committed to delivering results that endure.<br>\\nWe are proud of our diverse environment, EOE, M/F/Disability/Vet.</p>\\n\",\n",
      "    \"how_to_apply\": \"<p><a href=\\\"http://www.jobs.net/jobs/booz-allen-hamilton/en-us/job/United-States/Java-Software-Developer-Mid/J3G2VT773RQ47749H72/?source=JB-16301\\\">Apply Here</a></p>\\n\",\n",
      "    \"id\": \"08cf986e-162c-11e7-863f-3ca56f376607\",\n",
      "    \"location\": \"San Diego, CA\",\n",
      "    \"title\": \"Java Software Developer, Mid  \",\n",
      "    \"type\": \"Full Time\",\n",
      "    \"url\": \"http://jobs.github.com/positions/08cf986e-162c-11e7-863f-3ca56f376607\"\n",
      "  },\n",
      "  {\n",
      "    \"company\": \"Booz Allen Hamilton\",\n",
      "    \"company_logo\": \"http://github-jobs.s3.amazonaws.com/f2f2c7f0-162b-11e7-8e8e-02dfc7263782.png\",\n",
      "    \"company_url\": \"http://www.boozallen.com\",\n",
      "    \"created_at\": \"Fri Mar 31 16:06:11 UTC 2017\",\n",
      "    \"description\": \"<p>Job Number: 01225420</p>\\n\\n<p>Booz Allen Hamilton has been at the forefront of strategy and technology for more than 100 years Today, the firm provides management and technology consulting and engineering services to leading Fortune 500 corporations, governments, and not-for-profits across the globe. Booz Allen partners with public and private sector clients to solve their most difficult challenges through a combination of consulting, analytics, mission operations, technology, systems delivery, cybersecurity, engineering and innovation expertise.</p>\\n\\n<p>Key Role:<br>\\nPerform complex analysis, design, development, testing, and debugging of ACS 3.0, DCGS-Navy, and MTC-2 software in support of Navy C4I programs. Perform activities ranging from software design and operating architecture integration to the selection of computer systems. Apply knowledge of one or more systems, including ACS 3.0, DCGS-Navy, and MTC-2, one or more platforms, including CANES and TCRI, and programming languages, such as Java. Modernize existing Navy systems architectures and propose enhancement and modifications to improve efficiency, effectiveness, supportability, and sustainability. Conduct software development using Java and Big Data Cloud components with UNIX or Linux operating systems. Assist with training junior software engineer staff. This position is located in San Diego, CA.  </p>\\n\\n<p>Basic Qualifications:  </p>\\n\\n<ul>\\n<li>4+ years of experience with Java development</li>\\n<li>4+ years of experience with engineering in information systems, network data centers, or C4I infrastructure</li>\\n<li>1+ years of experience with using Big Data Cloud technologies</li>\\n<li>Knowledge of software development, systems engineering, and the software development life cycle (SDLC), as applicable to the DoD and Intelligence Community (IC)</li>\\n<li>Ability to present and interact with senior clients and hold technology discussions with non-technical clients</li>\\n<li>Secret clearance required</li>\\n<li>BS degree in Engineering, CS, Mathematics, or Science</li>\\n</ul>\\n\\n<p>Additional Qualifications:  </p>\\n\\n<ul>\\n<li>Experience with information assurance and systems security</li>\\n<li>Knowledge of Open Track Manager (OTM) or Integrated C4I System Framework (ICSF)</li>\\n<li>Knowledge of Consolidated Afloat Network Enterprise Systems (CANES)</li>\\n<li>Knowledge of Agile Core Services (ACS), Storefront, and Ozone Widget Framework</li>\\n<li>Knowledge of configuration management practices, including Puppet and Ansible</li>\\n<li>Knowledge of rapid deployment architectures, including Bamboo and Vagrant</li>\\n<li>MS degree</li>\\n<li>Linux IAT Level II Certification in accordance with DoD 8570 requirements preferred</li>\\n</ul>\\n\\n<p>Clearance:<br>\\nApplicants selected will be subject to a security investigation and may need to meet eligibility requirements for access to classified information; Secret clearance is required.\\nIntegrating a full range of consulting capabilities, Booz Allen is the one firm that helps clients solve their toughest problems. by their side to help them achieve their missions.  Booz Allen is committed to delivering results that endure.<br>\\nWe are proud of our diverse environment, EOE, M/F/Disability/Vet.  </p>\\n\\n<p>SIG2016</p>\\n\",\n",
      "    \"how_to_apply\": \"<p><a href=\\\"http://www.jobs.net/jobs/booz-allen-hamilton/en-us/job/United-States/Software-Engineer-Mid/J3L6L16DS5G991HTSGM/?source=JB-16301\\\">Apply Here</a></p>\\n\",\n",
      "    \"id\": \"f57e05e8-162b-11e7-92e4-d113fc73edc1\",\n",
      "    \"location\": \"San Diego, CA\",\n",
      "    \"title\": \"Software Engineer, Mid  \",\n",
      "    \"type\": \"Full Time\",\n",
      "    \"url\": \"http://jobs.github.com/positions/f57e05e8-162b-11e7-92e4-d113fc73edc1\"\n",
      "  },\n",
      "  {\n",
      "    \"company\": \"Booz Allen Hamilton\",\n",
      "    \"company_logo\": \"http://github-jobs.s3.amazonaws.com/ed1824a6-162b-11e7-97b6-9360042bdb18.png\",\n",
      "    \"company_url\": \"http://www.boozallen.com\",\n",
      "    \"created_at\": \"Fri Mar 31 16:06:01 UTC 2017\",\n",
      "    \"description\": \"<p>Job Number: 01224142</p>\\n\\n<p>Booz Allen Hamilton has been at the forefront of strategy and technology for more than 100 years Today, the firm provides management and technology consulting and engineering services to leading Fortune 500 corporations, governments, and not-for-profits across the globe. Booz Allen partners with public and private sector clients to solve their most difficult challenges through a combination of consulting, analytics, mission operations, technology, systems delivery, cybersecurity, engineering and innovation expertise.</p>\\n\\n<p>Key Role:<br>\\nDevelop Drupal solutions on LAMP stack. Perform requirements gathering, solution design, solution development, testing, deployment, and troubleshooting. Provide help desk support to users and develop solution documentation. Implement continuous integration on Agile and Kanban projects and support team leadership, mentoring, consensus-building, and client communications. Perform complex analysis, design, development, testing, and debugging of computer software in support of distinct product hardware or technical service lines of businesses. Perform activities ranging from software design, operating architecture integration, and selection of computer systems. Apply knowledge of one or more systems, extensive knowledge of one or more platforms, and programming languages and assist with training less experienced software engineer staff.  </p>\\n\\n<p>Basic Qualifications:  </p>\\n\\n<ul>\\n<li>4+ years of experience with professional software development</li>\\n<li>4+ years of experience with Drupal</li>\\n<li>4+ years of experience with LAMP stack</li>\\n<li>4+ years of experience with PHP</li>\\n<li>3+ years of experience with Angular, Bootstrap, and other modern Web technologies</li>\\n<li>Ability to obtain a security clearance</li>\\n<li>BA or BS degree required</li>\\n</ul>\\n\\n<p>Additional Qualifications:  </p>\\n\\n<ul>\\n<li>Experience with SOA, enterprise services, and Git or Git flow</li>\\n<li>Experience with architecture and design for the AWS Cloud and its key features</li>\\n<li>Experience with DevOps methodology</li>\\n<li>Knowledge of modern Web technologies, including Angular JS, PHP, Bootstrap, or Angular Strap and best practices for implementing them</li>\\n<li>Knowledge of AWS and Docker</li>\\n<li>BS degree in Computer Science or IT related field<br></li>\\n</ul>\\n\\n<p>Clearance:<br>\\nApplicants selected will be subject to a security investigation and may need to meet eligibility requirements for access to classified information.\\nIntegrating a full range of consulting capabilities, Booz Allen is the one firm that helps clients solve their toughest problems. by their side to help them achieve their missions.  Booz Allen is committed to delivering results that endure.<br>\\nWe are proud of our diverse environment, EOE, M/F/Disability/Vet.</p>\\n\\n<p>STK17</p>\\n\",\n",
      "    \"how_to_apply\": \"<p><a href=\\\"http://www.jobs.net/jobs/booz-allen-hamilton/en-us/job/United-States/Drupal-Developer/J3F5B75XFSM06FV7JYS/?source=JB-16301\\\">Apply Here</a></p>\\n\",\n",
      "    \"id\": \"efb0b192-162b-11e7-921e-61e7f4252f46\",\n",
      "    \"location\": \"Washington, DC\",\n",
      "    \"title\": \"Drupal Developer  \",\n",
      "    \"type\": \"Full Time\",\n",
      "    \"url\": \"http://jobs.github.com/positions/efb0b192-162b-11e7-921e-61e7f4252f46\"\n",
      "  },\n",
      "  {\n",
      "    \"company\": \"Booz Allen Hamilton\",\n",
      "    \"company_logo\": \"http://github-jobs.s3.amazonaws.com/a96212bc-162b-11e7-9ba0-5b293c6618df.png\",\n",
      "    \"company_url\": \"http://www.boozallen.com\",\n",
      "    \"created_at\": \"Fri Mar 31 16:05:49 UTC 2017\",\n",
      "    \"description\": \"<p>Job Number: R0001664</p>\\n\\n<p>Booz Allen Hamilton has been at the forefront of strategy and technology for more than 100 years Today, the firm provides management and technology consulting and engineering services to leading Fortune 500 corporations, governments, and not-for-profits across the globe. Booz Allen partners with public and private sector clients to solve their most difficult challenges through a combination of consulting, analytics, mission operations, technology, systems delivery, cybersecurity, engineering and innovation expertise.</p>\\n\\n<p>Key Role:<br>\\nPlan, develop, test, deploy, and maintain Web applications using an assortment of technologies, including Java, ASP.NET, C#, IIS, Tomcat, and Microsoft SQL Server. Provide troubleshooting and remediation for production Web applications. Create and maintain SQL Server databases. Develop and consume Web services for integration with other applications. </p>\\n\\n<p>Basic Qualifications:  </p>\\n\\n<ul>\\n<li>7+ years of experience with Web application development using .NET, HTML, CSS, AJAX, or JavaScript and jQuery</li>\\n<li>Experience with C#</li>\\n<li>Experience with relational database development and design and writing SQL statements and stored procedures</li>\\n<li>Experience with object\\u2013oriented software development</li>\\n<li>Ability to translate client requirements into application designs and systems requirements</li>\\n<li>Ability to obtain a security clearance</li>\\n<li>BA or BS degree<br></li>\\n</ul>\\n\\n<p>Additional Qualifications:  </p>\\n\\n<ul>\\n<li>5+ years of experience with C#</li>\\n<li>Experience with Java programming languages</li>\\n<li>Experience with the design and implementation of Web applications using Groovy on Grails</li>\\n<li>Experience with Web application development using Visual Studio and IIS</li>\\n<li>Experience with access control and Active Directory groups</li>\\n<li>Experience with various types of authentication, including Windows and PKI Certificates</li>\\n<li>MA or MS degree</li>\\n</ul>\\n\\n<p>Clearance:<br>\\nApplicants selected will be subject to a security investigation and may need to meet eligibility requirements for access to classified information.<br>\\nIntegrating a full range of consulting capabilities, Booz Allen is the one firm that helps clients solve their toughest problems. by their side to help them achieve their missions.  Booz Allen is committed to delivering results that endure.<br>\\nWe are proud of our diverse environment, EOE, M/F/Disability/Vet.  </p>\\n\\n<p>LI-AH1, AFH16, AFH26, SIG2016, STK17, TMJ16</p>\\n\",\n",
      "    \"how_to_apply\": \"<p><a href=\\\"http://www.jobs.net/jobs/booz-allen-hamilton/en-us/job/United-States/Web-Developer-Senior/J3J1D461PFH09LR72CQ/?source=JB-16301\\\">Apply Here</a></p>\\n\",\n",
      "    \"id\": \"e828be24-162b-11e7-9262-ab64651e7b96\",\n",
      "    \"location\": \"McLean, VA\",\n",
      "    \"title\": \"Web Developer, Senior\",\n",
      "    \"type\": \"Full Time\",\n",
      "    \"url\": \"http://jobs.github.com/positions/e828be24-162b-11e7-9262-ab64651e7b96\"\n",
      "  },\n",
      "  {\n",
      "    \"company\": \"Booz Allen Hamilton\",\n",
      "    \"company_logo\": \"http://github-jobs.s3.amazonaws.com/db76fe52-162b-11e7-8131-458bc354a0b1.png\",\n",
      "    \"company_url\": \"http://www.boozallen.com\",\n",
      "    \"created_at\": \"Fri Mar 31 16:05:40 UTC 2017\",\n",
      "    \"description\": \"<p>Job Number: R0001077</p>\\n\\n<p>Booz Allen Hamilton has been at the forefront of strategy and technology for more than 100 years Today, the firm provides management and technology consulting and engineering services to leading Fortune 500 corporations, governments, and not-for-profits across the globe. Booz Allen partners with public and private sector clients to solve their most difficult challenges through a combination of consulting, analytics, mission operations, technology, systems delivery, cybersecurity, engineering and innovation expertise.</p>\\n\\n<p>Key Role:<br>\\nLeverage expertise with mobile Android development and Windows mobile development. Maintain responsibility for the development, support, and optimization of mobile and embedded software for platforms running Android OS. Assist with training less experienced software engineer staff. This position is located in Westborough, MA.</p>\\n\\n<p>Basic Qualifications:  </p>\\n\\n<ul>\\n<li>2+ years of experience in working with Java and C/C++</li>\\n<li>2+ years of experience with Android SDK</li>\\n<li>2+ years of experience with a demonstrated track record contributing to custom mobile development projects, including Android and Windows Mobile</li>\\n<li>Experience with Android Studio, Eclipse, or similar IDE</li>\\n<li>Experience in low level debugging and proficiency in high level debugging with common debugging tools</li>\\n<li>Experience with working in a collaborative and distributive team environment</li>\\n<li>Ability to recommend solutions to both technical and organizational challenges and effectively communicate with staff, management, and clients</li>\\n<li>Ability to travel up to 15% of the time required</li>\\n<li>Ability to obtain a security clearance</li>\\n<li>BS degree in Electrical or Computer Engineering</li>\\n</ul>\\n\\n<p>Additional Qualifications:  </p>\\n\\n<ul>\\n<li>Experience with working in Agile development team</li>\\n<li>Experience with Android NDK</li>\\n<li>Experience with programming DSP processors or microcontrollers</li>\\n<li>Experience with Windows 8 mobile development</li>\\n<li>Experience with Android operating system source, Linux, Git, and SVN</li>\\n<li>Experience with building custom Android ROMs</li>\\n<li>Experience with iOS and Objective\\u2013C a plus</li>\\n<li>Knowledge of OOP and OOAD</li>\\n<li>Possession of excellent analytical and problem\\u2013solving skills</li>\\n<li>MS degree in Electrical or Computer Engineering or a related field<br></li>\\n</ul>\\n\\n<p>Clearance:<br>\\nApplicants selected will be subject to a security investigation and may need to meet eligibility requirements for access to classified information.<br>\\nIntegrating a full range of consulting capabilities, Booz Allen is the one firm that helps clients solve their toughest problems. by their side to help them achieve their missions.  Booz Allen is committed to delivering results that endure.<br>\\nWe are proud of our diverse environment, EOE, M/F/Disability/Vet.</p>\\n\",\n",
      "    \"how_to_apply\": \"<p><a href=\\\"http://www.jobs.net/jobs/booz-allen-hamilton/en-us/job/United-States/Mobile-Android-Developer/J3G6GV786ZTSF0F78NJ/?source=JB-16301\\\">Apply Here</a></p>\\n\",\n",
      "    \"id\": \"e2b460e2-162b-11e7-9244-de371784466a\",\n",
      "    \"location\": \"Westborough, MA\",\n",
      "    \"title\": \"Mobile/Android Developer\",\n",
      "    \"type\": \"Full Time\",\n",
      "    \"url\": \"http://jobs.github.com/positions/e2b460e2-162b-11e7-9244-de371784466a\"\n",
      "  },\n",
      "  {\n",
      "    \"company\": \"Booz Allen Hamilton\",\n",
      "    \"company_logo\": \"http://github-jobs.s3.amazonaws.com/f279cf1e-1629-11e7-8580-5b55942ff4ca.png\",\n",
      "    \"company_url\": \"http://www.boozallen.com\",\n",
      "    \"created_at\": \"Fri Mar 31 15:52:25 UTC 2017\",\n",
      "    \"description\": \"<p>Job Number: 01220906</p>\\n\\n<p>Booz Allen Hamilton has been at the forefront of strategy and technology for more than 100 years Today, the firm provides management and technology consulting and engineering services to leading Fortune 500 corporations, governments, and not-for-profits across the globe. Booz Allen partners with public and private sector clients to solve their most difficult challenges through a combination of consulting, analytics, mission operations, technology, systems delivery, cybersecurity, engineering and innovation expertise.</p>\\n\\n<p>Key Role:<br>\\nServe as the functional lead for a team of experienced software developers, collaborate with artists and designers from diverse technical backgrounds to solve difficult problems, and implement novel solutions to complex and open-ended problems in training courseware enhancement and development. Use cutting-edge hardware and software in the development of the next generation of learning, training, and educational tools for operators and intelligence analysts in the US defense community. Incorporate innovative techniques, including game-based learning, interactive functionality, and 3D immersive graphics. Deliver solutions on platforms, including desktop, smart phones, and mobile devices. Develop simulated and artificial environments to create effective learning experiences that can be tailored to client needs. This position is located in San Antonio, TX.  </p>\\n\\n<p>Basic Qualifications:  </p>\\n\\n<ul>\\n<li>8+ years of experience with software development</li>\\n<li>2+ years of experience with managing software development teams, including the management of software development processes in a production environment</li>\\n<li>Experience with four of the following: 3D game or simulation technologies, Adobe Flash development, Web technologies, including HTML, CSS, or JavaScript, WebGL, mobile device applications, instructional system design, Interactive Multi-media Instruction (IMI), Learning Management Systems (LMS), or Human-Computer Interaction (HCI)</li>\\n<li>Ability to obtain a security clearance</li>\\n<li>BA or BS degree in CS, Computer Engineering, or IT<br></li>\\n</ul>\\n\\n<p>Additional Qualifications:  </p>\\n\\n<ul>\\n<li>Possession of excellent oral and written communication skills<br></li>\\n</ul>\\n\\n<p>Clearance:<br>\\nApplicants selected will be subject to a security investigation and may need to meet eligibility requirements for access to classified information.\\nIntegrating a full range of consulting capabilities, Booz Allen is the one firm that helps clients solve their toughest problems. by their side to help them achieve their missions.  Booz Allen is committed to delivering results that endure.\\nWe are proud of our diverse environment, EOE, M/F/Disability/Vet.</p>\\n\",\n",
      "    \"how_to_apply\": \"<p><a href=\\\"http://www.jobs.net/jobs/booz-allen-hamilton/en-us/job/United-States/Software-Developer-Lead/J3F4BL6W872L8Q1DCFF/?source=JB-16301\\\">Apply here</a></p>\\n\",\n",
      "    \"id\": \"09185bf0-162a-11e7-8e65-6a45aea83f26\",\n",
      "    \"location\": \"San Antonio, TX\",\n",
      "    \"title\": \"Software Developer Lead  \",\n",
      "    \"type\": \"Full Time\",\n",
      "    \"url\": \"http://jobs.github.com/positions/09185bf0-162a-11e7-8e65-6a45aea83f26\"\n",
      "  },\n",
      "  {\n",
      "    \"company\": \"Booz Allen Hamilton\",\n",
      "    \"company_logo\": \"http://github-jobs.s3.amazonaws.com/c20a3b34-1629-11e7-82c5-86fc9f88f39a.png\",\n",
      "    \"company_url\": \"http://www.boozallen.com\",\n",
      "    \"created_at\": \"Fri Mar 31 15:52:22 UTC 2017\",\n",
      "    \"description\": \"<p>Job Number: 01223657</p>\\n\\n<p>Booz Allen Hamilton has been at the forefront of strategy and technology for more than 100 years Today, the firm provides management and technology consulting and engineering services to leading Fortune 500 corporations, governments, and not-for-profits across the globe. Booz Allen partners with public and private sector clients to solve their most difficult challenges through a combination of consulting, analytics, mission operations, technology, systems delivery, cybersecurity, engineering and innovation expertise.</p>\\n\\n<p>Key Role:<br>\\nContribute to full system development lifecycle (SDLC) support, including the development of application and embedded solutions that contribute to the satisfaction of business and mission needs. Use COTS integration and custom development expertise in industry standard programming languages to convert functional and technical requirements into business and mission solutions. Create system design work products, including wireframes and prototypes. Comprehend SDLC processes and implications to the development role, including unit testing.  </p>\\n\\n<p>Basic Qualifications:  </p>\\n\\n<ul>\\n<li>5 years of experience with software development, including an Agile environment</li>\\n<li>Experience with Web site development, HTML, JavaScript, and CSS</li>\\n<li>Experience with Git code management or quickly acclimating to using a code repository</li>\\n<li>Experience with the design, manipulation, and building of standards-compliant Web services, including SOAP and RESTful</li>\\n<li>Knowledge of Java 2 Platform Enterprise Edition (J2EE), Java Server Pages (JSP), Java Servlets, Java classes, Web application architecture (WAR), Web Service Definition Language (WSDL), Extensible Markup Language (XML), tag libraries, static Web pages, including HTML, and equivalent resources that together constitute a Web application</li>\\n<li>Ability to obtain a security clearance</li>\\n<li>BA or BS degree in CS, Engineering, or Mathematics or 8 years of experience with software development in J2EE environments in lieu of a degree<br></li>\\n</ul>\\n\\n<p>Additional Qualifications:</p>\\n\\n<ul>\\n<li>Knowledge of SVN</li>\\n<li>Java Certification preferred<br></li>\\n</ul>\\n\\n<p>Clearance:<br>\\nApplicants selected will be subject to a security investigation and may need to meet eligibility requirements for access to classified information.<br>\\nIntegrating a full range of consulting capabilities, Booz Allen is the one firm that helps clients solve their toughest problems. by their side to help them achieve their missions.  Booz Allen is committed to delivering results that endure.<br>\\nWe are proud of our diverse environment, EOE, M/F/Disability/Vet.</p>\\n\",\n",
      "    \"how_to_apply\": \"<p><a href=\\\"http://www.jobs.net/jobs/booz-allen-hamilton/en-us/job/United-States/Software-Engineer-Mid/J3K54D6W7DXGZB2R5P6/?source=JB-16301\\\">Apply here</a></p>\\n\",\n",
      "    \"id\": \"071a5f7e-162a-11e7-836f-0f6811f85d89\",\n",
      "    \"location\": \"Orlando, FL\",\n",
      "    \"title\": \"Software Engineer, Mid\",\n",
      "    \"type\": \"Full Time\",\n",
      "    \"url\": \"http://jobs.github.com/positions/071a5f7e-162a-11e7-836f-0f6811f85d89\"\n",
      "  },\n",
      "  {\n",
      "    \"company\": \"Booz Allen Hamilton\",\n",
      "    \"company_logo\": \"http://github-jobs.s3.amazonaws.com/8ab1de4e-1629-11e7-8645-a31892f69502.png\",\n",
      "    \"company_url\": \"http://www.boozallen.com\",\n",
      "    \"created_at\": \"Fri Mar 31 15:52:18 UTC 2017\",\n",
      "    \"description\": \"<p>Job Number: R0000101</p>\\n\\n<p>Booz Allen Hamilton has been at the forefront of strategy and technology for more than 100 years Today, the firm provides management and technology consulting and engineering services to leading Fortune 500 corporations, governments, and not-for-profits across the globe. Booz Allen partners with public and private sector clients to solve their most difficult challenges through a combination of consulting, analytics, mission operations, technology, systems delivery, cybersecurity, engineering and innovation expertise.</p>\\n\\n<p>Key Role:<br>\\nWork closely with a team to develop innovative applications that address the client\\u2019s business, technology, and system integration needs. Develop new and support existing .NET software applications that offer large\\u2013scale and distributed implementations to a dynamic user base. Support the development of an enterprise Web application, leveraging agile methodologies, proven architecture, design patterns, and modern integration strategies. Perform aspects of agile software development, including user story writing, release and iteration planning, agile modeling, and design, coding, unit and integration testing, code reviews, and software documentation. Contribute to the system implementation efforts at various layers, including presentation, service, and data access and integration points, such as Web services, messaging, and ETLs. Work in a dynamic environment with talented team members to deliver quality software capabilities.</p>\\n\\n<p>Basic Qualifications:  </p>\\n\\n<ul>\\n<li>4+ years of experience with information technology as a Web application developer using .NET, C#, or other object\\u2013oriented programming languages for application development</li>\\n<li>4+ years of experience with Web technologies, including HTML, CSS, JavaScript, and jQuery</li>\\n<li>4+ years of experience with relational databases, including Microsoft SQL Server, Oracle, or MySQL</li>\\n<li>Experience with the Agile development methodology and other methodologies</li>\\n<li>Secret clearance<br></li>\\n</ul>\\n\\n<p>Additional Qualifications:  </p>\\n\\n<ul>\\n<li>Experience with the Unified Modeling Language (UML)</li>\\n<li>Experience with Ajax frameworks or controls</li>\\n<li>Experience with reading, writing, and programmatically manipulating XML</li>\\n<li>Experience with developing Service Oriented Architecture (SOA) concepts and techniques</li>\\n<li>Experience with a UI component, including Telerik, DevExpress, Ext JS, Dojo, GWT, and Flash</li>\\n<li>Knowledge of software design patterns</li>\\n<li>Possession of excellent analytical skills</li>\\n<li>Possession of excellent oral and written communication skills</li>\\n<li>BA or BS degree in CS or IT<br></li>\\n</ul>\\n\\n<p>Clearance:<br>\\nApplicants selected will be subject to a security investigation and may need to meet eligibility requirements for access to classified information; Secret clearance is required.\\nIntegrating a full range of consulting capabilities, Booz Allen is the one firm that helps clients solve their toughest problems. by their side to help them achieve their missions.  Booz Allen is committed to delivering results that endure.<br>\\nWe are proud of our diverse environment, EOE, M/F/Disability/Vet.</p>\\n\\n<p>LI-AH1, AFH26, DIG100, TMJ16</p>\\n\",\n",
      "    \"how_to_apply\": \"<p><a href=\\\"http://www.jobs.net/jobs/booz-allen-hamilton/en-us/job/United-States/NET-Developer/J3L8HZ6VTTVRVMWMGL1/?source=JB-16301\\\">Apply here</a></p>\\n\",\n",
      "    \"id\": \"04f62836-162a-11e7-8e93-363f444faedc\",\n",
      "    \"location\": \"Norfolk, VA\",\n",
      "    \"title\": \".NET Developer\",\n",
      "    \"type\": \"Full Time\",\n",
      "    \"url\": \"http://jobs.github.com/positions/04f62836-162a-11e7-8e93-363f444faedc\"\n",
      "  },\n",
      "  {\n",
      "    \"company\": \"Booz Allen Hamilton\",\n",
      "    \"company_logo\": \"http://github-jobs.s3.amazonaws.com/42c664a6-1629-11e7-8718-ebbaff50b2e0.png\",\n",
      "    \"company_url\": \"http://www.boozallen.com\",\n",
      "    \"created_at\": \"Fri Mar 31 15:52:14 UTC 2017\",\n",
      "    \"description\": \"<p>Job Number: R0001077</p>\\n\\n<p>Booz Allen Hamilton has been at the forefront of strategy and technology for more than 100 years Today, the firm provides management and technology consulting and engineering services to leading Fortune 500 corporations, governments, and not-for-profits across the globe. Booz Allen partners with public and private sector clients to solve their most difficult challenges through a combination of consulting, analytics, mission operations, technology, systems delivery, cybersecurity, engineering and innovation expertise.</p>\\n\\n<p>Key Role:\\nLeverage expertise with mobile Android development and Windows mobile development. Maintain responsibility for the development, support, and optimization of mobile and embedded software for platforms running Android OS. Assist with training less experienced software engineer staff. This position is located in Westborough, MA.  </p>\\n\\n<p>Basic Qualifications:  </p>\\n\\n<ul>\\n<li>2+ years of experience in working with Java and C/C++</li>\\n<li>2+ years of experience with Android SDK</li>\\n<li>2+ years of experience with a demonstrated track record contributing to custom mobile development projects, including Android and Windows Mobile</li>\\n<li>Experience with Android Studio, Eclipse, or similar IDE</li>\\n<li>Experience in low level debugging and proficiency in high level debugging with common debugging tools</li>\\n<li>Experience with working in a collaborative and distributive team environment</li>\\n<li>Ability to recommend solutions to both technical and organizational challenges and effectively communicate with staff, management, and clients</li>\\n<li>Ability to travel up to 15% of the time required</li>\\n<li>Ability to obtain a security clearance</li>\\n<li>BS degree in Electrical or Computer Engineering<br></li>\\n</ul>\\n\\n<p>Additional Qualifications:  </p>\\n\\n<ul>\\n<li>Experience with working in Agile development team</li>\\n<li>Experience with Android NDK</li>\\n<li>Experience with programming DSP processors or microcontrollers</li>\\n<li>Experience with Windows 8 mobile development</li>\\n<li>Experience with Android operating system source, Linux, Git, and SVN</li>\\n<li>Experience with building custom Android ROMs</li>\\n<li>Experience with iOS and Objective\\u2013C a plus</li>\\n<li>Knowledge of OOP and OOAD</li>\\n<li>Possession of excellent analytical and problem\\u2013solving skills</li>\\n<li>MS degree in Electrical or Computer Engineering or a related field<br></li>\\n</ul>\\n\\n<p>Clearance:<br>\\nApplicants selected will be subject to a security investigation and may need to meet eligibility requirements for access to classified information.\\nIntegrating a full range of consulting capabilities, Booz Allen is the one firm that helps clients solve their toughest problems. by their side to help them achieve their missions.  Booz Allen is committed to delivering results that endure.<br>\\nWe are proud of our diverse environment, EOE, M/F/Disability/Vet.</p>\\n\",\n",
      "    \"how_to_apply\": \"<p><a href=\\\"http://www.jobs.net/jobs/booz-allen-hamilton/en-us/job/United-States/Mobile-Android-Developer/J3G6GV786ZTSF0F78NJ/?source=JB-16301\\\">Apply here</a></p>\\n\",\n",
      "    \"id\": \"02c23302-162a-11e7-82f3-f89214116312\",\n",
      "    \"location\": \"Westborough, MA\",\n",
      "    \"title\": \"Mobile/Android Developer\",\n",
      "    \"type\": \"Full Time\",\n",
      "    \"url\": \"http://jobs.github.com/positions/02c23302-162a-11e7-82f3-f89214116312\"\n",
      "  },\n",
      "  {\n",
      "    \"company\": \"Booz Allen Hamilton\",\n",
      "    \"company_logo\": \"http://github-jobs.s3.amazonaws.com/050ec004-1629-11e7-8c3c-010f81628883.png\",\n",
      "    \"company_url\": \"http://www.boozallen.com\",\n",
      "    \"created_at\": \"Fri Mar 31 15:52:10 UTC 2017\",\n",
      "    \"description\": \"<p>Job Number: 01224387</p>\\n\\n<p>Booz Allen Hamilton has been at the forefront of strategy and technology for more than 100 years Today, the firm provides management and technology consulting and engineering services to leading Fortune 500 corporations, governments, and not-for-profits across the globe. Booz Allen partners with public and private sector clients to solve their most difficult challenges through a combination of consulting, analytics, mission operations, technology, systems delivery, cybersecurity, engineering and innovation expertise.</p>\\n\\n<p>Key Role:\\nConduct systems analysis and programming activities related to the development, maintenance, and installation of computer programs for client and commercial application systems. Apply basic principles, theories, and concepts to job assignments. Work closely managed on projects involving limited Problem-solving and follow standardized practices and procedures. Interface with supervisors, managers, and other professionals in the work group.  </p>\\n\\n<p>Basic Qualifications:</p>\\n\\n<ul>\\n<li>1+ years of experience with programming</li>\\n<li>Experience in working with OO languages, C#, VB, C++, and Java</li>\\n<li>Ability to obtain a security clearance</li>\\n<li>HS diploma or GED<br></li>\\n</ul>\\n\\n<p>Clearance:<br>\\nApplicants selected will be subject to a security investigation and may need to meet eligibility requirements for access to classified information.\\nIntegrating a full range of consulting capabilities, Booz Allen is the one firm that helps clients solve their toughest problems. by their side to help them achieve their missions.  Booz Allen is committed to delivering results that endure.\\nWe are proud of our diverse environment, EOE, M/F/Disability/Vet.</p>\\n\\n<p>LI-AH1, AFH26, DIG100, TMJ16</p>\\n\",\n",
      "    \"how_to_apply\": \"<p><a href=\\\"http://www.jobs.net/jobs/booz-allen-hamilton/en-us/job/United-States/Applications-Programmer/J3L5PQ6GMK3SFT5YQKQ/?source=JB-16301\\\">Apply here</a></p>\\n\",\n",
      "    \"id\": \"00013d5c-162a-11e7-818b-7e63394721a3\",\n",
      "    \"location\": \"Lexington Park, MD\",\n",
      "    \"title\": \"Applications Programmer\",\n",
      "    \"type\": \"Full Time\",\n",
      "    \"url\": \"http://jobs.github.com/positions/00013d5c-162a-11e7-818b-7e63394721a3\"\n",
      "  },\n",
      "  {\n",
      "    \"company\": \"AgriCircle\",\n",
      "    \"company_logo\": \"http://github-jobs.s3.amazonaws.com/f3f52fa8-1617-11e7-9198-8c84df1afa28.jpg\",\n",
      "    \"company_url\": \"http:// www.agricircle.com/pages/about_us\",\n",
      "    \"created_at\": \"Fri Mar 31 13:46:51 UTC 2017\",\n",
      "    \"description\": \"<p>AgriCircle is an ICT company, headquartered in scenic Rapperswil, Switzerland that develops smart solutions for the agribusiness. We are a young and innovative company that works together with IT professionals using the latest technologies. For our in-house development team we are looking for a:</p>\\n\\n<p><em>Senior Ruby Engineer</em></p>\\n\\n<p>You will help to create and shape an innovative product that will revolutionize farm management as we know it. As a Senior Ruby Engineer, you will be solving complex programming tasks and responsible for technical management support.</p>\\n\\n<p>We offer:</p>\\n\\n<ul>\\n<li>  International working environment in an dynamic and fast growing ICT company</li>\\n<li>  Opportunity to shape a new innovative that have a positive environmental and economic  impact </li>\\n<li>  High exposure to GIS technologies and M2M applications and latest innovations in agriculture (e.g. drone and satellite technology)</li>\\n<li>  Innovation and performance driven environment with exposure to leading professionals and scientists </li>\\n<li>  Work with modern technology (Incl. Ruby 2, JS React, PostgreSQL)</li>\\n<li>  Exposure to latest innovations in agriculture (e.g. drone and satellite technology)<br></li>\\n<li>  Opportunities to work in a young and growing team with personal development opportunities </li>\\n<li>  Ability to work from home</li>\\n</ul>\\n\\n<p>You offer:</p>\\n\\n<ul>\\n<li>  University degree in IT or equivalent work experience</li>\\n<li>  5+ years of experience as a Ruby on Rails developer</li>\\n<li>  3+ year working experience with the SCRUM framework (SCRUM Certification is a plus)</li>\\n<li>  2+ year working experience with a frontend framework (JS React experience is a plus) </li>\\n<li>  Experience with GIS Frameworks</li>\\n<li>  Several years of experience designing and implementing REST API\\u2019s </li>\\n<li>  Strong analytical, mathematical  and conceptual skills combined with result oriented and problem solving capabilities </li>\\n<li>  Passion for test-guided design and beautiful code</li>\\n<li>  Appreciation for design and usability with an eye for details </li>\\n<li>  Integrative, stress resistant team player with strong interpersonal and relationship building skills</li>\\n<li>  Proficiency in English</li>\\n<li>  German is an asset</li>\\n<li>  International work experience is an asset</li>\\n</ul>\\n\",\n",
      "    \"how_to_apply\": \"<p>Take the next step with us:\\nWe would be delighted to receive your application: <a href=\\\"mailto:hr@agricircle.com\\\">hr@agricircle.com</a></p>\\n\",\n",
      "    \"id\": \"44191b02-1618-11e7-864b-e11e479e8c60\",\n",
      "    \"location\": \"Poland - Remote\",\n",
      "    \"title\": \"Senior Ruby Engineer\",\n",
      "    \"type\": \"Full Time\",\n",
      "    \"url\": \"http://jobs.github.com/positions/44191b02-1618-11e7-864b-e11e479e8c60\"\n",
      "  },\n",
      "  {\n",
      "    \"company\": \"Nedap\",\n",
      "    \"company_logo\": \"http://github-jobs.s3.amazonaws.com/dd762c5a-15e5-11e7-8708-14ed4fe81dfe.png\",\n",
      "    \"company_url\": \"https://nedap.homerun.co\",\n",
      "    \"created_at\": \"Fri Mar 31 07:45:21 UTC 2017\",\n",
      "    \"description\": \"<p>Nedap is a Dutch company, based in Groenlo, with over 700 employees, but that doesn&#39;t matter that much. What really matters is that it feels small. We work in small groups, each group has their own culture and vibe. And within those groups we work in teams, so working at Nedap feels a bit like working in a small company, but with big resources. The best of both worlds.</p>\\n\\n<p>A little over fourteen years ago Nedap healthcare was born. Founded by a spirited individual that had an eye for simplicity and a drive for success, Healthcare&#39;s first product was a small time-tracking device for nurses with a single button. Hardware has always been in Nedap&#39;s DNA, evolving in the preceding eighty plus years from mechanical to electrical devices that started to include or be connected to more and more software.</p>\\n\\n<p>Nowadays, Nedap Healthcare builds mostly software, both for the web and mobile platforms. We help nurses, doctors, and patients manage their daily life by allowing them to focus on what is important.</p>\\n\\n<p>We process loads of (medical) personal information for our customers. With the upcoming European Privacy Law in mind we have been developing new systems for the last two years. We want to be one of the first companies to fully support all of the new law.</p>\\n\\n<p>The subject of privacy remains to be a tough subject, our customers often need help understanding what they can and cannot do. We aim to help them on their path by educating them and building easy to use systems.</p>\\n\\n<p>You will be part of a (new) team that continues development on both high throughput backend services and user friendly front-end systems for care providers and patients.</p>\\n\\n<p>Are you passionate about privacy and have the technical chops to back up your beliefs? We are looking for an experienced engineer to be responsible for our auditing system.</p>\\n\\n<p>Knowledge of the following technologies is appreciated but not required: Elixir, Java, RabbitMQ, and ElasticSearch.</p>\\n\\n<p>This position is remote or on-site (we will support your relocation and visa application). Dutch is not a requirement for this position.</p>\\n\",\n",
      "    \"how_to_apply\": \"<p>Apply at <a href=\\\"https://nedap.homerun.co/privacy-engineer/en/apply\\\">https://nedap.homerun.co/privacy-engineer/en/apply</a></p>\\n\",\n",
      "    \"id\": \"e25246f0-15e5-11e7-83cf-d90a63193629\",\n",
      "    \"location\": \"Remote / Netherlands\",\n",
      "    \"title\": \"Privacy engineer\",\n",
      "    \"type\": \"Full Time\",\n",
      "    \"url\": \"http://jobs.github.com/positions/e25246f0-15e5-11e7-83cf-d90a63193629\"\n",
      "  },\n",
      "  {\n",
      "    \"company\": \"Booz Allen Hamilton\",\n",
      "    \"company_logo\": \"http://github-jobs.s3.amazonaws.com/69ab282c-1598-11e7-9b44-7b83866427b0.png\",\n",
      "    \"company_url\": \"http://www.boozallen.com\",\n",
      "    \"created_at\": \"Thu Mar 30 22:30:23 UTC 2017\",\n",
      "    \"description\": \"<p>Job Number: 01214914</p>\\n\\n<p>Booz Allen Hamilton has been at the forefront of strategy and technology for more than 100 years Today, the firm provides management and technology consulting and engineering services to leading Fortune 500 corporations, governments, and not-for-profits across the globe. Booz Allen partners with public and private sector clients to solve their most difficult challenges through a combination of consulting, analytics, mission operations, technology, systems delivery, cybersecurity, engineering and innovation expertise.</p>\\n\\n<p>Key Role:<br>\\nImplement software solutions to complex problems with the guidance of project subject matter experts and development team leads. Aid in Java development on a distributed, JEE project as part of a team of 17 FTEs, including 8 developers. Perform software development in various environments, including Sencha ExtJS, RedHat Enterprise Linux, Spring, TIBCO EMS, Oracle, and Tomcat Web servers. Coordinate with the development team and work independently on clearly defined tasks. Interact with the client, including weekly status meetings and presentations and work in a client site lab.  </p>\\n\\n<p>Basic Qualifications:  </p>\\n\\n<ul>\\n<li>4+ years of experience with Java software development</li>\\n<li>2+ years of experience with using software design patterns and integrating commercial and open source software products</li>\\n<li>TS/SCI clearance with a polygraph</li>\\n<li>BA or BS degree<br></li>\\n</ul>\\n\\n<p>Additional Qualifications:  </p>\\n\\n<ul>\\n<li>1+ years of experience with DB/SQL</li>\\n<li>1+ years of experience with Spring</li>\\n<li>1+ years of experience with RedHat Linux</li>\\n<li>1+ years of experience with Apache Tomcat or comparable Web or application server</li>\\n<li>1+ years of experience with RMI</li>\\n<li>1+ years of experience with VMware</li>\\n<li>1+ years of experience with Hibernate</li>\\n<li>1+ years of experience with Java Message Service (JMS)</li>\\n<li>Possession of excellent oral and written communication skills</li>\\n<li>BA or BS degree in CS or a related field<br></li>\\n</ul>\\n\\n<p>Clearance:<br>\\nApplicants selected will be subject to a security investigation and may need to meet eligibility requirements for access to classified information; TS/SCI clearance with polygraph is required.\\nIntegrating a full range of consulting capabilities, Booz Allen is the one firm that helps clients solve their toughest problems. by their side to help them achieve their missions.  Booz Allen is committed to delivering results that endure.<br>\\nWe are proud of our diverse environment, EOE, M/F/Disability/Vet.</p>\\n\",\n",
      "    \"how_to_apply\": \"<p><a href=\\\"http://www.jobs.net/jobs/booz-allen-hamilton/en-us/job/United-States/Java-Developer-Mid/J3K3F1750LX2H9VKLXM/?source=JB-16301\\\">Apply Here</a></p>\\n\",\n",
      "    \"id\": \"771ae9de-1598-11e7-851b-2e78515e7053\",\n",
      "    \"location\": \"Fort Meade, MD\",\n",
      "    \"title\": \"Java Developer, Mid  \",\n",
      "    \"type\": \"Full Time\",\n",
      "    \"url\": \"http://jobs.github.com/positions/771ae9de-1598-11e7-851b-2e78515e7053\"\n",
      "  },\n",
      "  {\n",
      "    \"company\": \"Booz Allen Hamilton\",\n",
      "    \"company_logo\": \"http://github-jobs.s3.amazonaws.com/6833ff8c-1598-11e7-858f-bc5a9fa44f74.png\",\n",
      "    \"company_url\": \"http://www.boozallen.com\",\n",
      "    \"created_at\": \"Thu Mar 30 22:30:20 UTC 2017\",\n",
      "    \"description\": \"<p>Job Number: R0000651</p>\\n\\n<p>Booz Allen Hamilton has been at the forefront of strategy and technology for more than 100 years Today, the firm provides management and technology consulting and engineering services to leading Fortune 500 corporations, governments, and not-for-profits across the globe. Booz Allen partners with public and private sector clients to solve their most difficult challenges through a combination of consulting, analytics, mission operations, technology, systems delivery, cybersecurity, engineering and innovation expertise.</p>\\n\\n<p>Key Role:<br>\\nDevelop, maintain, and enhance complex and diverse software systems, including processing intensive analytics, developing novel algorithms, and manipulating extremely large data sets, real-time systems, and business management information systems based on documented requirements. Work individually or as part of a team. Review and test software components for adherence to the design requirements and document test results. Resolve software problem reports using software development and software design methodologies appropriate to the development environment. Provide specific input to the software components of system design, including hardware and software trade-offs, software reuse, use of COTS or GOTS in place of new development, and requirements analysis and synthesis from system level to individual software components.  </p>\\n\\n<p>Basic Qualifications:  </p>\\n\\n<ul>\\n<li>7+ years of experience with software development</li>\\n<li>Experience with an object-oriented programming languages, including Java and C++ and scripting languages, including Python</li>\\n<li>Experience with relational databases, including Oracle and MySQL</li>\\n<li>TS/SCI clearance with a polygraph</li>\\n<li>BS degree<br></li>\\n</ul>\\n\\n<p>Additional Qualifications:  </p>\\n\\n<ul>\\n<li>Experience with unstructured databases, including Mongo</li>\\n<li>Experience with Web page design, including JavaScript and SmartGWT</li>\\n<li>Experience with working in UNIX and Agile environments</li>\\n<li>Ability to brief technical topics to non-technical staff</li>\\n<li>Ability to gather requirements from project teams and determine priorities</li>\\n<li>Ability to work in an ambiguous, fast-paced, highly collaborative, and team-oriented environment and balance long- and short-term taskings</li>\\n<li>Ability to exhibit flexibility, initiative, and innovation</li>\\n<li>BS degree in an IT- or CS-related field<br></li>\\n</ul>\\n\\n<p>Clearance:<br>\\nApplicants selected will be subject to a security investigation and may need to meet eligibility requirements for access to classified information; TS/SCI clearance with polygraph is required.\\nIntegrating a full range of consulting capabilities, Booz Allen is the one firm that helps clients solve their toughest problems. by their side to help them achieve their missions.  Booz Allen is committed to delivering results that endure.<br>\\nWe are proud of our diverse environment, EOE, M/F/Disability/Vet.</p>\\n\",\n",
      "    \"how_to_apply\": \"<p><a href=\\\"http://www.jobs.net/jobs/booz-allen-hamilton/en-us/job/United-States/Software-Engineer/J3K41T72NRZQ642GFFD/?source=JB-16301\\\">Apply Here</a></p>\\n\",\n",
      "    \"id\": \"758a99a2-1598-11e7-861b-8fccf0b8560a\",\n",
      "    \"location\": \"Fort Meade, MD\",\n",
      "    \"title\": \"Software Engineer\",\n",
      "    \"type\": \"Full Time\",\n",
      "    \"url\": \"http://jobs.github.com/positions/758a99a2-1598-11e7-861b-8fccf0b8560a\"\n",
      "  },\n",
      "  {\n",
      "    \"company\": \"Booz Allen Hamilton\",\n",
      "    \"company_logo\": \"http://github-jobs.s3.amazonaws.com/6b214bb4-1598-11e7-9281-7c557bf0778f.png\",\n",
      "    \"company_url\": \"http://www.boozallen.com\",\n",
      "    \"created_at\": \"Thu Mar 30 22:30:17 UTC 2017\",\n",
      "    \"description\": \"<p>Job Number: R0000400</p>\\n\\n<p>Booz Allen Hamilton has been at the forefront of strategy and technology for more than 100 years Today, the firm provides management and technology consulting and engineering services to leading Fortune 500 corporations, governments, and not-for-profits across the globe. Booz Allen partners with public and private sector clients to solve their most difficult challenges through a combination of consulting, analytics, mission operations, technology, systems delivery, cybersecurity, engineering and innovation expertise.</p>\\n\\n<p>Key Role:\\nProvide software engineering leadership and support using cutting edge technologies to support growing client needs. Lead a team of developers to build scalable, full stack Cloud\\u2013based offerings. Keep up\\u2013to\\u2013date with technical trends in the industry and evangelize the adoption of new technologies in solution architectures. Maintain responsibility for personal and team goals, give adequate direction to junior developers, and perform peer code reviews. Work extensively with business analysts and UX engineers to deliver world class solutions for clients.  </p>\\n\\n<p>Basic Qualifications:  </p>\\n\\n<ul>\\n<li>3+ years of experience with Java</li>\\n<li>2+ years of experience with software development</li>\\n<li>1+ years of experience with React.js</li>\\n<li>Experience with REST or JavaScript</li>\\n<li>Experience with Agile development methods, including TDD, CI, or automated testing</li>\\n<li>Ability to obtain a security clearance</li>\\n<li>BA or BS degree<br></li>\\n</ul>\\n\\n<p>Additional Qualifications:  </p>\\n\\n<ul>\\n<li>Experience with the LAMP stack or Python and Django</li>\\n<li>Experience with CSS pre\\u2013processor, including LESS or SASS</li>\\n<li>Experience with issue tracking and change control tools, including JIRA</li>\\n<li>Experience with building and consuming REST APIs</li>\\n<li>Experience with relational database systems, including MySQL, Oracle, SQL, or PL/SQL</li>\\n<li>Experience with technical document writing</li>\\n<li>Knowledge of IaaS Cloud hosting solutions, including AWS or Azure</li>\\n<li>Possession of excellent oral and written communication skills<br></li>\\n</ul>\\n\\n<p>Clearance:<br>\\nApplicants selected will be subject to a security investigation and may need to meet eligibility requirements for access to classified information.<br>\\nIntegrating a full range of consulting capabilities, Booz Allen is the one firm that helps clients solve their toughest problems. by their side to help them achieve their missions.  Booz Allen is committed to delivering results that endure.<br>\\nWe are proud of our diverse environment, EOE, M/F/Disability/Vet.</p>\\n\",\n",
      "    \"how_to_apply\": \"<p><a href=\\\"http://www.jobs.net/jobs/booz-allen-hamilton/en-us/job/United-States/React-js-Developer-Senior/J3K83K75TG983WQRPYJ/?source=JB-16301\\\">Apply Here</a></p>\\n\",\n",
      "    \"id\": \"73c735da-1598-11e7-83f7-c8a3c8663d20\",\n",
      "    \"location\": \"Herndon, VA\",\n",
      "    \"title\": \"React.js Developer, Senior  \",\n",
      "    \"type\": \"Full Time\",\n",
      "    \"url\": \"http://jobs.github.com/positions/73c735da-1598-11e7-83f7-c8a3c8663d20\"\n",
      "  },\n",
      "  {\n",
      "    \"company\": \"Booz Allen Hamilton\",\n",
      "    \"company_logo\": \"http://github-jobs.s3.amazonaws.com/6d0c3632-1598-11e7-97f4-f405b89a5f19.png\",\n",
      "    \"company_url\": \"http://www.boozallen.com\",\n",
      "    \"created_at\": \"Thu Mar 30 22:30:15 UTC 2017\",\n",
      "    \"description\": \"<p>Job Number: R0000847</p>\\n\\n<p>Booz Allen Hamilton has been at the forefront of strategy and technology for more than 100 years Today, the firm provides management and technology consulting and engineering services to leading Fortune 500 corporations, governments, and not-for-profits across the globe. Booz Allen partners with public and private sector clients to solve their most difficult challenges through a combination of consulting, analytics, mission operations, technology, systems delivery, cybersecurity, engineering and innovation expertise.</p>\\n\\n<p>Key Role:\\nWork independently, designing and developing new software products or major enhancements to existing software. Lead a large development team in the designing of highly complex software systems. Act as a high level technical expert, addressing problems of systems integration, compatibility, and multiple platforms. Maintain responsibility for project completion. Perform feasibility analysis on potential future projects to management.  </p>\\n\\n<p>Basic Qualifications:  </p>\\n\\n<ul>\\n<li>3+ years of experience with THAAD interoperability</li>\\n<li>3+ years of experience with C++</li>\\n<li>3+ years experience in ADA</li>\\n<li>Experience in a THAAD test center, including TEC</li>\\n<li>Secret clearance</li>\\n<li>BA or BS degree</li>\\n</ul>\\n\\n<p>Additional Qualifications:  </p>\\n\\n<ul>\\n<li>6+ years of experience with THAAD</li>\\n<li>3+ years in a THAAD test center</li>\\n<li>BS degree in an engineering or technical field preferred; MS degree a plus<br></li>\\n</ul>\\n\\n<p>Clearance:<br>\\nApplicants selected will be subject to a security investigation and may need to meet eligibility requirements for access to classified information; Secret clearance is required.<br>\\nIntegrating a full range of consulting capabilities, Booz Allen is the one firm that helps clients solve their toughest problems. by their side to help them achieve their missions.  Booz Allen is committed to delivering results that endure.<br>\\nWe are proud of our diverse environment, EOE, M/F/Disability/Vet.</p>\\n\",\n",
      "    \"how_to_apply\": \"<p><a href=\\\"http://www.jobs.net/jobs/booz-allen-hamilton/en-us/job/United-States/C-Developer-Senior/J3L7NS6P45S5QQJG0KJ/?source=JB-16301\\\">Apply Here</a></p>\\n\",\n",
      "    \"id\": \"721e27c0-1598-11e7-870b-017ececd2b6f\",\n",
      "    \"location\": \"Huntsville, AL\",\n",
      "    \"title\": \"C++ Developer, Senior  \",\n",
      "    \"type\": \"Full Time\",\n",
      "    \"url\": \"http://jobs.github.com/positions/721e27c0-1598-11e7-870b-017ececd2b6f\"\n",
      "  },\n",
      "  {\n",
      "    \"company\": \"Booz Allen Hamilton\",\n",
      "    \"company_logo\": \"http://github-jobs.s3.amazonaws.com/43f32314-1598-11e7-941f-f6f4b0a8c69c.png\",\n",
      "    \"company_url\": \"http://www.boozallen.com\",\n",
      "    \"created_at\": \"Thu Mar 30 22:30:11 UTC 2017\",\n",
      "    \"description\": \"<p>Job Number: R0000134</p>\\n\\n<p>Booz Allen Hamilton has been at the forefront of strategy and technology for more than 100 years Today, the firm provides management and technology consulting and engineering services to leading Fortune 500 corporations, governments, and not-for-profits across the globe. Booz Allen partners with public and private sector clients to solve their most difficult challenges through a combination of consulting, analytics, mission operations, technology, systems delivery, cybersecurity, engineering and innovation expertise.</p>\\n\\n<p>Key Role:<br>\\nPerform full life cycle Web application or Windows application development, including design, coding, testing, debugging, and documentation of new or existing software. Define and recommend system architecture enhancements and solutions for IT problems. Lead portions of the software development project. Write supporting documentation and meet project deadlines in a timely manner. Exhibit excellent communication expertise and perform well in a dynamic team environment. Analyze, recommend, and implement proposed new technologies with assistance. This position may require up to 15% travel.  </p>\\n\\n<p>Basic Qualifications:  </p>\\n\\n<ul>\\n<li>5+ years of experience with software development</li>\\n<li>4+ years of experience with object-oriented programming</li>\\n<li>4+ years of experience with MS DotNet </li>\\n<li>4+ years of experience with databases, including SQL </li>\\n<li>2+ years of experience with requirements analysis</li>\\n<li>Experience with Microsoft Excel, Word, and Project</li>\\n<li>Ability to obtain a security clearance<br></li>\\n<li>BA or BS degree in CS, CIS, MIS, or Computer Engineering<br></li>\\n</ul>\\n\\n<p>Additional Qualifications:  </p>\\n\\n<ul>\\n<li>3+ years of experience with C#, DotNet, SQL, and ASP.Net</li>\\n<li>Experience with developing applications that transmit and receive video</li>\\n<li>Experience with project management, including hours estimation, planning, and client interface</li>\\n<li>Experience with Agile development</li>\\n<li>Experience with networks and Cloud computing a plus</li>\\n<li>Experience with software defined radio and an RF communications system</li>\\n</ul>\\n\\n<p>Clearance:<br>\\nApplicants selected will be subject to a security investigation and may need to meet eligibility requirements for access to classified information.\\nIntegrating a full range of consulting capabilities, Booz Allen is the one firm that helps clients solve their toughest problems. by their side to help them achieve their missions.  Booz Allen is committed to delivering results that endure.\\nWe are proud of our diverse environment, EOE, M/F/Disability/Vet.</p>\\n\\n<p>LI-AH1, AFH26, DIG100, TMJ16</p>\\n\",\n",
      "    \"how_to_apply\": \"<p><a href=\\\"http://www.jobs.net/jobs/booz-allen-hamilton/en-us/job/United-States/Software-Engineer/J3K3LR6NBB4R9962RTT/?source=JB-16301\\\">Apply Here</a></p>\\n\",\n",
      "    \"id\": \"70374888-1598-11e7-9218-1eb9d220e7cd\",\n",
      "    \"location\": \"Lexington Park, MD\",\n",
      "    \"title\": \"Software Engineer  \",\n",
      "    \"type\": \"Full Time\",\n",
      "    \"url\": \"http://jobs.github.com/positions/70374888-1598-11e7-9218-1eb9d220e7cd\"\n",
      "  },\n",
      "  {\n",
      "    \"company\": \"Booz Allen Hamilton\",\n",
      "    \"company_logo\": \"http://github-jobs.s3.amazonaws.com/17c6f626-1598-11e7-84c8-33b93fc8717d.png\",\n",
      "    \"company_url\": \"http://www.boozallen.com\",\n",
      "    \"created_at\": \"Thu Mar 30 22:29:09 UTC 2017\",\n",
      "    \"description\": \"<p>Job Number: 01221571</p>\\n\\n<p>Booz Allen Hamilton has been at the forefront of strategy and technology for more than 100 years Today, the firm provides management and technology consulting and engineering services to leading Fortune 500 corporations, governments, and not-for-profits across the globe. Booz Allen partners with public and private sector clients to solve their most difficult challenges through a combination of consulting, analytics, mission operations, technology, systems delivery, cybersecurity, engineering and innovation expertise.</p>\\n\\n<p>Key Role:\\nPerform complex analysis, design, development, testing, debugging, and sustainment of computer software in support of tactical radar systems which provide training in operations and maintenance tasks. Maintain responsibility for the design, development, and implementation of the system and all corresponding software applications. Perform software engineering activities, including supporting development across multiple labs and systems and implement security and data assurance into the system. Apply knowledge of systems, platforms, and programming languages. Interface with team members and stakeholders on new and existing software requirements. Leverage knowledge of computing systems, software architectures and structures, and Graphic User Interface (GUI) development. Support system and application test reviews and user acceptance activities and work under general or little supervision in a dynamic team environment.  </p>\\n\\n<p>Basic Qualifications:  </p>\\n\\n<ul>\\n<li>5+ years of experience with software development</li>\\n<li>Experience with using analytical, communication, presentation, and problem solving expertise in a client workplace</li>\\n<li>Experience with developing user interfaces</li>\\n<li>Experience with Web-based applications and the Software Development Life Cycle (SDLC)</li>\\n<li>Experience with Java, JavaScript, Angular.JS, Qt, or C/C++</li>\\n<li>Knowledge of Perl, Python, or other scripting languages\\n-Ability to support tasks in a team-oriented, collaborative environment</li>\\n<li>Ability to obtain a security clearance</li>\\n<li>BS degree</li>\\n</ul>\\n\\n<p>Additional Qualifications:  </p>\\n\\n<ul>\\n<li>Experience with THAAD software a plus</li>\\n<li>Experience with various other development languages and methodologies, including Swing, .Net, Ada, Agile, Netbeans, and Solaris a plus</li>\\n<li>BS degree in CS, Software Engineering, or a related field<br></li>\\n</ul>\\n\\n<p>Clearance:\\nApplicants selected will be subject to a security investigation and may need to meet eligibility requirements for access to classified information.\\nIntegrating a full range of consulting capabilities, Booz Allen is the one firm that helps clients solve their toughest problems. by their side to help them achieve their missions.  Booz Allen is committed to delivering results that endure.<br>\\nWe are proud of our diverse environment, EOE, M/F/Disability/Vet.  </p>\\n\\n<p>DIG100</p>\\n\",\n",
      "    \"how_to_apply\": \"<p><a href=\\\"http://www.jobs.net/jobs/booz-allen-hamilton/en-us/job/United-States/Software-Engineer/J3H02J6689DH9R1F0DZ/?source=JB-16301\\\">Apply Here</a></p>\\n\",\n",
      "    \"id\": \"4b158024-1598-11e7-9a75-4ecf16196fec\",\n",
      "    \"location\": \"Huntsville, AL\",\n",
      "    \"title\": \"Software Engineer  \",\n",
      "    \"type\": \"Full Time\",\n",
      "    \"url\": \"http://jobs.github.com/positions/4b158024-1598-11e7-9a75-4ecf16196fec\"\n",
      "  },\n",
      "  {\n",
      "    \"company\": \"Booz Allen Hamilton\",\n",
      "    \"company_logo\": \"http://github-jobs.s3.amazonaws.com/62c95022-1595-11e7-9171-1aea19e07165.png\",\n",
      "    \"company_url\": \"http://www.boozallen.com\",\n",
      "    \"created_at\": \"Thu Mar 30 22:09:58 UTC 2017\",\n",
      "    \"description\": \"<p>Job Number: 01214552</p>\\n\\n<p>Booz Allen Hamilton has been at the forefront of strategy and technology for more than 100 years Today, the firm provides management and technology consulting and engineering services to leading Fortune 500 corporations, governments, and not-for-profits across the globe. Booz Allen partners with public and private sector clients to solve their most difficult challenges through a combination of consulting, analytics, mission operations, technology, systems delivery, cybersecurity, engineering and innovation expertise.</p>\\n\\n<p>Key Role:<br>\\nWork closely with clients and key stakeholders to comprehend and implement system requirements and features. Perform software development using C/C++, Java, and Python. Perform reverse engineering on software developed in Java, C, and C++ for embedded platforms. Conduct peer reviews, unit test development, documentation, and deployment support. Participate and lead software design and implementation efforts, facilitate and contribute to architectural and code reviews, and assist with providing technical leadership.  </p>\\n\\n<p>Basic Qualifications:  </p>\\n\\n<ul>\\n<li>6+ years of experience with software system requirements analysis, design, development, integration, or testing</li>\\n<li>6+ years of experience in software development with C/C++</li>\\n<li>6+ years of experience with developing software applications in Unix, Linux, or Windows environments</li>\\n<li>Experience with developing software applications that can be compiled for multiple operating systems</li>\\n<li>Knowledge of requirements analysis and tools</li>\\n<li>TS/SCI clearance with a polygraph</li>\\n<li>BA or BS degree</li>\\n</ul>\\n\\n<p>Additional Qualifications:  </p>\\n\\n<ul>\\n<li>Experience with Android operating systems, including application and native development</li>\\n<li>Experience with reverse engineering Java and C/C++</li>\\n<li>Experience with Wireshark and protocol analysis</li>\\n<li>Experience with integrating hardware and software systems</li>\\n<li>Knowledge of vulnerability analysis techniques<br></li>\\n</ul>\\n\\n<p>Clearance:\\nApplicants selected will be subject to a security investigation and may need to meet eligibility requirements for access to classified information; TS/SCI clearance with polygraph is required.\\nIntegrating a full range of consulting capabilities, Booz Allen is the one firm that helps clients solve their toughest problems. by their side to help them achieve their missions.  Booz Allen is committed to delivering results that endure.<br>\\nWe are proud of our diverse environment, EOE, M/F/Disability/Vet.</p>\\n\\n<p>LI-AH1</p>\\n\",\n",
      "    \"how_to_apply\": \"<p><a href=\\\"http://www.jobs.net/jobs/booz-allen-hamilton/en-us/job/United-States/Application-Developer-Senior/J3H3C161LQ3GSZKHZSH/?source=JB-16301\\\">Apply Here</a></p>\\n\",\n",
      "    \"id\": \"9d1d0444-1595-11e7-9d53-0e84cdc12e28\",\n",
      "    \"location\": \"Fort Meade, MD\",\n",
      "    \"title\": \"Application Developer, Senior  \",\n",
      "    \"type\": \"Full Time\",\n",
      "    \"url\": \"http://jobs.github.com/positions/9d1d0444-1595-11e7-9d53-0e84cdc12e28\"\n",
      "  },\n",
      "  {\n",
      "    \"company\": \"Booz Allen Hamilton\",\n",
      "    \"company_logo\": \"http://github-jobs.s3.amazonaws.com/3f9e6092-1595-11e7-8ba7-c3d800c06c9f.png\",\n",
      "    \"company_url\": \"http://www.boozallen.com\",\n",
      "    \"created_at\": \"Thu Mar 30 22:09:55 UTC 2017\",\n",
      "    \"description\": \"<p>Job Number: 01224423</p>\\n\\n<p>Booz Allen Hamilton has been at the forefront of strategy and technology for more than 100 years Today, the firm provides management and technology consulting and engineering services to leading Fortune 500 corporations, governments, and not-for-profits across the globe. Booz Allen partners with public and private sector clients to solve their most difficult challenges through a combination of consulting, analytics, mission operations, technology, systems delivery, cybersecurity, engineering and innovation expertise.</p>\\n\\n<p>Key Role:\\nSolve the latest problems with the Cyber applied research team focusing in the application of the latest scientific research and development to the clients Cyber challenges. Apply expertise as a research engineer or algorithm developer in a highly technical team. Develop advanced algorithms for the situational assessment, classification, information fusion, and automated exploitations of the heterogeneous information gathered from the Cyberspace domain.  </p>\\n\\n<p>Basic Qualifications:  </p>\\n\\n<ul>\\n<li>6+ years of experience with creating new data association methods to confirm known correlations between different data streams</li>\\n<li>6+ years of experience with analyzing structured and unstructured data streams and developing models for situational assessment and data fusion</li>\\n<li>5+ years of experience with data mining, data science, and programming and working with computational algorithms</li>\\n<li>5+ years of experience with information retrieval, including organizing and structuring data</li>\\n<li>5+ years of experience with software engineering and systems design and analysis</li>\\n<li>Knowledge of evidence foundational skills in the Cyber domain and how to document results of research activities and write technical reports</li>\\n<li>Ability to review existing algorithms and assess their applicability to sponsor tasks</li>\\n<li>Ability to perform statistical analysis</li>\\n<li>TS/SCI clearance with a polygraph</li>\\n<li>BA or BS degree<br></li>\\n</ul>\\n\\n<p>Additional Qualifications:</p>\\n\\n<ul>\\n<li>Experience with MATLAB</li>\\n<li>Experience in research with developing algorithms for protocol analysis or correlating diverse sensor data with RF or protocol data</li>\\n<li>Knowledge of Object Oriented Programming (OOP), C++, or Java</li>\\n<li>Ability to build algorithms, mathematical models, or similar applications</li>\\n<li>Ability to be a creative thinker with a track record of generating innovative ideas</li>\\n</ul>\\n\\n<p>Clearance:<br>\\nApplicants selected will be subject to a security investigation and may need to meet eligibility requirements for access to classified information; TS/SCI clearance with polygraph is required.\\nIntegrating a full range of consulting capabilities, Booz Allen is the one firm that helps clients solve their toughest problems. by their side to help them achieve their missions.  Booz Allen is committed to delivering results that endure.<br>\\nWe are proud of our diverse environment, EOE, M/F/Disability/Vet.</p>\\n\",\n",
      "    \"how_to_apply\": \"<p><a href=\\\"http://www.jobs.net/jobs/booz-allen-hamilton/en-us/job/United-States/Algorithm-Developer-Senior/J3K2TC6M0LHY1SB8CR2/?source=JB-16301\\\">Apply Here</a></p>\\n\",\n",
      "    \"id\": \"9b2483ec-1595-11e7-860b-d5a8d2fd000c\",\n",
      "    \"location\": \"Fort Meade, MD\",\n",
      "    \"title\": \"Algorithm Developer, Senior  \",\n",
      "    \"type\": \"Full Time\",\n",
      "    \"url\": \"http://jobs.github.com/positions/9b2483ec-1595-11e7-860b-d5a8d2fd000c\"\n",
      "  },\n",
      "  {\n",
      "    \"company\": \"Booz Allen Hamilton\",\n",
      "    \"company_logo\": \"http://github-jobs.s3.amazonaws.com/157a698c-1595-11e7-9981-d8a90ae7144a.png\",\n",
      "    \"company_url\": \"http://www.boozallen.com\",\n",
      "    \"created_at\": \"Thu Mar 30 22:09:51 UTC 2017\",\n",
      "    \"description\": \"<p>Job Number: 01220984</p>\\n\\n<p>Booz Allen Hamilton has been at the forefront of strategy and technology for more than 100 years Today, the firm provides management and technology consulting and engineering services to leading Fortune 500 corporations, governments, and not-for-profits across the globe. Booz Allen partners with public and private sector clients to solve their most difficult challenges through a combination of consulting, analytics, mission operations, technology, systems delivery, cybersecurity, engineering and innovation expertise.</p>\\n\\n<p>Key Role:\\nSupport Fast-paced projects in the development of state-of-the-art systems and technology, focusing on GPS, navigation, and navigation security. Work with customers to develop and implement novel solutions to complex and open-ended problems. Work in teams of 3-5 and collaborate consistently across a group of 40+ and occasionally across the entire organization. </p>\\n\\n<p>Develop software in prototype and production configurations and develop robust code for novel applications quickly. Communicate engineering tradeoffs in a clear, cogent manner and respond to adaptations necessary to accommodate engineering tradeoff considerations. Participate in design reviews. Develop software according to the project&#39;s coding standards. This position is located in El Segundo, CA.</p>\\n\\n<p>Basic Qualifications:  </p>\\n\\n<ul>\\n<li>5+ years of experience with software engineering for operational systems, including development life cycles</li>\\n<li>Experience with developing software architecture and implementing the design</li>\\n<li>Ability to work as part of a small, dynamic, and skilled team on high-impact and high-visibility projects</li>\\n<li>Top Secret clearance required</li>\\n<li>BA or BS degree in Software Engineering, EE, Computer Engineering, or CS<br></li>\\n</ul>\\n\\n<p>Additional Qualifications:  </p>\\n\\n<ul>\\n<li>Experience in developing with C# in Visual Studio or another object-oriented programming language</li>\\n<li>Experience in designing and interfacing with SQL databases, including MySQL</li>\\n<li>Experience with unit testing</li>\\n<li>Experience with prototyping and rapid development</li>\\n<li>Knowledge of cryptographic and security algorithms</li>\\n<li>Knowledge of the Air Force Global Positioning System</li>\\n<li>Possession of excellent oral and written communication skills</li>\\n<li>Active TS/SCI clearance preferred</li>\\n</ul>\\n\\n<p>Clearance:<br>\\nApplicants selected will be subject to a security investigation and may need to meet eligibility requirements for access to classified information; Top Secret clearance is required.\\nIntegrating a full range of consulting capabilities, Booz Allen is the one firm that helps clients solve their toughest problems. by their side to help them achieve their missions.  Booz Allen is committed to delivering results that endure.\\nWe are proud of our diverse environment, EOE, M/F/Disability/Vet.</p>\\n\\n<p>DIG100</p>\\n\",\n",
      "    \"how_to_apply\": \"<p><a href=\\\"http://www.jobs.net/jobs/booz-allen-hamilton/en-us/job/United-States/Software-Engineer-Mid/J3K4KK6Q2V8ZYXZSP6F/?source=JB-16301\\\">Apply Here</a></p>\\n\",\n",
      "    \"id\": \"98e2a8e8-1595-11e7-8ff5-15d34a7a4091\",\n",
      "    \"location\": \" El Segundo, CA\",\n",
      "    \"title\": \"Software Engineer, Mid\",\n",
      "    \"type\": \"Full Time\",\n",
      "    \"url\": \"http://jobs.github.com/positions/98e2a8e8-1595-11e7-8ff5-15d34a7a4091\"\n",
      "  },\n",
      "  {\n",
      "    \"company\": \"Booz Allen Hamilton\",\n",
      "    \"company_logo\": \"http://github-jobs.s3.amazonaws.com/daefc258-1594-11e7-8b7c-79647affdddb.png\",\n",
      "    \"company_url\": \"http://www.boozallen.com\",\n",
      "    \"created_at\": \"Thu Mar 30 22:09:48 UTC 2017\",\n",
      "    \"description\": \"<p>Job Number: R0001985</p>\\n\\n<p>Booz Allen Hamilton has been at the forefront of strategy and technology for more than 100 years Today, the firm provides management and technology consulting and engineering services to leading Fortune 500 corporations, governments, and not-for-profits across the globe. Booz Allen partners with public and private sector clients to solve their most difficult challenges through a combination of consulting, analytics, mission operations, technology, systems delivery, cybersecurity, engineering and innovation expertise.</p>\\n\\n<p>The Charleston Digital Hub of Booz Allen Hamilton is seeking qualified candidates for a .Net Developer, Mid in the Charleston, SC area.  </p>\\n\\n<p>The Charleston Digital Hub is a software development hub of Booz Allen that operates and executes much like a fast-paced startup within the larger organization. We thrive in a high-energy, open office atmosphere that fosters creativity and innovation. We wake up in the morning ready to have fun and talk tech. We have dogs in the office, ping pong in the breakroom, and t-shirts trump ties, but most importantly - we focus on surrounding our team members with people who are enthusiastic about working, learning, and growing, and most importantly, having fun together! </p>\\n\\n<p>Software Developers at The Charleston Digital Hub are a dedicated and talented team that create impactful solutions that solve real-world problems. We specialize in architecting and building large-scale enterprise applications for government and commercial clients. Our engineers have experience in a wide-range of technologies and languages, but we are particularly interested in the following:    </p>\\n\\n<ul>\\n<li>Architecture &amp; Design Patterns </li>\\n<li>Developing user interfaces using HTML, jQuery and custom JavaScript </li>\\n<li>Writing business logic in C# </li>\\n<li>Designing and developing RESTful services </li>\\n<li>SQL Server database design and query optimization </li>\\n<li>Writing unit and acceptance tests </li>\\n<li>Helping with project infrastructure<br></li>\\n</ul>\\n\\n<p>What You Need:<br>\\nTo be considered for this position, you must minimally meet the knowledge, skills, and abilities listed below: </p>\\n\\n<ul>\\n<li>Ability to obtain a security clearance</li>\\n<li>Experience developing all layers of a web-platform (client, services, application, data-store) </li>\\n<li>Knowledge of software development models such as AGILE/SCRUM </li>\\n<li>3+ years of Microsoft .Net experience </li>\\n<li>3+ more years experience working with service oriented architectures </li>\\n</ul>\\n\\n<p>What Would Be Nice:<br>\\nCandidates with these desired skills will be given preferential consideration:    </p>\\n\\n<ul>\\n<li>Bachelor&#39;s degree in Computer Science or related field</li>\\n<li>Microsoft Visual Studio 2012/2013 </li>\\n<li>Microsoft .Net MVC 4.5/5 </li>\\n<li>CSS/HTML/HTML5 </li>\\n<li>Agile development methodologies</li>\\n<li>Experience in architecting large scale enterprise platforms</li>\\n<li>jQuery experience </li>\\n<li>Experience with GL systems </li>\\n<li>Experience with EMR systems </li>\\n<li>Azure knowledge<br></li>\\n</ul>\\n\\n<p>Clearance:<br>\\nApplicants selected will be subject to a security investigation and may need to meet eligibility requirements for access to classified information.   </p>\\n\\n<p>Booz Allen Hamilton provides equal employment opportunities to all qualified employees and applicants for employment without regard to race, religion, sex, age, marital status, national origin, sexual orientation, citizenship status, disability, veteran or any other legally protected status. We prohibit discrimination in decisions concerning recruitment, hiring, compensation, benefits, training, termination, promotions, or any other condition of employment or career development.<br>\\nIntegrating a full range of consulting capabilities, Booz Allen is the one firm that helps clients solve their toughest problems. by their side to help them achieve their missions.  Booz Allen is committed to delivering results that endure.<br>\\nWe are proud of our diverse environment, EOE, M/F/Disability/Vet.</p>\\n\\n<p>LI-AH1, AFH16, AFH26</p>\\n\",\n",
      "    \"how_to_apply\": \"<p><a href=\\\"http://www.jobs.net/jobs/booz-allen-hamilton/en-us/job/United-States/Net-Developer-Mid/J3K4M86VGCNT0N4NX9H/?source=JB-16301\\\">Apply Here</a></p>\\n\",\n",
      "    \"id\": \"970d7890-1595-11e7-9b75-7f71598dc159\",\n",
      "    \"location\": \"Charleston, SC\",\n",
      "    \"title\": \".Net Developer, Mid\",\n",
      "    \"type\": \"Full Time\",\n",
      "    \"url\": \"http://jobs.github.com/positions/970d7890-1595-11e7-9b75-7f71598dc159\"\n",
      "  },\n",
      "  {\n",
      "    \"company\": \"Booz Allen Hamilton\",\n",
      "    \"company_logo\": \"http://github-jobs.s3.amazonaws.com/86e2a6e4-1594-11e7-91ce-fa30bcf6ba08.png\",\n",
      "    \"company_url\": \"http://www.boozallen.com\",\n",
      "    \"created_at\": \"Thu Mar 30 22:09:44 UTC 2017\",\n",
      "    \"description\": \"<p>Job Number: R0000108</p>\\n\\n<p>Booz Allen Hamilton has been at the forefront of strategy and technology for more than 100 years Today, the firm provides management and technology consulting and engineering services to leading Fortune 500 corporations, governments, and not-for-profits across the globe. Booz Allen partners with public and private sector clients to solve their most difficult challenges through a combination of consulting, analytics, mission operations, technology, systems delivery, cybersecurity, engineering and innovation expertise.</p>\\n\\n<p>The Charleston Digital Hub of Booz Allen Hamilton, is seeking qualified candidates for a Software Developer in the Charleston, SC area.</p>\\n\\n<p>The Charleston Digital Hub is a software development hub of Booz Allen that operates and executes much like a fast-paced startup within the larger organization. We thrive in a high-energy, open office atmosphere that fosters creativity and innovation. We wake up in the morning ready to have fun and talk tech. We have dogs in the office, ping pong in the breakroom, and t-shirts trump ties. We focus on surrounding our team members with people who are enthusiastic about working, learning, and growing, and most importantly, having fun together! Software developers at SPARC work within a dedicated and talented team to create impactful solutions that solve real-world problems. We specialize in architecting and building large-scale enterprise applications for government and commercial clients. Our engineers have experience in a wide-range of technologies and languages, but we are particularly interested in the following:  </p>\\n\\n<ul>\\n<li>System Architecture and Object Oriented software design</li>\\n<li>REST, SOAP Web Services, and SOA architecture</li>\\n<li>Java, JavaScript, AngularJS, jQuery, Spring, RDBMS, Weblogic, JPA/Hibernate or Java EE<br></li>\\n</ul>\\n\\n<p>The Must-Haves:  </p>\\n\\n<p>To be considered for this position, you must minimally meet the knowledge, skills, or abilities listed below:  </p>\\n\\n<ul>\\n<li>Ability to obtain a security clearance</li>\\n<li>Must live in Charleston, SC or be willing to relocate</li>\\n<li>3+ years experience with service orientation concepts and enabling technologies</li>\\n<li>3+ years experience with Software Development and Implementation</li>\\n<li>Software development skills, including design, development, testing, deployment and support</li>\\n</ul>\\n\\n<p>Preferred Qualifications:  </p>\\n\\n<ul>\\n<li>Bachelor&#39;s degree in Computer Science or related field and 5+ years related experience.</li>\\n</ul>\\n\\n<p>Clearance:<br>\\nApplicants selected will be subject to a security investigation and may need to meet eligibility requirements for access to classified information. Booz Allen Hamilton provides equal employment opportunities to all qualified employees and applicants for employment without regard to race, religion, sex, age, marital status, national origin, sexual orientation, citizenship status, disability, veteran or any other legally protected status. We prohibit discrimination in decisions concerning recruitment, hiring, compensation, benefits, training, termination, promotions, or any other condition of employment or career development.<br>\\nIntegrating a full range of consulting capabilities, Booz Allen is the one firm that helps clients solve their toughest problems. by their side to help them achieve their missions.  Booz Allen is committed to delivering results that endure.<br>\\nWe are proud of our diverse environment, EOE, M/F/Disability/Vet.</p>\\n\\n<p>LI-AH1, AFH16, AFH26, SIG2017</p>\\n\",\n",
      "    \"how_to_apply\": \"<p><a href=\\\"http://www.jobs.net/jobs/booz-allen-hamilton/en-us/job/United-States/Software-Developer-Mid/J3G8H76NB7MNGNQ31MW/?source=JB-16301\\\">Apply Here</a></p>\\n\",\n",
      "    \"id\": \"94861ad2-1595-11e7-9e7d-9f94f736445a\",\n",
      "    \"location\": \"Charleston, SC\",\n",
      "    \"title\": \"Software Developer, Mid  \",\n",
      "    \"type\": \"Full Time\",\n",
      "    \"url\": \"http://jobs.github.com/positions/94861ad2-1595-11e7-9e7d-9f94f736445a\"\n",
      "  },\n",
      "  {\n",
      "    \"company\": \"Booz Allen Hamilton\",\n",
      "    \"company_logo\": \"http://github-jobs.s3.amazonaws.com/4a7ef20c-1594-11e7-898e-339259a87ed5.png\",\n",
      "    \"company_url\": \"http://www.boozallen.com\",\n",
      "    \"created_at\": \"Thu Mar 30 22:09:40 UTC 2017\",\n",
      "    \"description\": \"<p>Job Number: 01220331</p>\\n\\n<p>Booz Allen Hamilton has been at the forefront of strategy and technology for more than 100 years Today, the firm provides management and technology consulting and engineering services to leading Fortune 500 corporations, governments, and not-for-profits across the globe. Booz Allen partners with public and private sector clients to solve their most difficult challenges through a combination of consulting, analytics, mission operations, technology, systems delivery, cybersecurity, engineering and innovation expertise.</p>\\n\\n<p>Key Role:<br>\\nProvide software development support for research and development efforts and serve as a key contributor on a collaborative, fast-growing, expert software development team doing work that is critical to the projects success. Solve highly technical, complex problems and use opportunities for significant technical growth. Complete a range of activities, including designing software, operating architecture integration, selecting computer systems, developing design specifications and unit test plans, and troubleshooting client issues. Demonstrate and apply knowledge of multiple systems, platforms, and programming languages. Participate in writing systems documents, including use case design documents and support user acceptance testing and production systems deployment efforts. Demonstrate independence and leadership by working under minimal supervision. Work effectively in a team environment and interface with customers and team management, as necessary.  </p>\\n\\n<p>Basic Qualifications:  </p>\\n\\n<ul>\\n<li>2+ years of experience with object-oriented development, including Java in a UNIX or Linux environment</li>\\n<li>Experience with designing and implementing software to satisfy a given set of requirements</li>\\n<li>Experience with developing Web services and deploying them using application servers</li>\\n<li>Experience with the software development life cycle, including requirements analysis, design, implementation, and testing</li>\\n<li>Experience with JavaScript, Eclipse and NetBeans, Scrum, or Subversion and Git</li>\\n<li>Experience with creating new software that leverages existing libraries, APIs, and other resources</li>\\n<li>Ability to obtain a security clearance</li>\\n<li>BA or BS degree</li>\\n</ul>\\n\\n<p>Additional Qualifications:  </p>\\n\\n<ul>\\n<li>Experience with Linux-based operating systems</li>\\n<li>Experience with MEAN stack, RESTEasy, or Ozone Widget Framework</li>\\n<li>Possession of excellent oral and written communication skills</li>\\n<li>BA or BS degree in CS or a related field</li>\\n</ul>\\n\\n<p>Clearance:<br>\\nApplicants selected will be subject to a security investigation and may need to meet eligibility requirements for access to classified information.\\nIntegrating a full range of consulting capabilities, Booz Allen is the one firm that helps clients solve their toughest problems. by their side to help them achieve their missions.  Booz Allen is committed to delivering results that endure.<br>\\nWe are proud of our diverse environment, EOE, M/F/Disability/Vet.</p>\\n\",\n",
      "    \"how_to_apply\": \"<p><a href=\\\"http://www.jobs.net/jobs/booz-allen-hamilton/en-us/job/United-States/Software-Engineer-Mid/J3J5T56XCF6QGC9YR61/?source=JB-16301\\\">Apply Here</a></p>\\n\",\n",
      "    \"id\": \"9209198a-1595-11e7-80a9-818599b00562\",\n",
      "    \"location\": \"Belcamp, MD\",\n",
      "    \"title\": \"Software Engineer, Mid\",\n",
      "    \"type\": \"Full Time\",\n",
      "    \"url\": \"http://jobs.github.com/positions/9209198a-1595-11e7-80a9-818599b00562\"\n",
      "  },\n",
      "  {\n",
      "    \"company\": \"Booz Allen Hamilton\",\n",
      "    \"company_logo\": \"http://github-jobs.s3.amazonaws.com/422c7e4e-1594-11e7-8e10-8af4304930e7.png\",\n",
      "    \"company_url\": \"http://www.boozallen.com\",\n",
      "    \"created_at\": \"Thu Mar 30 22:09:36 UTC 2017\",\n",
      "    \"description\": \"<p>Job Number: R0000219</p>\\n\\n<p>Booz Allen Hamilton has been at the forefront of strategy and technology for more than 100 years Today, the firm provides management and technology consulting and engineering services to leading Fortune 500 corporations, governments, and not-for-profits across the globe. Booz Allen partners with public and private sector clients to solve their most difficult challenges through a combination of consulting, analytics, mission operations, technology, systems delivery, cybersecurity, engineering and innovation expertise.</p>\\n\\n<p>Key Role:\\nWork closely with a team to develop innovative applications that address clients\\u2019 most challenging business, technology, and system integration needs. Develop new and support existing software applications that offer large-scale and distributed implementations to a dynamic user base. Support the development of an enterprise Web application by leveraging Agile methodologies, proven architecture, design patterns, and modern integration strategies. Perform aspects of Agile software development, including user story writing, release and iteration planning, Agile modeling and design, coding, unit and integration testing, code reviews, and software documentation. Contribute to system implementation efforts at various layers, including presentation, service, and data access and integration points, such as Web services, messaging, and ETLs. Work in a dynamic environment with talented team members to deliver quality software capabilities.  </p>\\n\\n<p>Basic Qualifications:  </p>\\n\\n<ul>\\n<li>1+ years of experience with object-oriented design and development in C# or Java</li>\\n<li>1+ years of experience with a Web application framework, including Java, .NET, JavaScript, PHP, Ruby, Python, or Perl</li>\\n<li>Ability to obtain a security clearance</li>\\n<li>BA or BS degree</li>\\n</ul>\\n\\n<p>Additional Qualifications:  </p>\\n\\n<ul>\\n<li>Experience with using a relational database management system, including SQL Server, Oracle, and MySQL</li>\\n<li>Experience with Agile methodologies</li>\\n<li>Experience with developing service-oriented architecture (SOA) concepts and techniques</li>\\n<li>Knowledge of implemented software design patterns</li>\\n</ul>\\n\\n<p>Clearance:<br>\\nApplicants selected will be subject to a security investigation and may need to meet eligibility requirements for access to classified information.  </p>\\n\\n<p>Integrating a full range of consulting capabilities, Booz Allen is the one firm that helps clients solve their toughest problems. by their side to help them achieve their missions.  Booz Allen is committed to delivering results that endure.<br>\\nWe are proud of our diverse environment, EOE, M/F/Disability/Vet.</p>\\n\",\n",
      "    \"how_to_apply\": \"<p><a href=\\\"http://www.jobs.net/jobs/booz-allen-hamilton/en-us/job/United-States/Software-Engineer/J3J14C76QR18Y47Z93L/?source=JB-16301\\\">Apply Here</a></p>\\n\",\n",
      "    \"id\": \"8fe451c4-1595-11e7-8ef7-d021160c530d\",\n",
      "    \"location\": \"Austin, TX\",\n",
      "    \"title\": \"Software Engineer\",\n",
      "    \"type\": \"Full Time\",\n",
      "    \"url\": \"http://jobs.github.com/positions/8fe451c4-1595-11e7-8ef7-d021160c530d\"\n",
      "  },\n",
      "  {\n",
      "    \"company\": \"Booz Allen Hamilton\",\n",
      "    \"company_logo\": \"http://github-jobs.s3.amazonaws.com/8bbb30c2-1595-11e7-9d3e-2c5929fd0ff0.png\",\n",
      "    \"company_url\": \"http://www.boozallen.com\",\n",
      "    \"created_at\": \"Thu Mar 30 22:09:33 UTC 2017\",\n",
      "    \"description\": \"<p>Job Number: R0001732</p>\\n\\n<p>Booz Allen Hamilton has been at the forefront of strategy and technology for more than 100 years Today, the firm provides management and technology consulting and engineering services to leading Fortune 500 corporations, governments, and not-for-profits across the globe. Booz Allen partners with public and private sector clients to solve their most difficult challenges through a combination of consulting, analytics, mission operations, technology, systems delivery, cybersecurity, engineering and innovation expertise.</p>\\n\\n<p>Key Role:\\nWork as a subject matter expert and full stack .NET developer responsible for the design, development, and implementation of Microsoft .NET Web-based applications, solutions, and capabilities for clients with the federal government. Work with clients and stakeholders to analyze business and enterprise requirements and participate in making strategic design and architectural decisions. Perform in a leadership role on a team across the software development life cycle, including requirements, design, implementation, and deployment. Follow and adapt approved life cycle methodologies to project needs, create design documents, and perform program coding and unit testing. Develop strategies to create better collaboration between developer, testers, project managers, and users while using development methods and automated practices. Leverage experience and judgment to resolve technical issues and to plan and accomplish goals related to the overall success of the program and apply a wide degree of creativity and latitude in disseminating tasks to team for execution.  </p>\\n\\n<p>Basic Qualifications:  </p>\\n\\n<ul>\\n<li>8+ years of experience with SQL and Web application development</li>\\n<li>8+ years of experience with ASP.NET, MVC, or Web forms development</li>\\n<li>Experience with systems integration</li>\\n<li>Knowledge of Visual Studio 2015 and 2013, SQL Server Management Studio 2012, and Team Foundation Server 2013 and 2012</li>\\n<li>Knowledge of JavaScript, including jQuery, jQuery UI, AngularJS, NodeJS, and Entity Framework</li>\\n<li>Knowledge of source control and Agile development</li>\\n<li>Ability to mentor junior developers</li>\\n<li>Ability to obtain a security clearance</li>\\n<li>BA or BS degree<br></li>\\n</ul>\\n\\n<p>Additional Qualifications:  </p>\\n\\n<ul>\\n<li>8+ years of experience with consulting or federal IT</li>\\n<li>Experience with C# preferred</li>\\n<li>Experience with surveillance systems development</li>\\n<li>Experience with writing whitepapers</li>\\n<li>Knowledge of health IT, GIS, and Web API</li>\\n<li>Knowledge of mobile development, including Xamarin, native Android and iOS, and Azure Mobile Services</li>\\n<li>Knowledge of HTML5, CSS3, EPLC , ReSharper, NUnit, NLog, and JSON</li>\\n<li>Ability to communicate complex technical concepts</li>\\n<li>Possession of excellent oral and written communication skills</li>\\n<li>Possession of excellent estimation skills</li>\\n<li>BS degree in CS or a technical field preferred</li>\\n<li>Active Microsoft Certifications a plus</li>\\n</ul>\\n\\n<p>Clearance:<br>\\nApplicants selected will be subject to a security investigation and may need to meet eligibility requirements for access to classified information.\\nIntegrating a full range of consulting capabilities, Booz Allen is the one firm that helps clients solve their toughest problems. by their side to help them achieve their missions.  Booz Allen is committed to delivering results that endure.\\nWe are proud of our diverse environment, EOE, M/F/Disability/Vet.</p>\\n\",\n",
      "    \"how_to_apply\": \"<p><a href=\\\"http://www.jobs.net/jobs/booz-allen-hamilton/en-us/job/United-States/NET-Developer-Senior/J3F7126KYH4KPZVBBTL/?source=JB-16301\\\">Apply Here</a></p>\\n\",\n",
      "    \"id\": \"8e00829c-1595-11e7-903b-02662bbcfba3\",\n",
      "    \"location\": \"Atlanta, GA\",\n",
      "    \"title\": \".NET Developer, Senior\",\n",
      "    \"type\": \"Full Time\",\n",
      "    \"url\": \"http://jobs.github.com/positions/8e00829c-1595-11e7-903b-02662bbcfba3\"\n",
      "  },\n",
      "  {\n",
      "    \"company\": \"Booz Allen Hamilton\",\n",
      "    \"company_logo\": \"http://github-jobs.s3.amazonaws.com/ed28594a-158e-11e7-82e6-5c21aa81c9a0.png\",\n",
      "    \"company_url\": \"http://www.boozallen.com\",\n",
      "    \"created_at\": \"Thu Mar 30 21:37:02 UTC 2017\",\n",
      "    \"description\": \"<p>Job Number: 01224624</p>\\n\\n<p>Booz Allen Hamilton has been at the forefront of strategy and technology for more than 100 years Today, the firm provides management and technology consulting and engineering services to leading Fortune 500 corporations, governments, and not-for-profits across the globe. Booz Allen partners with public and private sector clients to solve their most difficult challenges through a combination of consulting, analytics, mission operations, technology, systems delivery, cybersecurity, engineering and innovation expertise.  </p>\\n\\n<p>Software Developer\\nKey Role:\\nConduct systems analysis and programming activities related to the development, maintenance, and installation of computer programs to support internal business operations. Apply advanced principles, theories, and concepts to job assignments and contribute to the development of new ideas and principles. Solve uniquely complex problems and work under consultative direction. Speak for the organization to internal and external customers and work on long-range programs and objectives. Provide advice to the organization in area of expertise. Play a role in overall functional strategic planning.  </p>\\n\\n<p>Basic Qualifications:</p>\\n\\n<ul>\\n<li>2+ years of experience with software development<br></li>\\n<li>Experience with running Agile sprints and planning sessions required<br></li>\\n<li>Knowledge of Web-related technologies, including Java, JavaScript, HTML, AngularJS, and SQL<br></li>\\n<li>Ability to quickly learn new programming languages and architectures<br></li>\\n<li>Active Secret clearance required</li>\\n<li>BA or BS degree<br></li>\\n</ul>\\n\\n<p>Additional Qualifications:</p>\\n\\n<ul>\\n<li>Experience with REST layers, MongoDB, and ElasticSearch preferred</li>\\n<li>Experience with DoD and Army Software Integration and Testing preferred</li>\\n<li>Experience with researching, presenting, briefing, or communicating analytical material</li>\\n<li>Possession of excellent oral and written communication skills<br></li>\\n</ul>\\n\\n<p>Clearance:\\nApplicants selected will be subject to a security investigation and may need to meet eligibility requirements for access to classified information; Secret clearance is required.\\nIntegrating a full range of consulting capabilities, Booz Allen is the one firm that helps clients solve their toughest problems. by their side to help them achieve their missions.  Booz Allen is committed to delivering results that endure.\\nWe are proud of our diverse environment, EOE, M/F/Disability/Vet.</p>\\n\\n<p>AFH26, SIG2016, TMJ16</p>\\n\",\n",
      "    \"how_to_apply\": \"<p><a href=\\\"http://www.jobs.net/jobs/booz-allen-hamilton/en-us/job/United-States/Software-Developer/J3J2WM6NG01SLBJ64L9/?source=JB-16301\\\">Apply Here</a></p>\\n\",\n",
      "    \"id\": \"035afd7e-1591-11e7-9a6a-6c35222d934d\",\n",
      "    \"location\": \"Aberdeen, MD\",\n",
      "    \"title\": \" SOFTWARE DEVELOPER \",\n",
      "    \"type\": \"Full Time\",\n",
      "    \"url\": \"http://jobs.github.com/positions/035afd7e-1591-11e7-9a6a-6c35222d934d\"\n",
      "  },\n",
      "  {\n",
      "    \"company\": \"Booz Allen Hamilton\",\n",
      "    \"company_logo\": \"http://github-jobs.s3.amazonaws.com/3c97c13c-158f-11e7-9fac-217924a43364.png\",\n",
      "    \"company_url\": \"http://www.boozallen.com\",\n",
      "    \"created_at\": \"Thu Mar 30 21:36:59 UTC 2017\",\n",
      "    \"description\": \"<p>Job Number: 01209920</p>\\n\\n<p>Booz Allen Hamilton has been at the forefront of strategy and technology for more than 100 years Today, the firm provides management and technology consulting and engineering services to leading Fortune 500 corporations, governments, and not-for-profits across the globe. Booz Allen partners with public and private sector clients to solve their most difficult challenges through a combination of consulting, analytics, mission operations, technology, systems delivery, cybersecurity, engineering and innovation expertise.\\nEmbedded Developer, Senior</p>\\n\\n<p>Key Role:<br>\\nSupport work with an intelligence community client in central Maryland. Support numerous challenging, Mission-critical projects that make a direct impact on the nations security and intelligence mission. Perform embedded development, bit-level vulnerability analysis, software development, and operational support for complex systems. Apply expertise in C language and compiler techniques, Real-time operating systems, assembly language, and debugging.</p>\\n\\n<p>Basic Qualifications:  </p>\\n\\n<ul>\\n<li>5+ years of experience with software system requirements analysis, design, development, integration, or testing</li>\\n<li>5+ years of experience with software development using assembly or C/C++ in Windows, UNIX, or Linux</li>\\n<li>5+ years of experience with reverse engineering using disassemblers, bit-level data analysis, or low-level programming of device drivers</li>\\n<li>Experience with assembly language for development or reversing and one architecture assembly language, including x86</li>\\n<li>TS/SCI clearance with a polygraph</li>\\n<li>BA or BS degree<br></li>\\n</ul>\\n\\n<p>Additional Qualifications:   </p>\\n\\n<ul>\\n<li>Experience with requirements analysis and tools, including DOORS</li>\\n<li>Experience with configuration management tools, including Razor or Subversion</li>\\n<li>Experience with scripting in UNIX shell, Python, Perl, or Ruby</li>\\n<li>Experience with operating systems internals in Windows, UNIX, or Linux</li>\\n<li>Experience with integrating hardware and software systems</li>\\n<li>Experience with technical writing to author system documentation</li>\\n<li>Experience with vulnerability analysis</li>\\n<li>Knowledge of common binary file formats in ELF and COFF</li>\\n<li>Knowledge of common protocols and standards</li>\\n</ul>\\n\\n<p>Clearance:<br>\\nApplicants selected will be subject to a security investigation and may need to meet eligibility requirements for access to classified information; TS/SCI clearance with polygraph is required.\\nIntegrating a full range of consulting capabilities, Booz Allen is the one firm that helps clients solve their toughest problems. by their side to help them achieve their missions.  Booz Allen is committed to delivering results that endure.\\nWe are proud of our diverse environment, EOE, M/F/Disability/Vet.</p>\\n\\n<p>LI-AH1</p>\\n\",\n",
      "    \"how_to_apply\": \"<p><a href=\\\"http://www.jobs.net/jobs/booz-allen-hamilton/en-us/job/United-States/Embedded-Developer-Senior/J3L81P75B70MZ956R2Z/?source=JB-16301\\\">Apply Here</a></p>\\n\",\n",
      "    \"id\": \"0175d8a8-1591-11e7-9cfd-21a194fc4ce5\",\n",
      "    \"location\": \"Annapolis Junction, MD\",\n",
      "    \"title\": \"Embedded Developer, Senior\",\n",
      "    \"type\": \"Full Time\",\n",
      "    \"url\": \"http://jobs.github.com/positions/0175d8a8-1591-11e7-9cfd-21a194fc4ce5\"\n",
      "  },\n",
      "  {\n",
      "    \"company\": \"Booz Allen Hamilton\",\n",
      "    \"company_logo\": \"http://github-jobs.s3.amazonaws.com/5e0cf944-1590-11e7-80ec-2eb8f7373cf6.png\",\n",
      "    \"company_url\": \"http://www.boozallen.com\",\n",
      "    \"created_at\": \"Thu Mar 30 21:36:55 UTC 2017\",\n",
      "    \"description\": \"<p>Job Number: R0001095</p>\\n\\n<p>Booz Allen Hamilton has been at the forefront of strategy and technology for more than 100 years Today, the firm provides management and technology consulting and engineering services to leading Fortune 500 corporations, governments, and not-for-profits across the globe. Booz Allen partners with public and private sector clients to solve their most difficult challenges through a combination of consulting, analytics, mission operations, technology, systems delivery, cybersecurity, engineering and innovation expertise.</p>\\n\\n<p>Key Role:<br>\\nProvide engineering development and integration and maintenance support for near real-time SIGINT hardware and software solutions for various UHF or VHF signals, including Trunked Mobile Radio (TMR) and digital Push-to-Talk (PTT) radios. Assist with small form factor engineering to transition capabilities to handheld and mobile platform devices. Work with software developers to define platform independent software architectures, assist with building and integrating hardware and software and platform securing and hardening and perform cross platform integration of software defined radios and other software components. Conduct integration and system functional testing. Productize software and hardware components to support rapid build and deployments to support worldwide customers. Provide support for the modernization of these projects. </p>\\n\\n<p>Basic Qualifications:  </p>\\n\\n<ul>\\n<li>8+ years of experience with analyzing complex hardware systems for SIGINT solutions in an intelligence community, including signals intelligence activity</li>\\n<li>5+ years of experience in working with Linux</li>\\n<li>5+ years of experience with C/C++ and Python</li>\\n<li>1+ years of experience with one or more of the following languages: C-Shell, Java, or Bash</li>\\n<li>Experience in working with UHF/VHF or equivalent signals, frequency hopping, software defined radios, including GNU radio from a development, integration or deployment perspective, and Virtual Machine environments</li>\\n<li>Experience with assessing hardware capabilities, performance, memory, and reliability against system software requirements, including integrating and testing software and hardware and building RPMs</li>\\n<li>Knowledge of the basics of signals processing</li>\\n<li>TS/SCI clearance with a polygraph</li>\\n<li>BA or BS degree and 15+ years of experience with hardware engineering or 20+ years of experience with hardware engineering in lieu of a degree</li>\\n</ul>\\n\\n<p>Additional Qualifications:  </p>\\n\\n<ul>\\n<li>Experience in working with mobile platform technologies</li>\\n<li>Experience with any of the following programming languages: JavaScript, PIG, or Perl</li>\\n<li>Experience in developing system and software architecture diagrams using MS Visio or similar tool</li>\\n<li>Experience with working in an Agile development environment<br></li>\\n</ul>\\n\\n<p>Clearance:<br>\\nApplicants selected will be subject to a security investigation and may need to meet eligibility requirements for access to classified information; TS/SCI clearance with polygraph is required.  </p>\\n\\n<p>Integrating a full range of consulting capabilities, Booz Allen is the one firm that helps clients solve their toughest problems. by their side to help them achieve their missions.  Booz Allen is committed to delivering results that endure.<br>\\nWe are proud of our diverse environment, EOE, M/F/Disability/Vet.</p>\\n\",\n",
      "    \"how_to_apply\": \"<p><a href=\\\"http://www.jobs.net/jobs/booz-allen-hamilton/en-us/job/United-States/Software-Design-Engineer-Senior/J3G1S9652ZD9J7011VQ/?source=JB-16301\\\">Apply Here</a></p>\\n\",\n",
      "    \"id\": \"fed088e6-1590-11e7-854a-97ce79ade1cd\",\n",
      "    \"location\": \"Annapolis Junction, MD\",\n",
      "    \"title\": \"Software Design Engineer, Senior\",\n",
      "    \"type\": \"Full Time\",\n",
      "    \"url\": \"http://jobs.github.com/positions/fed088e6-1590-11e7-854a-97ce79ade1cd\"\n",
      "  },\n",
      "  {\n",
      "    \"company\": \"Booz Allen Hamilton\",\n",
      "    \"company_logo\": \"http://github-jobs.s3.amazonaws.com/57f8afb2-1590-11e7-854e-a802994755ff.png\",\n",
      "    \"company_url\": \"http://www.boozallen.com\",\n",
      "    \"created_at\": \"Thu Mar 30 21:36:52 UTC 2017\",\n",
      "    \"description\": \"<p>Job Number: R0001056</p>\\n\\n<p>Booz Allen Hamilton has been at the forefront of strategy and technology for more than 100 years Today, the firm provides management and technology consulting and engineering services to leading Fortune 500 corporations, governments, and not-for-profits across the globe. Booz Allen partners with public and private sector clients to solve their most difficult challenges through a combination of consulting, analytics, mission operations, technology, systems delivery, cybersecurity, engineering and innovation expertise.</p>\\n\\n<p>Key Role:<br>\\nServe as a senior software engineer working in programs or contracts with UI front end development and GIT and IntelliJ. Perform JavaScript and Agile processes. Leverage knowledge of Alt.js and lodash. Apply knowledge of the client PKI system, certificate creation, and installation.  </p>\\n\\n<p>Basic Qualifications:  </p>\\n\\n<ul>\\n<li>20+ years of experience in working as a software engineer with JavaScript in React, Semantic-UI, or ES2015</li>\\n<li>5+ years of experience with Java development and JEE</li>\\n<li>2+ years of experience with Linux administration, commands, df, du, nmap, or openssl</li>\\n<li>1+ years of experience with Tomcat, Spring, Ant/Ivy, and JavaScript</li>\\n<li>1+ years of experience on a client enterprise Web\\u2013deployed system</li>\\n<li>BS degree</li>\\n</ul>\\n\\n<p>Additional Qualifications:  </p>\\n\\n<ul>\\n<li>BS degree in CS or a related field<br></li>\\n</ul>\\n\\n<p>Integrating a full range of consulting capabilities, Booz Allen is the one firm that helps clients solve their toughest problems. by their side to help them achieve their missions.  Booz Allen is committed to delivering results that endure.\\nWe are proud of our diverse environment, EOE, M/F/Disability/Vet.</p>\\n\",\n",
      "    \"how_to_apply\": \"<p><a href=\\\"http://www.jobs.net/jobs/booz-allen-hamilton/en-us/job/United-States/Software-Engineer-Senior/J3H2X66CPNMG8F7XCLJ/?source=JB-16301\\\">Apply Here</a></p>\\n\",\n",
      "    \"id\": \"fd248830-1590-11e7-99f3-163076fc6bca\",\n",
      "    \"location\": \"Annapolis Junction, MD\",\n",
      "    \"title\": \"Software Engineer, Senior\",\n",
      "    \"type\": \"Full Time\",\n",
      "    \"url\": \"http://jobs.github.com/positions/fd248830-1590-11e7-99f3-163076fc6bca\"\n",
      "  },\n",
      "  {\n",
      "    \"company\": \"Booz Allen Hamilton\",\n",
      "    \"company_logo\": \"http://github-jobs.s3.amazonaws.com/5686c1dc-1590-11e7-8b64-e869f5053ec2.png\",\n",
      "    \"company_url\": \"http://www.boozallen.com\",\n",
      "    \"created_at\": \"Thu Mar 30 21:36:49 UTC 2017\",\n",
      "    \"description\": \"<p>Job Number: R0000183</p>\\n\\n<p>Booz Allen Hamilton has been at the forefront of strategy and technology for more than 100 years Today, the firm provides management and technology consulting and engineering services to leading Fortune 500 corporations, governments, and not-for-profits across the globe. Booz Allen partners with public and private sector clients to solve their most difficult challenges through a combination of consulting, analytics, mission operations, technology, systems delivery, cybersecurity, engineering and innovation expertise.  </p>\\n\\n<p>Key Role:<br>\\nSupport numerous challenging, mission\\u2013critical projects that make a direct impact on the nation\\u2019s security and intelligence mission. Conduct reverse engineering and vulnerability analysis of complex and diverse software systems. Design, develop, document, and maintain software systems to demonstrate their findings and develop custom programs for automating reverse engineering and interacting with binaries being analyzed.  </p>\\n\\n<p>Basic Qualifications:  </p>\\n\\n<ul>\\n<li>3 years of experience with software engineering</li>\\n<li>Experience with programming, including Python, C, C++, and Assembly</li>\\n<li>Experience with working in virtualized environments, analyzing malware, and developing CNO software</li>\\n<li>Experience with performing reverse engineering and vulnerability analysis of software binaries using IDA Pro or similar software and performing dynamic analysis of software binaries using OllyDbg, WINDbg, or similar software</li>\\n<li>Experience with developing software systems in assembly, C, C++, or other low\\u2013level proprietary languages on UNIX, Linus, VxWorks, or vendor\\u2013proprietary operating systems</li>\\n<li>Ability to read or write at least one assembly language, including x86, ARM, MIPS, or PowerPC</li>\\n<li>TS/SCI clearance with a polygraph</li>\\n<li>BS degree or 7 years of experience with software engineering in lieu of a degree<br></li>\\n</ul>\\n\\n<p>Clearance:<br>\\nApplicants selected will be subject to a security investigation and may need to meet eligibility requirements for access to classified information; TS/SCI clearance with polygraph is required.\\nIntegrating a full range of consulting capabilities, Booz Allen is the one firm that helps clients solve their toughest problems. by their side to help them achieve their missions.  Booz Allen is committed to delivering results that endure.<br>\\nWe are proud of our diverse environment, EOE, M/F/Disability/Vet.</p>\\n\",\n",
      "    \"how_to_apply\": \"<p><a href=\\\"http://www.jobs.net/jobs/booz-allen-hamilton/en-us/job/United-States/Reverse-Engineer/J3G1YY60X3K75YKMJZZ/?source=JB-16301\\\">Apply Here</a></p>\\n\",\n",
      "    \"id\": \"fb2367d6-1590-11e7-93dc-5e8ef9a998f9\",\n",
      "    \"location\": \"Annapolis Junction, MD\",\n",
      "    \"title\": \"Reverse Engineer\",\n",
      "    \"type\": \"Full Time\",\n",
      "    \"url\": \"http://jobs.github.com/positions/fb2367d6-1590-11e7-93dc-5e8ef9a998f9\"\n",
      "  },\n",
      "  {\n",
      "    \"company\": \"Booz Allen Hamilton\",\n",
      "    \"company_logo\": \"http://github-jobs.s3.amazonaws.com/f6b2c7aa-1590-11e7-8ab2-28e8702d2296.png\",\n",
      "    \"company_url\": \"http://www.boozallen.com\",\n",
      "    \"created_at\": \"Thu Mar 30 21:36:43 UTC 2017\",\n",
      "    \"description\": \"<p>Job Number: R0001100</p>\\n\\n<p>Booz Allen Hamilton has been at the forefront of strategy and technology for more than 100 years Today, the firm provides management and technology consulting and engineering services to leading Fortune 500 corporations, governments, and not-for-profits across the globe. Booz Allen partners with public and private sector clients to solve their most difficult challenges through a combination of consulting, analytics, mission operations, technology, systems delivery, cybersecurity, engineering and innovation expertise.</p>\\n\\n<p>Key Role:<br>\\nSupport numerous challenging, mission-critical projects that have a direct impact on the nation\\u2019s security and intelligence mission. Perform embedded development, vulnerability analysis, reverse engineering, software development, and operational support to solve many of the country\\u2019s toughest problems. Apply expertise in C/C++ development, reverse engineering, and automated unit testing in Python, develop capabilities in assembly, research existing functionality, and learn new technologies quickly. Provide support to the test team during component and system testing and perform protocol analysis. </p>\\n\\n<p>Basic Qualifications:  </p>\\n\\n<ul>\\n<li>Experience with software system requirements analysis, design, development, integration, and testing</li>\\n<li>Experience with software development using C/C++ and development on multi-threaded POSIX or embedded platforms, including Linux, Unix, Android, and VxWorks</li>\\n<li>Experience with software reverse engineering and debugging tools, including IDAPro, OllyDbg, and gdb</li>\\n<li>Experience with assembly languages, including development or reversing or leveraging one architecture assembly language</li>\\n<li>Experience with network and socket programming for common protocols and standards, including TCP/IP</li>\\n<li>Knowledge of low-level systems programming concepts</li>\\n<li>TS/SCI clearance with a polygraph<br></li>\\n</ul>\\n\\n<p>Additional Qualifications:  </p>\\n\\n<ul>\\n<li>Experience with vulnerability analysis and exploit development</li>\\n<li>Experience with Python</li>\\n<li>Experience with developing software in Linux environments</li>\\n<li>Experience with developing code for kernel space or drivers for multi-threaded POSIX or embedded systems</li>\\n<li>Knowledge of telecommunications</li>\\n<li>BA or BS degree</li>\\n</ul>\\n\\n<p>Clearance:<br>\\nApplicants selected will be subject to a security investigation and may need to meet eligibility requirements for access to classified information; TS/SCI clearance with polygraph is required.  </p>\\n\\n<p>Integrating a full range of consulting capabilities, Booz Allen is the one firm that helps clients solve their toughest problems. by their side to help them achieve their missions.  Booz Allen is committed to delivering results that endure.<br>\\nWe are proud of our diverse environment, EOE, M/F/Disability/Vet.</p>\\n\\n<p>DIG100</p>\\n\",\n",
      "    \"how_to_apply\": \"<p><a href=\\\"http://www.jobs.net/jobs/booz-allen-hamilton/en-us/job/United-States/Embedded-Developer-Mid/J3F8H16KDBMDYXKFZBB/?source=JB-16301\\\">Apply Here</a></p>\\n\",\n",
      "    \"id\": \"f7d3a9ec-1590-11e7-9240-0b748021b0e3\",\n",
      "    \"location\": \"Annapolis Junction, MD\",\n",
      "    \"title\": \"Embedded Developer, Mid\",\n",
      "    \"type\": \"Full Time\",\n",
      "    \"url\": \"http://jobs.github.com/positions/f7d3a9ec-1590-11e7-9240-0b748021b0e3\"\n",
      "  },\n",
      "  {\n",
      "    \"company\": \"Booz Allen Hamilton\",\n",
      "    \"company_logo\": \"http://github-jobs.s3.amazonaws.com/d59745d2-1590-11e7-9457-4c781a0a7932.png\",\n",
      "    \"company_url\": \"http://www.boozallen.com\",\n",
      "    \"created_at\": \"Thu Mar 30 21:35:55 UTC 2017\",\n",
      "    \"description\": \"<p>Job Number: R0001706</p>\\n\\n<p>Booz Allen Hamilton has been at the forefront of strategy and technology for more than 100 years Today, the firm provides management and technology consulting and engineering services to leading Fortune 500 corporations, governments, and not-for-profits across the globe. Booz Allen partners with public and private sector clients to solve their most difficult challenges through a combination of consulting, analytics, mission operations, technology, systems delivery, cybersecurity, engineering and innovation expertise.</p>\\n\\n<p>Key Role:\\nWork as a subject matter expert and full stack .NET developer responsible for the design, development, and implementation of Microsoft .NET Web\\u2013based applications, mobile applications, solutions, and capabilities for clients with the federal government. Work with clients and stakeholders to analyze business and enterprise requirements and participate in making strategic design and architectural decisions. Perform in a leadership role on a team across the software development life cycle, including requirements, design, implementation, and deployment. Follow and adapt approved life cycle methodologies to project needs, create design documents, and perform program coding and unit testing. Develop strategies to create better collaboration between developer, testers, project managers, and users while using development methods and automated practices. Leverage experience and judgment to resolve technical issues and to plan and accomplish goals related to the overall success of the program and apply a wide degree of creativity and latitude in disseminating tasks to team for execution.</p>\\n\\n<p>Basic Qualifications:  </p>\\n\\n<ul>\\n<li>8+ years of experience with SQL and Web application development</li>\\n<li>8+ years of experience with ASP.NET, MVC, or Web forms development</li>\\n<li>Experience with mobile application development, including Xamarin, native Android, and iOS</li>\\n<li>Experience with systems integration</li>\\n<li>Knowledge of Visual Studio 2015 and 2013, SQL Server Management Studio 2012, and Team Foundation Server 2015 and 2013</li>\\n<li>Knowledge of JavaScript, including jQuery, jQuery UI, AngularJS, Node.js, and Entity Framework</li>\\n<li>Knowledge of source control and Agile development</li>\\n<li>Ability to mentor junior developers</li>\\n<li>Ability to obtain a security clearance</li>\\n<li>BA or BS degree<br></li>\\n</ul>\\n\\n<p>Additional Qualifications:  </p>\\n\\n<ul>\\n<li>8+ years of experience with consulting or federal IT</li>\\n<li>Experience with C#, Swift or Objective\\u2013C, and Java preferred</li>\\n<li>Experience with Azure Mobile Services</li>\\n<li>Experience with surveillance systems development</li>\\n<li>Experience with writing whitepapers</li>\\n<li>Knowledge of health IT, GIS, and Web API</li>\\n<li>Knowledge of HTML5, CSS3, EPLC, ReSharper, NUnit, NLog, and JSON</li>\\n<li>Ability to communicate complex technical concepts</li>\\n<li>Possession of excellent oral and written communication skills</li>\\n<li>Possession of excellent estimation skills</li>\\n<li>BS degree in Computer Science or a technical field preferred</li>\\n<li>Active Microsoft Certifications a plus<br></li>\\n</ul>\\n\\n<p>Clearance:<br>\\nApplicants selected will be subject to a security investigation and may need to meet eligibility requirements for access to classified information.<br>\\nIntegrating a full range of consulting capabilities, Booz Allen is the one firm that helps clients solve their toughest problems. by their side to help them achieve their missions.  Booz Allen is committed to delivering results that endure.<br>\\nWe are proud of our diverse environment, EOE, M/F/Disability/Vet.</p>\\n\",\n",
      "    \"how_to_apply\": \"<p><a href=\\\"http://www.jobs.net/jobs/booz-allen-hamilton/en-us/job/United-States/NET-Mobile-Application-Developer-Senior/J3G6M75YRZQNKZN9XFH/?source=JB-16301\\\">Apply Here</a></p>\\n\",\n",
      "    \"id\": \"db0a5400-1590-11e7-89b8-3ab6a7a9023a\",\n",
      "    \"location\": \"Atlanta, GA\",\n",
      "    \"title\": \".NET/MOBILE APPLICATION DEVELOPER, SENIOR \",\n",
      "    \"type\": \"Full Time\",\n",
      "    \"url\": \"http://jobs.github.com/positions/db0a5400-1590-11e7-89b8-3ab6a7a9023a\"\n",
      "  },\n",
      "  {\n",
      "    \"company\": \"YNAB (You Need A Budget)\",\n",
      "    \"company_logo\": \"http://github-jobs.s3.amazonaws.com/f6c7a74a-1588-11e7-8694-f2951497f07c.jpg\",\n",
      "    \"company_url\": \"https://www.youneedabudget.com/\",\n",
      "    \"created_at\": \"Thu Mar 30 20:40:01 UTC 2017\",\n",
      "    \"description\": \"<p>At YNAB, we build the world\\u2019s best budgeting software. But we\\u2019re even prouder of teaching people how to align their money and their priorities, and in turn changing their lives. Now we need a Full Stack Marketing Developer to help us get the word out and find out how effectively we\\u2019re doing so!</p>\\n\\n<p>You might not have heard of a \\u201cFull Stack Marketing Developer\\u201d yet, but you might be one! Let\\u2019s break this down:</p>\\n\\n<p>When we say Full Stack, we mean that you\\u2019re a programmer at heart, and are comfortable at various levels of the web stack, and are intimately familiar with the following (not exhaustive):</p>\\n\\n<ul>\\n<li>JavaScript</li>\\n<li>A Server-side language like Ruby/Java/C#/PHP</li>\\n<li>HTML/CSS</li>\\n<li>Deploying and maintaining websites/applications on a service like AWS or Heroku.</li>\\n</ul>\\n\\n<p>In short, you\\u2019re a \\u201cJack of all web trades, master of some\\u201d.</p>\\n\\n<p>And when we say \\u201cMarketing Developer\\u201d, it means you\\u2019ll be working with our awesome marketing team, and they will periodically get excited in a meeting and say things like,</p>\\n\\n<ul>\\n<li>\\u201cI wish that we could hook up an analytics service of some sort to help us figure out where our customers come from, and what our best customer source is!\\u201d</li>\\n<li>\\u201cAfter we moved our Wordpress website from a generic host to Heroku, we noticed that sometimes the site is slow. Do you think something is wrong?\\u201d</li>\\n<li>\\u201cWe offer about 120 live classes a week, and there is an API feed from our classes provider that tells us who took the classes. I wish there was a way to know which classes were more effective at retaining customers.\\u201d</li>\\n</ul>\\n\\n<p>And to those comments, you\\u2019ll probably get excited and respond with, \\u201cI could build that for you!\\u201d</p>\\n\\n<p>That\\u2019s a taste of what you\\u2019ll be working on. But first, you need to know if you\\u2019ll even like working with us. We think you will.</p>\\n\\n<p><strong>A Bit About Us</strong></p>\\n\\n<p>We build the best budgeting software around, YNAB or \\u201cYou Need a Budget\\u201d if you have a lot of extra time on your hands. For more than a decade, people have been buying YNAB and then telling their friends what a difference it has made in their lives. (Google us, and you\\u2019ll see what we mean.) We love building something that has a huge positive impact on people\\u2019s lives.</p>\\n\\n<p>We\\u2019re profitable, bootstrapped, and growing. YNAB started in 2004 and we haven\\u2019t taken any outside funding\\u2014we\\u2019re in it for the long haul.</p>\\n\\n<p>We have one overarching requirement when it comes to joining our team: our <a href=\\\"https://docs.google.com/document/d/16hufsixsrv1j2jZkWUgQmeKpNfQRsacnnK2xTVwO0ew/edit?usp=sharing\\\">Cultural Manifesto</a> has to really click with you. If you\\u2019re nodding emphatically while reading it, you\\u2019ll probably fit right in!</p>\\n\\n<p>First, let\\u2019s talk about life at YNAB and then we\\u2019ll go into detail about what we\\u2019re looking for.</p>\\n\\n<p><strong>Who you\\u2019d be working with:</strong>\\nDon\\u2019t think cheesy salespeople who do \\u201cfinger-pistols\\u201d at each other and make that annoying sound with their mouths. Think, \\u201cWoah, I\\u2019m so glad I joined the marketing team. I\\u2019ve never laughed this hard before, and dang, I need to up my <a href=\\\"https://www.amazon.com/Telestrations-12-Player-Party-Pack/dp/B0083J768O\\\">Telestrations</a> skills!\\u201d</p>\\n\\n<p>Lindsey, our Chief Marketing Officer, is in charge of getting the word out about YNAB, and always finds a fun way to do that. Her most recent brainchild was our <a href=\\\"https://www.youneedabudget.com/ynab-mixtape-2017/\\\">YNAB mix-tape</a>, where-in she wrote and re-recorded budgeting-related lyrics to pop-songs. (We suggest reading the rest of this description while listening to that album.)</p>\\n\\n<p>Ryan eats and sleeps digital marketing, but lest you think that sounds boring, you should know that he is the only one on the team that played bass in a band (for which he wrote much of the music), worked on a train for a summer, helped develop a football management video game, and lived in the Canary Islands. Oh, and he recently taught us all how to build an electric guitar.</p>\\n\\n<p>Lastly, Lauren is our illustrator/designer. She is single-handedly responsible for almost all of the illustrations you see on our blog/Facebook/Instagram posts, <em>and</em> might be single-handedly responsible for all of the WoW achievement points mentioned on our <a href=\\\"https://www.youneedabudget.com/about/\\\">About Page</a>. We should also mention that she designed and illustrated that page. So yeah, her list of awesome just keeps going and going.</p>\\n\\n<p><strong>How You\\u2019ll Work at YNAB</strong></p>\\n\\n<p>We work really hard to make working at YNAB an amazing experience. We have a team full of truly exceptional people\\u2014the kind you\\u2019ll be excited to work with. Here\\u2019s how we operate:</p>\\n\\n<p><strong>Live Where You Want</strong>\\nWe\\u2019re a distributed team, so you can live and work wherever you want. Proximity doesn\\u2019t influence productivity. As I write this, Taylor (our CTO) is in, London or Brazil, or maybe back in Austin? Not all of us travel so extensively, but the fact that he does is totally okay because we\\u2019re all adults. Just make sure you have a reliable internet connection.</p>\\n\\n<p><strong>No Crazy Hours</strong>\\nWe rarely work more than 40 hours per week. There have been a few occasions where things got a little crazy and people had to log some extra hours. But then they took some extra time off, so it all balances out. We work hard and smart but we\\u2019re in this for the long haul, no need to go crazy on the hours.</p>\\n\\n<p><strong>Take Vacation (Seriously)</strong>\\nWe want you to take vacation. In fact, we have a minimum vacation policy of three weeks per year (plus two extra weeks for Christmas break). It\\u2019s important to get out and do something. We\\u2019ll look forward to seeing pictures of your vacation in our internal chat room, creatively named #office_wall.</p>\\n\\n<p><strong>The YNAB Retreat</strong>\\nWe get the teams together once a year to catch up on spreadsheets and powerpoints in a Best Western conference room. Just kidding. Last year it was a <a href=\\\"https://www.youneedabudget.com/blog/post/if-you-feel-guilty-spending-money-youre-doing-it-wrong\\\">gigantic cabin in the mountains</a>. The time before that <a href=\\\"https://vimeo.com/youneedabudget/review/120084054/93e11d6343\\\">it was in Costa Rica</a>.  This year is a beach house in the Outer Banks. We do really fun things, but the highlight is always just hanging out together and having a blast.</p>\\n\\n<p><strong>Up Your Game</strong>\\nWe\\u2019re serious about helping you improve your craft. We budget for it (hey-o!).. Think conferences, Lynda subscriptions, dedicated time away from work to learn something new... it\\u2019s really up to you and your manager. But we love to see our people growing.  </p>\\n\\n<p><strong>If You\\u2019re International...</strong>\\nYou\\u2019ll be set up as a contractor. Employee or contractor, it\\u2019s all the same to us. You\\u2019re part of the team. We are spread all over the world, but for this particular position, we have a strong preference for candidates located +/- three hours from North American Pacific Time.</p>\\n\\n<p><strong>If You\\u2019re Stateside\\u2026</strong>\\nYou\\u2019ll be a W2 employee with fantastic health, dental, and vision insurance, where we cover 100% of the premium for you and your family. (No need to check your vision, you read that right, 100%. Although if you did need to check your vision, no big deal, we\\u2019ve got you covered!)</p>\\n\\n<p>We also have Traditional and Roth 401k options. YNAB contributes three percent whether you choose to throw any money in there or not. It vests immediately. (Are you a personal finance junkie like Jesse? He set up YNAB\\u2019s 401k to have the lowest fee structure possible, where all plan costs are paid by YNAB, not your retirement nest egg. The investment funds available are fantastic, passively-managed, ultra low-cost index funds. You\\u2019re not a PF junkie? Then trust us, it\\u2019s great.)</p>\\n\\n<p><strong>Other Tidbits</strong></p>\\n\\n<ul>\\n<li>Once you start, we DEMAND (in a friendly, ALL CAPS IS YELLING way) that you fill out your \\u201cBucket List\\u201d spreadsheet with 50 items. (That\\u2019s harder than it sounds!)</li>\\n<li>The bucket list helps in deciding what we should give you for your birthday and Christmas: No gift cards here. We tried that. Super boring.</li>\\n<li>We have a bonus plan based on profitability. You\\u2019ll be in on that from day one. YNAB wins, you win. That kind of thing.</li>\\n<li>We\\u2019re all adults. There\\u2019s no need to punch a clock, or ask for permission to take off early one afternoon to go see the doctor (health insurance premium 100% covered!). We look at what you\\u2019re accomplishing, not how long you sit (have you tried standing?) in front of a computer.</li>\\n<li>We want you firing on all cylinders so we\\u2019ll set you up with a shiny new computer and replace it every three years.</li>\\n<li>Did I mention we make a huge, positive difference in people\\u2019s lives? We have a Slack channel where we share success stories from our customers daily. It\\u2019s amazing. Don\\u2019t underestimate this one!</li>\\n</ul>\\n\\n<p>If this sounds like your ideal environment, read on because now I want to talk about you. You will play a big, big part in helping YNAB become a household name and helping hundreds of thousands of people get control of their money. You will change lives.</p>\\n\\n<p><strong>Now, back to you, our new Marketing Developer</strong></p>\\n\\n<p>If you are the guy or gal we\\u2019re looking for, you\\u2019ve already got solid programming experience under your belt. You have experience with both back-end and front-end development, and either already know, or know how to learn about marketing tech like Google Analytics and Intercom.</p>\\n\\n<p>You would love building custom solutions, dashboards, and solving \\u201cattribution\\u201d puzzles. When one of those silly marketing people comes to you and says, \\u201cour conversions in our CRM aren\\u2019t matching up with our Analytics dashboard,\\u201d you\\u2019d know exactly how to get to the root of the problem. (Probably because you set everything up.) Also, those marketing people aren\\u2019t silly and you actually consider yourself to be one of them these days.</p>\\n\\n<p><strong>Requirements (these are real, actual requirements)</strong>:</p>\\n\\n<p>3+ years of extensive web-related programming experience with</p>\\n\\n<ul>\\n<li>Client-side language like JavaScript or a variant</li>\\n<li>Server-side language like Ruby on Rails/Java/C#</li>\\n</ul>\\n\\n<p>Knowledge of:</p>\\n\\n<ul>\\n<li>Some HTML/CSS</li>\\n<li>Deploying and maintaining websites/applications on a service like AWS or Heroku.</li>\\n<li>The Mac/Linux command line</li>\\n<li>The proven ability to learn new languages and APIs quickly and independently</li>\\n</ul>\\n\\n<p><strong>Sweet, sweet bonus points (we can dream, right?)</strong>:</p>\\n\\n<ul>\\n<li>Strong knowledge of standard marketing tech, including:</li>\\n<li>Tracking scripts and pixels</li>\\n<li>Marketing API\\u2019s (ads APIs, analytics APIs)</li>\\n<li>Mobile funnel/store attribution tracking</li>\\n<li>Familiarity with databases like MySQL or PostreSQL</li>\\n<li>Social and ppc ad tracking platforms</li>\\n<li>Display network and retargeting integrations</li>\\n<li>Marketing automation systems</li>\\n<li>CRM integrations or custom databases to manage customer data</li>\\n<li>Mobile attribution tracking platforms</li>\\n<li>Google Tag manager or \\u201cmulti-plexer\\u201d integration like Segment.io</li>\\n<li>Experience creating custom Business Intelligence Dashboards</li>\\n<li>Wordpress development</li>\\n<li>Ember.js</li>\\n<li>DevOps experience with Heroku, nginx, Linux, DNS, CloudFlare, CDN\\u2019s</li>\\n<li>Typescript</li>\\n<li>A computer-science background and/or a degree in Computer science</li>\\n<li>You already use and love YNAB.</li>\\n</ul>\\n\\n<p><strong>What Success Looks Like:</strong>\\nYou\\u2019ll help the marketing team integrate, evaluate, and build the tech they need to succeed. You\\u2019ll be solving problems like:</p>\\n\\n<ul>\\n<li>\\u201cA university wrote to us and wants us to create a branded YNAB signup page for their 10,000 students. How can we hook up our user creation API to this new page that lives on the marketing site?\\u201d</li>\\n<li>\\u201cWe just launched our referral program, but I wish we had a dashboard of some sort that told us how well it was working. What percentage of people are using it? When they use it, how many people do they refer?\\u201d</li>\\n<li>There\\u2019s a new service that helps us attribute our signups to our various online ad platforms. Can you hook it up and help us evaluate it?</li>\\n</ul>\\n\\n<p>We know our marketing team is awesome and, even though you\\u2019ll technically be part of the development team too, you\\u2019ll go to bat for our team in development meetings. You\\u2019ll also hit home runs. And you won\\u2019t be annoyed by sports metaphors, but also, don\\u2019t worry, we rarely use them.</p>\\n\\n<p>Apart from integrating marketing tech, you\\u2019ll also have ideas on how we can improve our processes from a tech standpoint. Maybe you\\u2019ll want to stop FTPing files, and move our marketing site into Git so that it\\u2019s auto-deployed when we push. Too late - we did that a long time ago, but if we hadn\\u2019t, you would have made that your first order of business!</p>\\n\\n<p><strong>How to Apply</strong></p>\\n\\n<p><strong><a href=\\\"https://ynab.recruiterbox.com/jobs/fk0m7iu\\\">Apply here</a> by 11:59PM on April 9th, 2017.</strong> Firm. It\\u2019s a real deadline.</p>\\n\\n<p>In your cover letter (PDF):</p>\\n\\n<ul>\\n<li>Introduce yourself and explain why this position is of interest to you, and why you would be a great fit.</li>\\n<li>Please include links to apps you\\u2019ve built or anything else that makes you look good, and describe your role in building those apps. (If they\\u2019re internal, you can skip the link part.)</li>\\n<li>Includes answers to the following questions:</li>\\n<li>What are your two strongest programming languages? Is there another language that you\\u2019re curious to learn next?</li>\\n<li>If you were interviewing a prospective candidate for this position, what would be a good interview question to ask to find out if a candidate really knew their stuff?</li>\\n</ul>\\n\\n<p>Complete this short coding test (<a href=\\\"https://www.interviewzen.com/apply/9WpmvZ\\\">https://www.interviewzen.com/apply/9WpmvZ</a>) and include a link to your test in the cover letter. It shouldn\\u2019t take more than 5 or 10 minutes.</p>\\n\\n<p>If you have a prepared resume, attach it in PDF form. If you don\\u2019t have a resume because you aren\\u2019t even sure you\\u2019re looking to change jobs, that\\u2019s fine! An informal list of your work and education history are all we\\u2019re looking for.</p>\\n\\n<p>We look forward to hearing from you! </p>\\n\\n<p>P.S.  If you\\u2019re not interested in or available for this position, but know someone who is, we would really appreciate it if you passed this along!</p>\\n\",\n",
      "    \"how_to_apply\": \"<p>Apply here: <a href=\\\"https://ynab.recruiterbox.com/jobs/fk0m7iu\\\">https://ynab.recruiterbox.com/jobs/fk0m7iu</a>.\\n by 11:59PM on April 9th, 2017.</p>\\n\",\n",
      "    \"id\": \"ffbf6496-1588-11e7-861c-4c7f174c9419\",\n",
      "    \"location\": \"Remote - Anywhere\",\n",
      "    \"title\": \"Humbly Confident Full Stack Marketing Developer\",\n",
      "    \"type\": \"Full Time\",\n",
      "    \"url\": \"http://jobs.github.com/positions/ffbf6496-1588-11e7-861c-4c7f174c9419\"\n",
      "  },\n",
      "  {\n",
      "    \"company\": \"Contiamo\",\n",
      "    \"company_logo\": \"http://github-jobs.s3.amazonaws.com/3200f352-152f-11e7-8ed9-3674af490ed5.png\",\n",
      "    \"company_url\": \"http://www.contiamo.com\",\n",
      "    \"created_at\": \"Thu Mar 30 10:01:37 UTC 2017\",\n",
      "    \"description\": \"<p>ABOUT US</p>\\n\\n<p>Contiamo is a VC backed, fast-growing B2B software company. We offer a flexible data platform enabling businesses to create interactive, data-driven decision tools and automations.</p>\\n\\n<p>Our international customers range from big corporations to ambitious startups. We are a tech-driven company and keep a close watch on recent scientific developments and emerging technologies.</p>\\n\\n<ul>\\n<li>Our mission is to combine sophisticated data analysis with a great user interface and experience</li>\\n<li>Our company is centered around a strong product and the customer value it provides</li>\\n<li>We love what we do. We enjoy complex challenges and get a kick out of great solutions</li>\\n</ul>\\n\\n<p>YOUR JOB</p>\\n\\n<p>We are building a sophisticated OLAP query engine for advanced analytics, accessing data that is both cloud-based and on-premise. Your job is to make queries flexible enough for the variety of use-cases out there, and fast enough for real-time applications to get the data they need. Our query engine is written in Scala and based on Apache Calcite. We are planning to open-source it during the course of this year.</p>\\n\\n<ul>\\n<li>You have a very solid understanding of separation of concerns, design patterns and testing</li>\\n<li>You have excellent Java skills and ideally some experience with Scala</li>\\n<li>An understanding of database systems and performance optimizations is a plus</li>\\n<li>Experience with data processing systems (Hadoop, Kafka, Spark) is a plus</li>\\n<li>Involvement in Apache projects (contributions, participation in mailing lists) is a plus</li>\\n</ul>\\n\\n<p>WORKING AT CONTIAMO</p>\\n\\n<p>We strongly believe in the importance of uninterrupted time to get stuff done. At Contiamo, you own your features, from spec to implementation to operation. We believe in competitive compensation, and quality over quantity when it comes to working hours. We provide you with the hardware you need to be comfortable and productive. We offer free public transportation and full support you during the whole process of relocation. We are all eager to learn new things - expect conference trips to be covered by us.</p>\\n\\n<p>Interested? Get in touch with Lucia - <a href=\\\"mailto:careers@contiamo.com\\\">careers@contiamo.com</a>.</p>\\n\",\n",
      "    \"how_to_apply\": \"<p><a href=\\\"mailto:careers@contiamo.com\\\">careers@contiamo.com</a></p>\\n\",\n",
      "    \"id\": \"3f0a0eee-152f-11e7-8224-a34048f5ebb9\",\n",
      "    \"location\": \"Berlin\",\n",
      "    \"title\": \"Senior Java/Scala Developer (Data Science Platform)\",\n",
      "    \"type\": \"Full Time\",\n",
      "    \"url\": \"http://jobs.github.com/positions/3f0a0eee-152f-11e7-8224-a34048f5ebb9\"\n",
      "  },\n",
      "  {\n",
      "    \"company\": \"ASML\",\n",
      "    \"company_logo\": \"http://github-jobs.s3.amazonaws.com/6e785d9a-151e-11e7-90c9-82783286780c.png\",\n",
      "    \"company_url\": \"http://www.asml.com\",\n",
      "    \"created_at\": \"Thu Mar 30 07:58:58 UTC 2017\",\n",
      "    \"description\": \"<p><b>Introduction</b><br>\\nAre you a Senior Java Developer eager to take your career forward?<br>\\nDo you want to work on applications that are used by the world\\u2019s major chip manufacturers?<br>\\nDo you want to prove that you are highly talented, ready to work in elite multidisciplinary teams and eager to become part of a highly intellectually challenging community?\\u2028\\u2028Would you like to conquer complexity with software?</p>\\n\\n<p><b>Job Mission</b><br>\\nWe are Applications - a new business line within ASML and we are looking for talented developers to join and empower our team. We want your technical- and leadership skills to help us build better software and better teams!</p>\\n\\n<p><b>If you are up for the challenge of building an amazing career, now is the chance to meet us in person and discover your opportunities at ASML.\\nApply for the Senior JAVA Recruitment Day today!</b></p>\\n\\n<p><b>Job Description</b><br>\\n<b>You\\u2026</b></p>\\n\\n<ul>\\n<li>have experience in Java, object oriented programming, Junit, Mockito, XML, SQL, Linux in high-tech or machine building industry preferably.</li>\\n<li>are able to design and develop server-side software using object-oriented paradigm.</li>\\n<li>are passionate about technology and should be excited by the idea that his work will impact millions of end-users worldwide.</li>\\n<li>are an innovator and you constantly seek to improve your knowledge and your work.</li>\\n<li>are familiar with Continuous Integration.</li>\\n<li>enjoy working as a part of a Scrum team.</li>\\n<li>have strong affinity with math, data science and/or machine learning.</li>\\n</ul>\\n\\n<p><b>Context of the position</b><br>\\n<b>We\\u2026</b><br></p>\\n\\n<ul>\\n<li>are leading in the worldwide development, production and sales of high end lithography systems for the semiconductor industry.</li>\\n<li>are continuously working on further development and implementation of complex and high-quality technological systems.</li>\\n<li>offer a highly complex, precise and dynamic technological context.</li>\\n<li>are one of the few companies in the world that can offer true end-to-end experience to full-stack professionals.</li>\\n<li>are one of the biggest companies in the world who employ software &amp; hardware engineers as well as elite mathematicians &amp; physicists.</li>\\n<li>are the technology behind the brands \\u2013 we are everywhere! We push technology further to create the world of tomorrow.</li>\\n<li>are proud to part of progress.</li>\\n</ul>\\n\\n<p><b>Other Information</b><br>\\n<b>When?</b><br>\\nFriday 12th of May 2017<br>\\n<b>Where?</b><br>\\nASML Headquarters, Eindhoven, The Netherlands</p>\\n\\n<p><b>Please read the application procedure carefully!</b><br></p>\\n\\n<ul>\\n<li>For the Recruitment Day, a motivation letter is required.</li>\\n<li>Your application will be personally screened by one of our recruiters. After screening, you will be informed of the next steps. <b>If you are invited, this will be for Friday, May 12th Please keep this date reserved.</b></li>\\n<li>Please send your resume and a motivation letter before the application deadline of May 3rd 2017, 23:59 GMT+1</li>\\n<li>During the Recruitment Day , you will have 2 technical interviews with 2 different teams in order to find out where you fit best. The shortlisted candidates will have an HR interview afterwards.</li>\\n<li>The exact program of the day will be disclosed to participants before the Recruitment Day.</li>\\n<li>Travel arrangements and accommodation will be fully covered by ASML.</li>\\n<li>NB: due to the time duration associated with visa arrangement, we can unfortunately only accept applications from people currently residing in the European Union. If you fit the criteria but do not reside in the EU, please look at our other open vacancies</li>\\n<li>For additional information, please contact Eirini Syka-Lerioti at <a href=\\\"mailto:eirini.syka-lerioti@asml.com\\\">eirini.syka-lerioti@asml.com</a></li>\\n</ul>\\n\\n<p><i>Keywords: Java developer, Software engineer, Programmer, object oriented programming, Junit, Mockito, XML, SQL, Linux</i></p>\\n\",\n",
      "    \"how_to_apply\": \"<p>Please apply via the link below.</p>\\n\\n<p><A HREF=\\\"https://asml.redirect.your-jobresponse.com/senior_java_recruitment_day_veldhoven/140453/V819/apply\\\">Click here to apply</A></p>\\n\",\n",
      "    \"id\": \"895d771c-151e-11e7-91de-04a1a4638a6b\",\n",
      "    \"location\": \"Veldhoven\",\n",
      "    \"title\": \"Senior Java Recruitment Day\",\n",
      "    \"type\": \"Full Time\",\n",
      "    \"url\": \"http://jobs.github.com/positions/895d771c-151e-11e7-91de-04a1a4638a6b\"\n",
      "  },\n",
      "  {\n",
      "    \"company\": \"GitHub\",\n",
      "    \"company_logo\": \"http://github-jobs.s3.amazonaws.com/3e040cb8-14d8-11e7-8c02-c96b33ff5cfd.png\",\n",
      "    \"company_url\": \"https://github.com/about/jobs\",\n",
      "    \"created_at\": \"Wed Mar 29 23:34:31 UTC 2017\",\n",
      "    \"description\": \"<p>We&#39;re looking for a web support team manager to help lead our passionate, distributed technical support staff and work with them to solve users&#39; problems.</p>\\n\\n<p>The Technical Support Manager will work with their team members to guide and serve them \\u2013 to keep the team and everyone on it happy and productive. The manager will also work side-by-side with the team answering emails and helping to resolve users&#39; issues as quickly and awesomely as possible.</p>\\n\\n<p>Our Technical Support team handles questions about Git and GitHub workflow, GitHub Pages, our API, our desktop application and more. Our support teammates have excellent writing chops: stellar grammar, charming written personality, and the ability to explain complicated things simply. We measure our success in swiftness, accuracy, and clarity.</p>\\n\\n<p>The Technical Support Manager will report to the Director of Web Support, who will help them maintain open lines of communication among team members and help keep work focused on things that are important to the individuals, the team, and the company. The Technical Support Manager will also work closely with the other Web Support Managers around the world to ensure consistency in our processes and help drive strategy and meet goals and deliverables for Web Support. The Technical Support Manager will also work with the Human Resources team to help resolve personnel issues as they arise as well as hiring for Web Support.</p>\\n\\n<h2>Responsibilities:</h2>\\n\\n<ul>\\n<li>Meeting 1-1 with team members on a regular basis</li>\\n<li>Planning and supporting career development</li>\\n<li>Giving guided performance feedback</li>\\n<li>Serving as a coach and mentor</li>\\n<li>Keeping communication channels open within the entire Support team</li>\\n<li>Serving as hiring manager for the team</li>\\n<li>Responding to user emails</li>\\n<li>Working with Engineering to resolve problems on GitHub.com</li>\\n</ul>\\n\\n<h2>Minimum Qualifications:</h2>\\n\\n<ul>\\n<li>Current legal working authorization in the US or Canada</li>\\n<li>Stellar written and verbal communication skills</li>\\n<li>Passionate about creating and fostering good support practices</li>\\n<li>Ability to empathize with a diverse range of people</li>\\n<li>A strong sense of empathy and the ability to advocate for others</li>\\n<li>Excellent problem solving skills</li>\\n<li>A malleable writing style and voice</li>\\n<li>Personnel management experience &amp; hiring experience</li>\\n<li>Basic experience using Git and GitHub</li>\\n<li>Exposure to programming with a language like Ruby</li>\\n<li>Understanding of how websites and web applications work</li>\\n</ul>\\n\\n<h2>Preferred Qualifications:</h2>\\n\\n<ul>\\n<li>Have worked with a distributed team</li>\\n<li>Experience working remotely</li>\\n<li>Prior customer support experience</li>\\n</ul>\\n\\n<h2>Who We Are:</h2>\\n\\n<p>GitHub is the best place to share code with friends, co-workers, classmates, and complete strangers. Over fifteen million people use GitHub to build amazing things together. With the collaborative features of GitHub.com and GitHub Business, it has never been easier for individuals and teams to write faster, better code.</p>\\n\\n<h2>What We Value:</h2>\\n\\n<p>Collaboration: We believe the best work is done together. \\nEmpathy: We believe in putting people first. \\nQuality: We believe in setting the standard for excellence. \\nPositive Impact: We believe in making the world a better place through our work. \\nShipping: We believe in creating things for the people using them.</p>\\n\\n<h2>Why You Should Join:</h2>\\n\\n<p>At GitHub, we constantly strive to create an environment that allows our employees (Hubbers) to do the best work of their lives. We&#39;ve designed one of the coolest workspaces in San Francisco (HQ), where over half of our Hubbers work, snack, and create daily. The other half of our Hubbers work remotely in 18 countries across the globe.</p>\\n\\n<p>We are also committed to keeping Hubbers healthy, motivated, focused and creative. We&#39;ve designed our top-notch benefits program with these goals in mind. In a nutshell, we&#39;ve built a place where we truly love working, we think you will too.</p>\\n\\n<p>GitHub is made up of people from a wide variety of backgrounds and lifestyles. We embrace diversity and invite applications from people of all walks of life. We don&#39;t discriminate against employees or applicants based on gender identity or expression, sexual orientation, race, religion, age, national origin, citizenship, disability, pregnancy status, veteran status, or any other differences. Also, if you have a disability, please let us know if there&#39;s any way we can make the interview process better for you; we&#39;re happy to accommodate!</p>\\n\\n<p>*Please note that benefits vary by country, if you have any questions, please don&#39;t hesitate to ask your Recruiter!</p>\\n\",\n",
      "    \"how_to_apply\": \"<p>Interested? We would love to hear more about you and your interest in joining us at GitHub! Just fill out our application <a href=\\\"https://boards.greenhouse.io/github/jobs/649118#.WNxD4RLytBw\\\">here</a>!</p>\\n\",\n",
      "    \"id\": \"423938bc-14d8-11e7-9f4d-cba82a738e16\",\n",
      "    \"location\": \"Remote - North America\",\n",
      "    \"title\": \"Technical Support Manager (Remote - North America)\",\n",
      "    \"type\": \"Full Time\",\n",
      "    \"url\": \"http://jobs.github.com/positions/423938bc-14d8-11e7-9f4d-cba82a738e16\"\n",
      "  },\n",
      "  {\n",
      "    \"company\": \"SugarCRM\",\n",
      "    \"company_logo\": \"http://github-jobs.s3.amazonaws.com/f180a37a-14c7-11e7-8aa6-054b145b18f0.png\",\n",
      "    \"company_url\": \"https://www.sugarcrm.com/\",\n",
      "    \"created_at\": \"Wed Mar 29 21:43:39 UTC 2017\",\n",
      "    \"description\": \"<h1>LifeIsSweet at SugarCRM</h1>\\n\\n<p>The people. The passion. The success. You will frequently see Sugas huddled around a desk or whiteboard collaborating, cranking out ideas, or solving the latest industry problem. Are you ready to play a key role in influencing how companies create extraordinary relationships with their customers? We\\u2019d love to hear your ideas!\\u00a0We\\u2019re going places\\u2026 join us for the ride, experience sweet success and show us your passion.</p>\\n\\n<ul>\\n<li>SugarCRM is not sponsoring immigration at this time. Relocation to the San Francisco Bay Area will be supported for the right candidate. *</li>\\n</ul>\\n\\n<p>Description</p>\\n\\n<p>The Core UI team\\u2019s mission is to build the robust UI framework and key reusable application components that power all of Sugar\\u2019s products. This team owns a critical piece of the SugarCRM application stack that is central to our customers\\u2019 ability to extend and customize Sugar.</p>\\n\\n<p>We are looking for a dynamic, hands on manager who thrives on new challenges and is excited about staying close to the code. In this role you will be leading a team that builds modern web applications that perform at scale using best of breed technologies. The ideal candidate must have strong people management skills, project management skills, and work well in a dynamic, collaborative environment. You will work closely with your peers in cross functional teams and be the champion for the core UI team\\u2019s technical roadmap and architecture.</p>\\n\\n<p>Responsibilities</p>\\n\\n<ul>\\n<li>Manage the performance and professional development of a team of 5-8 highly skilled UI engineers and own the development of core UI framework and common components of SugarCRM\\u2019s products</li>\\n<li>Lead by example with a strong emphasis on craftsmanship and focus on quality</li>\\n<li>Work with Product Management and senior leadership to implement product requirements and develop the technical roadmap</li>\\n<li>Work with your peers to implement efficient scrum based software development processes</li>\\n<li>Work closely with architects to extend and optimize current software architecture</li>\\n<li>Provide recommendations on best practices, design, methodologies, and solutions to team, and counterparts in the company</li>\\n<li>Be active in contributing code and perform design and code reviews regularly</li>\\n<li>Explore and evangelize new software design and architecture</li>\\n</ul>\\n\\n<p>Qualifications</p>\\n\\n<ul>\\n<li>Successful track record of hiring and growing top engineering talent</li>\\n<li>Prior experience with scrum based software development processes and best practices around efficient and iterative software delivery</li>\\n<li>Proficiency in web based UI development with emphasis on client side technologies (HTML5, CSS3) and JavaScript frameworks (Backbone, Underscore, Handlebars, Webpack), and test automation</li>\\n<li>Experience with object oriented design, development, RESTful APIs, testing methodologies, server side programming languages (PHP or Java), web services, and relational databases</li>\\n<li>Prior experience with a large scale enterprise product and/or distributed SaaS system a big plus</li>\\n<li>Bachelor&#39;s Degree in Computer Science or related field</li>\\n</ul>\\n\\n<p>Location:\\u00a0\\u00a0Cupertino, CA.</p>\\n\\n<ul>\\n<li>SugarCRM is not sponsoring immigration at this time. Relocation to the San Francisco Bay Area will be supported for the right candidate. *</li>\\n</ul>\\n\\n<p>We are an Equal Opportunity, Affirmative Action employer. Minorities, women, veterans and individuals with disabilities are encouraged to apply.\\nNote to Recruiters and Placement Agencies:\\u00a0\\u00a0SugarCRM does not accept unsolicited agency resumes. Please do not forward unsolicited agency resumes to our website or to any SugarCRM employee. SugarCRM will not pay fees to any third party agency or firm and will not be responsible for any agency fees associated with unsolicited resumes. Unsolicited resumes received will be considered property of SugarCRM and will be processed accordingly.\\u00a0\\n\\u00a0\\nWhat is it REALLY like to work here?</p>\\n\\n<ul>\\n<li>Open is at the heart of our business\\u00a0and\\u00a0our culture. \\u00a0You won&#39;t find cubicles here</li>\\n<li>Everyone is asked for ideas and problem-solving solutions</li>\\n<li>Engineers\\u00a0drive many of the product&#39;s features</li>\\n<li>Employees are closer to the customer&#39;s needs</li>\\n<li>Entrepreneurial-spirited employees</li>\\n<li>Collaborative work environment</li>\\n<li>Ownership is the greatest self-identity at SugarCRM - you are making an impact\\u00a0now</li>\\n<li>We are a merit-based company - many opportunities to learn, excel and grow your career</li>\\n<li>Learn more @LifeAtSugar on Twitter or @SugarCRM on Instagram.\\u00a0 Follow us!</li>\\n</ul>\\n\",\n",
      "    \"how_to_apply\": \"<p>Please apply here: <a href=\\\"https://app.jobvite.com/j?cj=oHS04fwn&amp;s=Github_JobPost\\\">https://app.jobvite.com/j?cj=oHS04fwn&amp;s=Github_JobPost</a></p>\\n\",\n",
      "    \"id\": \"c122915c-14c7-11e7-81ce-2dcfaeda799d\",\n",
      "    \"location\": \"Cupertino, CA\",\n",
      "    \"title\": \"Software Engineering Manager - Core UI \",\n",
      "    \"type\": \"Full Time\",\n",
      "    \"url\": \"http://jobs.github.com/positions/c122915c-14c7-11e7-81ce-2dcfaeda799d\"\n",
      "  }\n",
      "]\n"
     ]
    }
   ],
   "source": [
    "import json\n",
    "r.headers\n",
    "data=r.json()\n",
    "print (len(data))\n",
    "print(json.dumps(data, sort_keys=True,indent=2))"
   ]
  },
  {
   "cell_type": "markdown",
   "metadata": {},
   "source": [
    "## 3. Get the dictionary of one of the jobs and call the `keys()` method to have a better idea of the data at hand."
   ]
  },
  {
   "cell_type": "code",
   "execution_count": 3,
   "metadata": {
    "collapsed": false
   },
   "outputs": [
    {
     "data": {
      "text/plain": [
       "dict_keys(['company', 'company_logo', 'created_at', 'id', 'location', 'how_to_apply', 'company_url', 'description', 'title', 'type', 'url'])"
      ]
     },
     "execution_count": 3,
     "metadata": {},
     "output_type": "execute_result"
    }
   ],
   "source": [
    "data[0].keys()"
   ]
  },
  {
   "cell_type": "markdown",
   "metadata": {},
   "source": [
    "## 4. Print some of the first job's content, including images and HTML. You might need to import the `IPython` package."
   ]
  },
  {
   "cell_type": "code",
   "execution_count": 4,
   "metadata": {
    "collapsed": false
   },
   "outputs": [
    {
     "data": {
      "text/html": [
       "<img src=\"http://github-jobs.s3.amazonaws.com/e54db6c2-080d-11e7-9d25-531751d26d63.png\"/>"
      ],
      "text/plain": [
       "<IPython.core.display.Image object>"
      ]
     },
     "execution_count": 4,
     "metadata": {},
     "output_type": "execute_result"
    }
   ],
   "source": [
    "from IPython.display import Image\n",
    "image_url = data[0]['company_logo']\n",
    "Image(url=image_url) "
   ]
  },
  {
   "cell_type": "code",
   "execution_count": 5,
   "metadata": {
    "collapsed": false
   },
   "outputs": [
    {
     "data": {
      "text/html": [
       "<p>More and more companies are using GitHub Enterprise, so the Support team is growing. When our customers have problems, they contact us and it is our goal to help them as quickly and awesomely as possible. We&#39;re looking for an Enterprise Support Manager, in Asia Pacific, who will be responsible for the oversight and performance of a distributed staff answering customer support requests, triaging issues, and providing solutions. Candidates must currently be located in Australia, Japan, or New Zealand and possess legal working authorization.</p>\n",
       "\n",
       "<p>The position reports to the Director of Enterprise Support and works closely with other teams and leaders across the company.</p>\n",
       "\n",
       "<p>GitHub works remotely and asynchronously as much as possible. While this role does not require you to live near our office, it will require some travel to meet with co-workers, customers, and interview candidates.</p>\n",
       "\n",
       "<h2>Responsibilities:</h2>\n",
       "\n",
       "<ul>\n",
       "<li>Manage, mentor, and coach team members</li>\n",
       "<li>Provide career development planning and guidance</li>\n",
       "<li>Meet 1-1 with team members on a regular basis</li>\n",
       "<li>Hire, onboard, and train new team members</li>\n",
       "<li>Maintain cross-team communication between Support, Engineering, and Sales</li>\n",
       "<li>Work with the Enterprise Support Director on the development and execution of team strategy</li>\n",
       "<li>Work with Enterprise Support managers/teams to foster cross-team collaboration</li>\n",
       "<li>Facilitate the implementation of new processes to improve customer support</li>\n",
       "<li>Promote and build upon the unique collaborative culture of Enterprise Support</li>\n",
       "<li>Handle and follow-up on customer escalations</li>\n",
       "<li>Collect and analyze support metrics to drive improvements</li>\n",
       "</ul>\n",
       "\n",
       "<h2>Minimum Qualifications:</h2>\n",
       "\n",
       "<ul>\n",
       "<li>Legal working authorization in Australia</li>\n",
       "<li>Currently residing in the Australia</li>\n",
       "<li>Experience leading a globally distributed team</li>\n",
       "<li>Experience in technical support</li>\n",
       "<li>Experience with personnel hiring</li>\n",
       "<li>Stellar written and oral communication skills</li>\n",
       "<li>Excellent problem-solving skills</li>\n",
       "<li>At least 2-3 years of experience working with and troubleshooting Linux servers</li>\n",
       "<li>Ability to look through and understand code (Ruby / Bash)</li>\n",
       "<li>Enthusiasm for working directly with customers</li>\n",
       "<li>Passionate about creating and fostering good support practices</li>\n",
       "<li>Strong empathy for GitHub users and GitHub Support</li>\n",
       "</ul>\n",
       "\n",
       "<h2>Preferred Qualifications:</h2>\n",
       "\n",
       "<ul>\n",
       "<li>Scaled a quickly growing support team</li>\n",
       "<li>Experience working and managing remotely</li>\n",
       "<li>Knowledge of Git and GitHub</li>\n",
       "</ul>\n",
       "\n",
       "<h2>Who We Are:</h2>\n",
       "\n",
       "<p>GitHub is the best place to share code with friends, co-workers, classmates, and complete strangers. Over fifteen million people use GitHub to build amazing things together. With the collaborative features of GitHub.com and GitHub Business, it has never been easier for individuals and teams to write faster, better code.</p>\n",
       "\n",
       "<h2>What We Value:</h2>\n",
       "\n",
       "<p>Collaboration: We believe the best work is done together. \n",
       "Empathy: We believe in putting people first. \n",
       "Quality: We believe in setting the standard for excellence. \n",
       "Positive Impact: We believe in making the world a better place through our work. \n",
       "Shipping: We believe in creating things for the people using them.</p>\n",
       "\n",
       "<h2>Why You Should Join:</h2>\n",
       "\n",
       "<p>At GitHub, we constantly strive to create an environment that allows our employees (Hubbers) to do the best work of their lives. We&#39;ve designed one of the coolest workspaces in San Francisco (HQ), where over half of our Hubbers work, snack, and create daily. The other half of our Hubbers work remotely in 18 countries across the globe.</p>\n",
       "\n",
       "<p>We are also committed to keeping Hubbers healthy, motivated, focused and creative. We&#39;ve designed our top-notch benefits program with these goals in mind. In a nutshell, we&#39;ve built a place where we truly love working, we think you will too.</p>\n",
       "\n",
       "<p>GitHub is made up of people from a wide variety of backgrounds and lifestyles. We embrace diversity and invite applications from people of all walks of life. We don&#39;t discriminate against employees or applicants based on gender identity or expression, sexual orientation, race, religion, age, national origin, citizenship, disability, pregnancy status, veteran status, or any other differences. Also, if you have a disability, please let us know if there&#39;s any way we can make the interview process better for you; we&#39;re happy to accommodate!</p>\n",
       "\n",
       "<p>*Please note that benefits vary by country, if you have any questions, please don&#39;t hesitate to ask your Recruiter!</p>\n"
      ],
      "text/plain": [
       "<IPython.core.display.HTML object>"
      ]
     },
     "metadata": {},
     "output_type": "display_data"
    }
   ],
   "source": [
    "from IPython.core.display import display, HTML\n",
    "display(HTML(data[0]['description']))"
   ]
  },
  {
   "cell_type": "code",
   "execution_count": 6,
   "metadata": {
    "collapsed": false
   },
   "outputs": [
    {
     "name": "stdout",
     "output_type": "stream",
     "text": [
      "GitHub\n",
      "https://github.com/about/jobs\n",
      "<p>Interested? We would love to hear more about you and your interest in joining us at GitHub! Just fill out our application <a href=\"https://boards.greenhouse.io/github/jobs/586192#.WMbOuxIrLBI\">here</a>!</p>\n",
      "\n",
      "Wed Apr 12 16:56:04 UTC 2017\n"
     ]
    }
   ],
   "source": [
    "print (data[0]['company'],\n",
    "      data[0]['company_url'],\n",
    "      data[0]['how_to_apply'],\n",
    "    data[0]['created_at'], sep='\\n')"
   ]
  },
  {
   "cell_type": "markdown",
   "metadata": {},
   "source": [
    "## 5. Import `SQLite` and create a database."
   ]
  },
  {
   "cell_type": "code",
   "execution_count": 5,
   "metadata": {
    "collapsed": true
   },
   "outputs": [],
   "source": [
    "import sqlite3\n",
    "db=sqlite3.connect(\"database.db\",detect_types=sqlite3.PARSE_DECLTYPES)\n",
    "cursor=db.cursor()"
   ]
  },
  {
   "cell_type": "markdown",
   "metadata": {},
   "source": [
    "## 6. Create 2 tables: `Company` and `Job`. Pay special attention on primary and foreign keys as well as unique and non-nullable columns. Make sure you store `created_at` as the equivalent of Python `datetime` and not `string`.\n"
   ]
  },
  {
   "cell_type": "code",
   "execution_count": 14,
   "metadata": {
    "collapsed": false
   },
   "outputs": [],
   "source": [
    "cursor.execute('CREATE TABLE IF NOT EXISTS company(company TEXT PRIMARY KEY,company_url TEXT,company_logo)')\n",
    "db.commit()"
   ]
  },
  {
   "cell_type": "code",
   "execution_count": 7,
   "metadata": {
    "collapsed": false
   },
   "outputs": [],
   "source": [
    "cursor.execute('CREATE TABLE IF NOT EXISTS job(id TEXT PRIMARY KEY NOT NULL,title TEXT,description TEXT,company TEXT,how_to_apply TEXT, location TEXT, created_at TIMESTAMP, type TEXT,FOREIGN KEY (company) REFERENCES company(company))')\n",
    "db.commit() "
   ]
  },
  {
   "cell_type": "code",
   "execution_count": 10,
   "metadata": {
    "collapsed": false
   },
   "outputs": [
    {
     "data": {
      "text/plain": [
       "<function Connection.commit>"
      ]
     },
     "execution_count": 10,
     "metadata": {},
     "output_type": "execute_result"
    }
   ],
   "source": [
    "#db.close()\n",
    "#cursor.execute('DROP TABLE company')\n",
    "#db.commit"
   ]
  },
  {
   "cell_type": "code",
   "execution_count": 6,
   "metadata": {
    "collapsed": false
   },
   "outputs": [
    {
     "data": {
      "text/plain": [
       "<function Connection.commit>"
      ]
     },
     "execution_count": 6,
     "metadata": {},
     "output_type": "execute_result"
    }
   ],
   "source": [
    "#cursor.execute('DROP TABLE job')\n",
    "#db.commit"
   ]
  },
  {
   "cell_type": "markdown",
   "metadata": {},
   "source": [
    "## 7. Store the data you got from the API request in the database. Make sure you create a transaction (i.e., if an error occurs while saving a job's location data the database should rollback on all statements regarding that job)."
   ]
  },
  {
   "cell_type": "code",
   "execution_count": 16,
   "metadata": {
    "collapsed": false
   },
   "outputs": [],
   "source": [
    "for i in range(len(data)):\n",
    "    comp=data[i]['company'] or \"\"\n",
    "    url=data[i]['company_url'] or \"\"\n",
    "    logo=data[i]['company_logo'] or \"\"\n",
    "    cursor.execute(\"INSERT OR IGNORE INTO company(company,company_url,company_logo) VALUES ('\"+comp+\"','\"+url+\"','\"+logo+\"')\")\n",
    "db.commit()\n",
    "# I got the follwing error: 'Can't convert 'NoneType' object to str implicitly', so I add an empty value. Is there another way to solve it?"
   ]
  },
  {
   "cell_type": "code",
   "execution_count": 8,
   "metadata": {
    "collapsed": false
   },
   "outputs": [],
   "source": [
    "import datetime\n",
    "for i in range(len(data)):\n",
    "    comp=data[i]['company'] or \"\"\n",
    "    iid=data[i]['id'] or \"\"\n",
    "    ti=data[i]['title'] or \"\"\n",
    "    loc=data[i]['location'] or \"\"\n",
    "    desc=data[i]['description'] or \"\"\n",
    "    apply=data[i]['how_to_apply'] or \"\"\n",
    "    cr=data[i]['created_at']\n",
    "    ty=data[i]['type'] or \"\"             \n",
    "    cursor.execute(\"INSERT OR IGNORE INTO job(id,title,description,company,how_to_apply,location,created_at,type) VALUES ('\"+iid+\"','\"+ti+\"','\"+desc+\"','\"+comp+\"','\"+apply+\"','\"+loc+\"','\"+cr+\"','\"+ty+\"')\")\n",
    "db.commit()"
   ]
  },
  {
   "cell_type": "markdown",
   "metadata": {},
   "source": [
    "## 8. Execute simple SQL queries in each table and make sure everything looks as was intended."
   ]
  },
  {
   "cell_type": "code",
   "execution_count": 9,
   "metadata": {
    "collapsed": false
   },
   "outputs": [
    {
     "name": "stdout",
     "output_type": "stream",
     "text": [
      "('ASML', 1)\n",
      "('AgriCircle', 1)\n",
      "('Booking.com BV', 1)\n",
      "('Booz Allen Hamilton', 1)\n",
      "('Collide.com', 1)\n",
      "('Contiamo', 1)\n",
      "('FlashX', 1)\n",
      "('GitHub', 1)\n",
      "('Motive Interactive', 1)\n",
      "('Nedap', 1)\n",
      "('SugarCRM', 1)\n",
      "('Torsh Inc', 1)\n",
      "('Werk', 1)\n",
      "('YNAB (You Need A Budget)', 1)\n"
     ]
    }
   ],
   "source": [
    "cursor.execute('SELECT company, count(*) as count FROM company group by company')\n",
    "rows=cursor.fetchall()\n",
    "\n",
    "for row in rows:\n",
    "    print(row)\n"
   ]
  },
  {
   "cell_type": "code",
   "execution_count": 10,
   "metadata": {
    "collapsed": false,
    "scrolled": true
   },
   "outputs": [
    {
     "name": "stdout",
     "output_type": "stream",
     "text": [
      "('ASML', 'Thu Mar 30 07:58:58 UTC 2017', 1, 'Veldhoven')\n",
      "('AgriCircle', 'Fri Mar 31 13:46:51 UTC 2017', 1, 'Poland - Remote')\n",
      "('Booking.com BV', 'Fri Mar 31 16:36:00 UTC 2017', 6, 'Amsterdam, the Netherlands')\n",
      "('Booz Allen Hamilton', 'Thu Mar 30 22:30:23 UTC 2017', 31, 'Westborough, MA')\n",
      "('Contiamo', 'Thu Mar 30 10:01:37 UTC 2017', 1, 'Berlin')\n",
      "('European Stability Mechanism (ESM)', 'Mon Apr 03 12:52:31 UTC 2017', 1, 'Luxembourg')\n",
      "('GitHub', 'Wed Mar 29 23:34:31 UTC 2017', 2, 'Remote- Australia')\n",
      "('Motive Interactive', 'Sat Apr 01 02:49:04 UTC 2017', 1, 'San Diego, CA, US')\n",
      "('Nedap', 'Fri Mar 31 07:45:21 UTC 2017', 1, 'Remote / Netherlands')\n",
      "('Routehappy', 'Mon Apr 03 17:06:38 UTC 2017', 1, 'New York City')\n",
      "('SugarCRM', 'Wed Mar 29 21:43:39 UTC 2017', 1, 'Cupertino, CA')\n",
      "('Torsh Inc', 'Sun Apr 02 19:38:38 UTC 2017', 1, 'New Orleans')\n",
      "('Werk', 'Sun Apr 02 19:33:05 UTC 2017', 1, 'New York')\n",
      "('YNAB (You Need A Budget)', 'Thu Mar 30 20:40:01 UTC 2017', 1, 'Remote - Anywhere')\n"
     ]
    }
   ],
   "source": [
    "cursor.execute('SELECT company,max(created_at) last_job_from,count(*),max(location) FROM job group by company')\n",
    "rows=cursor.fetchall()\n",
    "\n",
    "for row in rows:\n",
    "    print(row)"
   ]
  },
  {
   "cell_type": "markdown",
   "metadata": {},
   "source": [
    "## 9. Create queries the following queries:\n",
    " * Find out how many jobs have the phrase `Data Science` and how many have the word `Python` in the description.\n",
    " * Find out how many were created in the past 7 days.\n",
    " * Find out how many jobs are located in `California` and which companies those are with."
   ]
  },
  {
   "cell_type": "markdown",
   "metadata": {},
   "source": [
    "**The output from our queries should be similar to this:**\n",
    "\n",
    "There are 27 jobs with the 'Data Science' term, and 40% of them have 'Python' in the description.\n",
    "\n",
    "22% of them have been created in the past 7 days.\n",
    "\n",
    "2 of those are in California. The companies with those jobs are: ['Carbon Black, Inc.', 'Kaggle']"
   ]
  },
  {
   "cell_type": "code",
   "execution_count": 11,
   "metadata": {
    "collapsed": false
   },
   "outputs": [
    {
     "name": "stdout",
     "output_type": "stream",
     "text": [
      "There are 3 jobs with the 'Data Science' term, and 33.33% of them have 'Python' in the description.\n"
     ]
    }
   ],
   "source": [
    "search='Data Science'\n",
    "cursor.execute(\"SELECT company,location,description FROM job where description like '%{0}%'\".format(search,))\n",
    "rows=cursor.fetchall()\n",
    "#with PYthon\n",
    "search2='Python'\n",
    "cursor.execute(\"SELECT count(*) FROM job where description like '%{0}%' and description like '%{1}%'\".format(search,search2))\n",
    "rows2=cursor.fetchone()\n",
    "\n",
    "print(\"There are {0} jobs with the '{1}' term, and {2}% of them have '{3}' in the description.\".format(len(rows) , search , round(rows2[0]/len(rows)*100,2) , search2))\n"
   ]
  },
  {
   "cell_type": "code",
   "execution_count": 14,
   "metadata": {
    "collapsed": false
   },
   "outputs": [
    {
     "ename": "ValueError",
     "evalue": "too many values to unpack (expected 2)",
     "output_type": "error",
     "traceback": [
      "\u001b[0;31m---------------------------------------------------------------------------\u001b[0m",
      "\u001b[0;31mValueError\u001b[0m                                Traceback (most recent call last)",
      "\u001b[0;32m<ipython-input-14-9546195acbce>\u001b[0m in \u001b[0;36m<module>\u001b[0;34m()\u001b[0m\n\u001b[1;32m      3\u001b[0m \u001b[0;31m#rows=cursor.fetchall()\u001b[0m\u001b[0;34m\u001b[0m\u001b[0;34m\u001b[0m\u001b[0m\n\u001b[1;32m      4\u001b[0m \u001b[0;31m#it is not working!!!!!!!\u001b[0m\u001b[0;34m\u001b[0m\u001b[0;34m\u001b[0m\u001b[0m\n\u001b[0;32m----> 5\u001b[0;31m \u001b[0mcursor\u001b[0m\u001b[0;34m.\u001b[0m\u001b[0mexecute\u001b[0m\u001b[0;34m(\u001b[0m\u001b[0;34m\"SELECT company,created_at FROM job ORDER by created_at asc\"\u001b[0m\u001b[0;34m)\u001b[0m\u001b[0;34m\u001b[0m\u001b[0m\n\u001b[0m\u001b[1;32m      6\u001b[0m \u001b[0mrows\u001b[0m\u001b[0;34m=\u001b[0m\u001b[0mcursor\u001b[0m\u001b[0;34m.\u001b[0m\u001b[0mfetchone\u001b[0m\u001b[0;34m(\u001b[0m\u001b[0;34m)\u001b[0m\u001b[0;34m\u001b[0m\u001b[0m\n\u001b[1;32m      7\u001b[0m \u001b[0;34m\u001b[0m\u001b[0m\n",
      "\u001b[0;32m/Users/adribadri/anaconda/lib/python3.5/sqlite3/dbapi2.py\u001b[0m in \u001b[0;36mconvert_timestamp\u001b[0;34m(val)\u001b[0m\n\u001b[1;32m     65\u001b[0m \u001b[0;34m\u001b[0m\u001b[0m\n\u001b[1;32m     66\u001b[0m     \u001b[0;32mdef\u001b[0m \u001b[0mconvert_timestamp\u001b[0m\u001b[0;34m(\u001b[0m\u001b[0mval\u001b[0m\u001b[0;34m)\u001b[0m\u001b[0;34m:\u001b[0m\u001b[0;34m\u001b[0m\u001b[0m\n\u001b[0;32m---> 67\u001b[0;31m         \u001b[0mdatepart\u001b[0m\u001b[0;34m,\u001b[0m \u001b[0mtimepart\u001b[0m \u001b[0;34m=\u001b[0m \u001b[0mval\u001b[0m\u001b[0;34m.\u001b[0m\u001b[0msplit\u001b[0m\u001b[0;34m(\u001b[0m\u001b[0;34mb\" \"\u001b[0m\u001b[0;34m)\u001b[0m\u001b[0;34m\u001b[0m\u001b[0m\n\u001b[0m\u001b[1;32m     68\u001b[0m         \u001b[0myear\u001b[0m\u001b[0;34m,\u001b[0m \u001b[0mmonth\u001b[0m\u001b[0;34m,\u001b[0m \u001b[0mday\u001b[0m \u001b[0;34m=\u001b[0m \u001b[0mmap\u001b[0m\u001b[0;34m(\u001b[0m\u001b[0mint\u001b[0m\u001b[0;34m,\u001b[0m \u001b[0mdatepart\u001b[0m\u001b[0;34m.\u001b[0m\u001b[0msplit\u001b[0m\u001b[0;34m(\u001b[0m\u001b[0;34mb\"-\"\u001b[0m\u001b[0;34m)\u001b[0m\u001b[0;34m)\u001b[0m\u001b[0;34m\u001b[0m\u001b[0m\n\u001b[1;32m     69\u001b[0m         \u001b[0mtimepart_full\u001b[0m \u001b[0;34m=\u001b[0m \u001b[0mtimepart\u001b[0m\u001b[0;34m.\u001b[0m\u001b[0msplit\u001b[0m\u001b[0;34m(\u001b[0m\u001b[0;34mb\".\"\u001b[0m\u001b[0;34m)\u001b[0m\u001b[0;34m\u001b[0m\u001b[0m\n",
      "\u001b[0;31mValueError\u001b[0m: too many values to unpack (expected 2)"
     ]
    }
   ],
   "source": [
    "#search='Data Science'\n",
    "#cursor.execute(\"SELECT company,created_at FROM job where created_at-datetime('now')<7\")\n",
    "#rows=cursor.fetchall()\n",
    "#it is not working!!!!!!!\n",
    "cursor.execute(\"SELECT company,created_at FROM job ORDER by created_at asc\")\n",
    "rows=cursor.fetchall()\n",
    "\n",
    "for row in rows:\n",
    "    print(row)"
   ]
  },
  {
   "cell_type": "code",
   "execution_count": 13,
   "metadata": {
    "collapsed": false
   },
   "outputs": [
    {
     "name": "stdout",
     "output_type": "stream",
     "text": [
      "3 of those are in California. The companies with those jobs are:  ['Motive Interactive', 'Booz Allen Hamilton', 'SugarCRM']\n"
     ]
    }
   ],
   "source": [
    "cursor.execute(\"SELECT distinct company FROM job where location like 'California' or location like '% CA%' \")\n",
    "rows=cursor.fetchall()\n",
    "company=[]\n",
    "for row in rows:\n",
    "    company.append(row[0])\n",
    "print(len(rows), \"of those are in California. The companies with those jobs are: \", company)\n"
   ]
  }
 ],
 "metadata": {
  "anaconda-cloud": {},
  "kernelspec": {
   "display_name": "Python [default]",
   "language": "python",
   "name": "python3"
  },
  "language_info": {
   "codemirror_mode": {
    "name": "ipython",
    "version": 3
   },
   "file_extension": ".py",
   "mimetype": "text/x-python",
   "name": "python",
   "nbconvert_exporter": "python",
   "pygments_lexer": "ipython3",
   "version": "3.5.2"
  }
 },
 "nbformat": 4,
 "nbformat_minor": 1
}
